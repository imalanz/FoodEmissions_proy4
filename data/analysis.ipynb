{
 "cells": [
  {
   "cell_type": "code",
   "execution_count": 185,
   "metadata": {},
   "outputs": [
    {
     "ename": "ModuleNotFoundError",
     "evalue": "No module named 'src'",
     "output_type": "error",
     "traceback": [
      "\u001b[1;31m---------------------------------------------------------------------------\u001b[0m",
      "\u001b[1;31mModuleNotFoundError\u001b[0m                       Traceback (most recent call last)",
      "\u001b[1;32md:\\ironhack\\proyectos\\_proy4\\data\\analysis.ipynb Cell 1\u001b[0m in \u001b[0;36m<cell line: 5>\u001b[1;34m()\u001b[0m\n\u001b[0;32m      <a href='vscode-notebook-cell:/d%3A/ironhack/proyectos/_proy4/data/analysis.ipynb#W0sZmlsZQ%3D%3D?line=2'>3</a>\u001b[0m \u001b[39mimport\u001b[39;00m \u001b[39mwarnings\u001b[39;00m\n\u001b[0;32m      <a href='vscode-notebook-cell:/d%3A/ironhack/proyectos/_proy4/data/analysis.ipynb#W0sZmlsZQ%3D%3D?line=3'>4</a>\u001b[0m warnings\u001b[39m.\u001b[39mfilterwarnings(\u001b[39m\"\u001b[39m\u001b[39mignore\u001b[39m\u001b[39m\"\u001b[39m)\n\u001b[1;32m----> <a href='vscode-notebook-cell:/d%3A/ironhack/proyectos/_proy4/data/analysis.ipynb#W0sZmlsZQ%3D%3D?line=4'>5</a>\u001b[0m \u001b[39mimport\u001b[39;00m \u001b[39msrc\u001b[39;00m\u001b[39m.\u001b[39;00m\u001b[39manalysis\u001b[39;00m \u001b[39mas\u001b[39;00m \u001b[39man\u001b[39;00m\n\u001b[0;32m      <a href='vscode-notebook-cell:/d%3A/ironhack/proyectos/_proy4/data/analysis.ipynb#W0sZmlsZQ%3D%3D?line=5'>6</a>\u001b[0m importlib\u001b[39m.\u001b[39mreload(an)\n",
      "\u001b[1;31mModuleNotFoundError\u001b[0m: No module named 'src'"
     ]
    }
   ],
   "source": [
    "import pandas as pd\n",
    "\n",
    "import warnings\n",
    "warnings.filterwarnings(\"ignore\")\n",
    "import src.analysis as an\n",
    "importlib.reload(an)"
   ]
  },
  {
   "cell_type": "code",
   "execution_count": null,
   "metadata": {},
   "outputs": [],
   "source": [
    "salud y contaminacion\n",
    "worldbank.com para salud\n",
    "income companies."
   ]
  },
  {
   "cell_type": "code",
   "execution_count": 2,
   "metadata": {},
   "outputs": [
    {
     "data": {
      "text/html": [
       "<div>\n",
       "<style scoped>\n",
       "    .dataframe tbody tr th:only-of-type {\n",
       "        vertical-align: middle;\n",
       "    }\n",
       "\n",
       "    .dataframe tbody tr th {\n",
       "        vertical-align: top;\n",
       "    }\n",
       "\n",
       "    .dataframe thead th {\n",
       "        text-align: right;\n",
       "    }\n",
       "</style>\n",
       "<table border=\"1\" class=\"dataframe\">\n",
       "  <thead>\n",
       "    <tr style=\"text-align: right;\">\n",
       "      <th></th>\n",
       "      <th>Order ID</th>\n",
       "      <th>Customer Name</th>\n",
       "      <th>Category</th>\n",
       "      <th>Sub Category</th>\n",
       "      <th>City</th>\n",
       "      <th>Order Date</th>\n",
       "      <th>Region</th>\n",
       "      <th>Sales</th>\n",
       "      <th>Discount</th>\n",
       "      <th>Profit</th>\n",
       "      <th>State</th>\n",
       "    </tr>\n",
       "  </thead>\n",
       "  <tbody>\n",
       "    <tr>\n",
       "      <th>0</th>\n",
       "      <td>OD1</td>\n",
       "      <td>Harish</td>\n",
       "      <td>Oil &amp; Masala</td>\n",
       "      <td>Masalas</td>\n",
       "      <td>Vellore</td>\n",
       "      <td>11-08-2017</td>\n",
       "      <td>North</td>\n",
       "      <td>1254</td>\n",
       "      <td>0.12</td>\n",
       "      <td>401.28</td>\n",
       "      <td>Tamil Nadu</td>\n",
       "    </tr>\n",
       "    <tr>\n",
       "      <th>1</th>\n",
       "      <td>OD2</td>\n",
       "      <td>Sudha</td>\n",
       "      <td>Beverages</td>\n",
       "      <td>Health Drinks</td>\n",
       "      <td>Krishnagiri</td>\n",
       "      <td>11-08-2017</td>\n",
       "      <td>South</td>\n",
       "      <td>749</td>\n",
       "      <td>0.18</td>\n",
       "      <td>149.80</td>\n",
       "      <td>Tamil Nadu</td>\n",
       "    </tr>\n",
       "    <tr>\n",
       "      <th>2</th>\n",
       "      <td>OD3</td>\n",
       "      <td>Hussain</td>\n",
       "      <td>Food Grains</td>\n",
       "      <td>Atta &amp; Flour</td>\n",
       "      <td>Perambalur</td>\n",
       "      <td>06-12-2017</td>\n",
       "      <td>West</td>\n",
       "      <td>2360</td>\n",
       "      <td>0.21</td>\n",
       "      <td>165.20</td>\n",
       "      <td>Tamil Nadu</td>\n",
       "    </tr>\n",
       "    <tr>\n",
       "      <th>3</th>\n",
       "      <td>OD4</td>\n",
       "      <td>Jackson</td>\n",
       "      <td>Fruits &amp; Veggies</td>\n",
       "      <td>Fresh Vegetables</td>\n",
       "      <td>Dharmapuri</td>\n",
       "      <td>10-11-2016</td>\n",
       "      <td>South</td>\n",
       "      <td>896</td>\n",
       "      <td>0.25</td>\n",
       "      <td>89.60</td>\n",
       "      <td>Tamil Nadu</td>\n",
       "    </tr>\n",
       "    <tr>\n",
       "      <th>4</th>\n",
       "      <td>OD5</td>\n",
       "      <td>Ridhesh</td>\n",
       "      <td>Food Grains</td>\n",
       "      <td>Organic Staples</td>\n",
       "      <td>Ooty</td>\n",
       "      <td>10-11-2016</td>\n",
       "      <td>South</td>\n",
       "      <td>2355</td>\n",
       "      <td>0.26</td>\n",
       "      <td>918.45</td>\n",
       "      <td>Tamil Nadu</td>\n",
       "    </tr>\n",
       "    <tr>\n",
       "      <th>...</th>\n",
       "      <td>...</td>\n",
       "      <td>...</td>\n",
       "      <td>...</td>\n",
       "      <td>...</td>\n",
       "      <td>...</td>\n",
       "      <td>...</td>\n",
       "      <td>...</td>\n",
       "      <td>...</td>\n",
       "      <td>...</td>\n",
       "      <td>...</td>\n",
       "      <td>...</td>\n",
       "    </tr>\n",
       "    <tr>\n",
       "      <th>9989</th>\n",
       "      <td>OD9990</td>\n",
       "      <td>Sudeep</td>\n",
       "      <td>Eggs, Meat &amp; Fish</td>\n",
       "      <td>Eggs</td>\n",
       "      <td>Madurai</td>\n",
       "      <td>12/24/2015</td>\n",
       "      <td>West</td>\n",
       "      <td>945</td>\n",
       "      <td>0.16</td>\n",
       "      <td>359.10</td>\n",
       "      <td>Tamil Nadu</td>\n",
       "    </tr>\n",
       "    <tr>\n",
       "      <th>9990</th>\n",
       "      <td>OD9991</td>\n",
       "      <td>Alan</td>\n",
       "      <td>Bakery</td>\n",
       "      <td>Biscuits</td>\n",
       "      <td>Kanyakumari</td>\n",
       "      <td>07-12-2015</td>\n",
       "      <td>West</td>\n",
       "      <td>1195</td>\n",
       "      <td>0.26</td>\n",
       "      <td>71.70</td>\n",
       "      <td>Tamil Nadu</td>\n",
       "    </tr>\n",
       "    <tr>\n",
       "      <th>9991</th>\n",
       "      <td>OD9992</td>\n",
       "      <td>Ravi</td>\n",
       "      <td>Food Grains</td>\n",
       "      <td>Rice</td>\n",
       "      <td>Bodi</td>\n",
       "      <td>06-06-2017</td>\n",
       "      <td>West</td>\n",
       "      <td>1567</td>\n",
       "      <td>0.16</td>\n",
       "      <td>501.44</td>\n",
       "      <td>Tamil Nadu</td>\n",
       "    </tr>\n",
       "    <tr>\n",
       "      <th>9992</th>\n",
       "      <td>OD9993</td>\n",
       "      <td>Peer</td>\n",
       "      <td>Oil &amp; Masala</td>\n",
       "      <td>Spices</td>\n",
       "      <td>Pudukottai</td>\n",
       "      <td>10/16/2018</td>\n",
       "      <td>West</td>\n",
       "      <td>1659</td>\n",
       "      <td>0.15</td>\n",
       "      <td>597.24</td>\n",
       "      <td>Tamil Nadu</td>\n",
       "    </tr>\n",
       "    <tr>\n",
       "      <th>9993</th>\n",
       "      <td>OD9994</td>\n",
       "      <td>Ganesh</td>\n",
       "      <td>Food Grains</td>\n",
       "      <td>Atta &amp; Flour</td>\n",
       "      <td>Tirunelveli</td>\n",
       "      <td>4/17/2018</td>\n",
       "      <td>West</td>\n",
       "      <td>1034</td>\n",
       "      <td>0.28</td>\n",
       "      <td>165.44</td>\n",
       "      <td>Tamil Nadu</td>\n",
       "    </tr>\n",
       "  </tbody>\n",
       "</table>\n",
       "<p>9994 rows × 11 columns</p>\n",
       "</div>"
      ],
      "text/plain": [
       "     Order ID Customer Name           Category      Sub Category         City  \\\n",
       "0         OD1        Harish       Oil & Masala           Masalas      Vellore   \n",
       "1         OD2         Sudha          Beverages     Health Drinks  Krishnagiri   \n",
       "2         OD3       Hussain        Food Grains      Atta & Flour   Perambalur   \n",
       "3         OD4       Jackson   Fruits & Veggies  Fresh Vegetables   Dharmapuri   \n",
       "4         OD5       Ridhesh        Food Grains   Organic Staples         Ooty   \n",
       "...       ...           ...                ...               ...          ...   \n",
       "9989   OD9990        Sudeep  Eggs, Meat & Fish              Eggs      Madurai   \n",
       "9990   OD9991          Alan             Bakery          Biscuits  Kanyakumari   \n",
       "9991   OD9992          Ravi        Food Grains              Rice         Bodi   \n",
       "9992   OD9993          Peer       Oil & Masala            Spices   Pudukottai   \n",
       "9993   OD9994        Ganesh        Food Grains      Atta & Flour  Tirunelveli   \n",
       "\n",
       "      Order Date Region  Sales  Discount  Profit       State  \n",
       "0     11-08-2017  North   1254      0.12  401.28  Tamil Nadu  \n",
       "1     11-08-2017  South    749      0.18  149.80  Tamil Nadu  \n",
       "2     06-12-2017   West   2360      0.21  165.20  Tamil Nadu  \n",
       "3     10-11-2016  South    896      0.25   89.60  Tamil Nadu  \n",
       "4     10-11-2016  South   2355      0.26  918.45  Tamil Nadu  \n",
       "...          ...    ...    ...       ...     ...         ...  \n",
       "9989  12/24/2015   West    945      0.16  359.10  Tamil Nadu  \n",
       "9990  07-12-2015   West   1195      0.26   71.70  Tamil Nadu  \n",
       "9991  06-06-2017   West   1567      0.16  501.44  Tamil Nadu  \n",
       "9992  10/16/2018   West   1659      0.15  597.24  Tamil Nadu  \n",
       "9993   4/17/2018   West   1034      0.28  165.44  Tamil Nadu  \n",
       "\n",
       "[9994 rows x 11 columns]"
      ]
     },
     "execution_count": 2,
     "metadata": {},
     "output_type": "execute_result"
    }
   ],
   "source": [
    "super = pd.read_csv(\"D:\\ironhack\\proyectos\\_proy4\\csv\\Supermart_Grocery_Sales.csv\")\n",
    "super"
   ]
  },
  {
   "attachments": {},
   "cell_type": "markdown",
   "metadata": {},
   "source": [
    "IMPORT Food emissin data set."
   ]
  },
  {
   "cell_type": "code",
   "execution_count": 227,
   "metadata": {},
   "outputs": [
    {
     "data": {
      "text/html": [
       "<div>\n",
       "<style scoped>\n",
       "    .dataframe tbody tr th:only-of-type {\n",
       "        vertical-align: middle;\n",
       "    }\n",
       "\n",
       "    .dataframe tbody tr th {\n",
       "        vertical-align: top;\n",
       "    }\n",
       "\n",
       "    .dataframe thead th {\n",
       "        text-align: right;\n",
       "    }\n",
       "</style>\n",
       "<table border=\"1\" class=\"dataframe\">\n",
       "  <thead>\n",
       "    <tr style=\"text-align: right;\">\n",
       "      <th></th>\n",
       "      <th>Food product</th>\n",
       "      <th>Land use change</th>\n",
       "      <th>Animal Feed</th>\n",
       "      <th>Farm</th>\n",
       "      <th>Processing</th>\n",
       "      <th>Transport</th>\n",
       "      <th>Packging</th>\n",
       "      <th>Retail</th>\n",
       "      <th>Total_emissions</th>\n",
       "      <th>Eutrophying emissions per 1000kcal (gPO₄eq per 1000kcal)</th>\n",
       "      <th>...</th>\n",
       "      <th>Freshwater withdrawals per 100g protein (liters per 100g protein)</th>\n",
       "      <th>Freshwater withdrawals per kilogram (liters per kilogram)</th>\n",
       "      <th>Greenhouse gas emissions per 1000kcal (kgCO₂eq per 1000kcal)</th>\n",
       "      <th>Greenhouse gas emissions per 100g protein (kgCO₂eq per 100g protein)</th>\n",
       "      <th>Land use per 1000kcal (m² per 1000kcal)</th>\n",
       "      <th>Land use per kilogram (m² per kilogram)</th>\n",
       "      <th>Land use per 100g protein (m² per 100g protein)</th>\n",
       "      <th>Scarcity-weighted water use per kilogram (liters per kilogram)</th>\n",
       "      <th>Scarcity-weighted water use per 100g protein (liters per 100g protein)</th>\n",
       "      <th>Scarcity-weighted water use per 1000kcal (liters per 1000 kilocalories)</th>\n",
       "    </tr>\n",
       "  </thead>\n",
       "  <tbody>\n",
       "    <tr>\n",
       "      <th>30</th>\n",
       "      <td>Other Fruit</td>\n",
       "      <td>0.1</td>\n",
       "      <td>0.0</td>\n",
       "      <td>0.4</td>\n",
       "      <td>0.0</td>\n",
       "      <td>0.2</td>\n",
       "      <td>0.0</td>\n",
       "      <td>0.0</td>\n",
       "      <td>0.7</td>\n",
       "      <td>NaN</td>\n",
       "      <td>...</td>\n",
       "      <td>NaN</td>\n",
       "      <td>153.5</td>\n",
       "      <td>NaN</td>\n",
       "      <td>NaN</td>\n",
       "      <td>NaN</td>\n",
       "      <td>0.89</td>\n",
       "      <td>NaN</td>\n",
       "      <td>9533.1</td>\n",
       "      <td>NaN</td>\n",
       "      <td>NaN</td>\n",
       "    </tr>\n",
       "  </tbody>\n",
       "</table>\n",
       "<p>1 rows × 23 columns</p>\n",
       "</div>"
      ],
      "text/plain": [
       "   Food product  Land use change  Animal Feed  Farm  Processing  Transport  \\\n",
       "30  Other Fruit              0.1          0.0   0.4         0.0        0.2   \n",
       "\n",
       "    Packging  Retail  Total_emissions  \\\n",
       "30       0.0     0.0              0.7   \n",
       "\n",
       "    Eutrophying emissions per 1000kcal (gPO₄eq per 1000kcal)  ...  \\\n",
       "30                                                NaN         ...   \n",
       "\n",
       "    Freshwater withdrawals per 100g protein (liters per 100g protein)  \\\n",
       "30                                                NaN                   \n",
       "\n",
       "    Freshwater withdrawals per kilogram (liters per kilogram)  \\\n",
       "30                                              153.5           \n",
       "\n",
       "    Greenhouse gas emissions per 1000kcal (kgCO₂eq per 1000kcal)  \\\n",
       "30                                                NaN              \n",
       "\n",
       "    Greenhouse gas emissions per 100g protein (kgCO₂eq per 100g protein)  \\\n",
       "30                                                NaN                      \n",
       "\n",
       "    Land use per 1000kcal (m² per 1000kcal)  \\\n",
       "30                                      NaN   \n",
       "\n",
       "    Land use per kilogram (m² per kilogram)  \\\n",
       "30                                     0.89   \n",
       "\n",
       "    Land use per 100g protein (m² per 100g protein)  \\\n",
       "30                                              NaN   \n",
       "\n",
       "    Scarcity-weighted water use per kilogram (liters per kilogram)  \\\n",
       "30                                             9533.1                \n",
       "\n",
       "    Scarcity-weighted water use per 100g protein (liters per 100g protein)  \\\n",
       "30                                                NaN                        \n",
       "\n",
       "    Scarcity-weighted water use per 1000kcal (liters per 1000 kilocalories)  \n",
       "30                                                NaN                        \n",
       "\n",
       "[1 rows x 23 columns]"
      ]
     },
     "execution_count": 227,
     "metadata": {},
     "output_type": "execute_result"
    }
   ],
   "source": [
    "food_emisions = pd.read_csv(\"D:\\ironhack\\proyectos\\_proy4\\csv\\Food_Production.csv\")\n",
    "food_emisions.sample()"
   ]
  },
  {
   "cell_type": "code",
   "execution_count": 228,
   "metadata": {},
   "outputs": [
    {
     "data": {
      "text/plain": [
       "Food product                                                                0\n",
       "Land use change                                                             0\n",
       "Animal Feed                                                                 0\n",
       "Farm                                                                        0\n",
       "Processing                                                                  0\n",
       "Transport                                                                   0\n",
       "Packging                                                                    0\n",
       "Retail                                                                      0\n",
       "Total_emissions                                                             0\n",
       "Eutrophying emissions per 1000kcal (gPO₄eq per 1000kcal)                   10\n",
       "Eutrophying emissions per kilogram (gPO₄eq per kilogram)                    5\n",
       "Eutrophying emissions per 100g protein (gPO₄eq per 100 grams protein)      16\n",
       "Freshwater withdrawals per 1000kcal (liters per 1000kcal)                  13\n",
       "Freshwater withdrawals per 100g protein (liters per 100g protein)          17\n",
       "Freshwater withdrawals per kilogram (liters per kilogram)                   5\n",
       "Greenhouse gas emissions per 1000kcal (kgCO₂eq per 1000kcal)               10\n",
       "Greenhouse gas emissions per 100g protein (kgCO₂eq per 100g protein)       16\n",
       "Land use per 1000kcal (m² per 1000kcal)                                    10\n",
       "Land use per kilogram (m² per kilogram)                                     5\n",
       "Land use per 100g protein (m² per 100g protein)                            16\n",
       "Scarcity-weighted water use per kilogram (liters per kilogram)              5\n",
       "Scarcity-weighted water use per 100g protein (liters per 100g protein)     17\n",
       "Scarcity-weighted water use per 1000kcal (liters per 1000 kilocalories)    13\n",
       "dtype: int64"
      ]
     },
     "execution_count": 228,
     "metadata": {},
     "output_type": "execute_result"
    }
   ],
   "source": [
    "food_emisions.isnull().sum()"
   ]
  },
  {
   "attachments": {},
   "cell_type": "markdown",
   "metadata": {},
   "source": []
  },
  {
   "cell_type": "code",
   "execution_count": null,
   "metadata": {},
   "outputs": [],
   "source": [
    "#Change names of columns.\n",
    "food_emisions.rename(columns= {0: 2021, 1:\"Area\", 2:\"Item\"}, inplace = True)"
   ]
  },
  {
   "cell_type": "code",
   "execution_count": null,
   "metadata": {},
   "outputs": [],
   "source": [
    "print(list(food_emisions[\"Food product\"]))"
   ]
  },
  {
   "cell_type": "code",
   "execution_count": null,
   "metadata": {},
   "outputs": [],
   "source": []
  },
  {
   "cell_type": "code",
   "execution_count": null,
   "metadata": {},
   "outputs": [],
   "source": []
  },
  {
   "attachments": {},
   "cell_type": "markdown",
   "metadata": {},
   "source": [
    "IMPORT Area data set."
   ]
  },
  {
   "cell_type": "code",
   "execution_count": 187,
   "metadata": {},
   "outputs": [
    {
     "name": "stderr",
     "output_type": "stream",
     "text": [
      "Skipping line 22545: unexpected end of data\n"
     ]
    },
    {
     "data": {
      "text/html": [
       "<div>\n",
       "<style scoped>\n",
       "    .dataframe tbody tr th:only-of-type {\n",
       "        vertical-align: middle;\n",
       "    }\n",
       "\n",
       "    .dataframe tbody tr th {\n",
       "        vertical-align: top;\n",
       "    }\n",
       "\n",
       "    .dataframe thead th {\n",
       "        text-align: right;\n",
       "    }\n",
       "</style>\n",
       "<table border=\"1\" class=\"dataframe\">\n",
       "  <thead>\n",
       "    <tr style=\"text-align: right;\">\n",
       "      <th></th>\n",
       "      <th>Domain</th>\n",
       "      <th>Area</th>\n",
       "      <th>Element</th>\n",
       "      <th>Item</th>\n",
       "      <th>Year</th>\n",
       "      <th>Unit</th>\n",
       "      <th>Value</th>\n",
       "    </tr>\n",
       "  </thead>\n",
       "  <tbody>\n",
       "    <tr>\n",
       "      <th>1784</th>\n",
       "      <td>Crops and livestock products</td>\n",
       "      <td>Argentina</td>\n",
       "      <td>Area harvested</td>\n",
       "      <td>Peas, dry</td>\n",
       "      <td>2012</td>\n",
       "      <td>ha</td>\n",
       "      <td>100000</td>\n",
       "    </tr>\n",
       "  </tbody>\n",
       "</table>\n",
       "</div>"
      ],
      "text/plain": [
       "                            Domain       Area         Element       Item  \\\n",
       "1784  Crops and livestock products  Argentina  Area harvested  Peas, dry   \n",
       "\n",
       "      Year Unit   Value  \n",
       "1784  2012   ha  100000  "
      ]
     },
     "execution_count": 187,
     "metadata": {},
     "output_type": "execute_result"
    }
   ],
   "source": [
    "area = pd.read_csv(\"D:\\ironhack\\proyectos\\_proy4\\csv\\\\area_harvested_1.csv\", engine=\"python\", error_bad_lines=False)\n",
    "area.sample()"
   ]
  },
  {
   "cell_type": "code",
   "execution_count": 188,
   "metadata": {},
   "outputs": [],
   "source": [
    "# iterate 2010\n",
    "_2010 = {index:[row[6],row[1],row[3]] for index, row in area.iterrows() if row[4] == 2010}\n",
    "df2010 = pd.DataFrame.from_dict(_2010, orient=\"index\")\n",
    "df2010.rename(columns= {0: 2010, 1:\"Area\", 2:\"Item\"}, inplace = True)"
   ]
  },
  {
   "cell_type": "code",
   "execution_count": 191,
   "metadata": {},
   "outputs": [],
   "source": [
    "# iterate 2011\n",
    "_2011 = {index:[row[6],row[1],row[3]] for index, row in area.iterrows() if row[4] == 2011}\n",
    "df2011 = pd.DataFrame.from_dict(_2011, orient=\"index\")\n",
    "df2011.rename(columns= {0: 2011, 1:\"Area\", 2:\"Item\"}, inplace = True)"
   ]
  },
  {
   "cell_type": "code",
   "execution_count": 192,
   "metadata": {},
   "outputs": [],
   "source": [
    "# iterate 2012\n",
    "_2012 = {index:[row[6],row[1],row[3]] for index, row in area.iterrows() if row[4] == 2012}\n",
    "df2012 = pd.DataFrame.from_dict(_2012, orient=\"index\")\n",
    "df2012.rename(columns= {0: 2012, 1:\"Area\", 2:\"Item\"}, inplace = True)"
   ]
  },
  {
   "cell_type": "code",
   "execution_count": 193,
   "metadata": {},
   "outputs": [],
   "source": [
    "# iterate 2013\n",
    "_2013 = {index:[row[6],row[1],row[3]] for index, row in area.iterrows() if row[4] == 2013}\n",
    "df2013 = pd.DataFrame.from_dict(_2013, orient=\"index\")\n",
    "df2013.rename(columns= {0: 2013, 1:\"Area\", 2:\"Item\"}, inplace = True)"
   ]
  },
  {
   "cell_type": "code",
   "execution_count": 194,
   "metadata": {},
   "outputs": [],
   "source": [
    "# iterate 2014\n",
    "_2014 = {index:[row[6],row[1],row[3]] for index, row in area.iterrows() if row[4] == 2014}\n",
    "df2014 = pd.DataFrame.from_dict(_2014, orient=\"index\")\n",
    "df2014.rename(columns= {0: 2014, 1:\"Area\", 2:\"Item\"}, inplace = True)"
   ]
  },
  {
   "cell_type": "code",
   "execution_count": 195,
   "metadata": {},
   "outputs": [],
   "source": [
    "# iterate 2015\n",
    "_2015 = {index:[row[6],row[1],row[3]] for index, row in area.iterrows() if row[4] == 2015}\n",
    "df2015 = pd.DataFrame.from_dict(_2015, orient=\"index\")\n",
    "df2015.rename(columns= {0: 2015, 1:\"Area\", 2:\"Item\"}, inplace = True)"
   ]
  },
  {
   "cell_type": "code",
   "execution_count": 196,
   "metadata": {},
   "outputs": [],
   "source": [
    "# iterate 2016\n",
    "_2016 = {index:[row[6],row[1],row[3]] for index, row in area.iterrows() if row[4] == 2016}\n",
    "df2016 = pd.DataFrame.from_dict(_2016, orient=\"index\")\n",
    "df2016.rename(columns= {0: 2016, 1:\"Area\", 2:\"Item\"}, inplace = True)"
   ]
  },
  {
   "cell_type": "code",
   "execution_count": 197,
   "metadata": {},
   "outputs": [],
   "source": [
    "# iterate 2017\n",
    "_2017 = {index:[row[6],row[1],row[3]] for index, row in area.iterrows() if row[4] == 2017}\n",
    "df2017 = pd.DataFrame.from_dict(_2017, orient=\"index\")\n",
    "df2017.rename(columns= {0: 2017, 1:\"Area\", 2:\"Item\"}, inplace = True)"
   ]
  },
  {
   "cell_type": "code",
   "execution_count": 198,
   "metadata": {},
   "outputs": [],
   "source": [
    "# iterate 2018\n",
    "_2018 = {index:[row[6],row[1],row[3]] for index, row in area.iterrows() if row[4] == 2018}\n",
    "df2018 = pd.DataFrame.from_dict(_2018, orient=\"index\")\n",
    "df2018.rename(columns= {0: 2018, 1:\"Area\", 2:\"Item\"}, inplace = True)"
   ]
  },
  {
   "cell_type": "code",
   "execution_count": 199,
   "metadata": {},
   "outputs": [],
   "source": [
    "# iterate 2019\n",
    "_2019 = {index:[row[6],row[1],row[3]] for index, row in area.iterrows() if row[4] == 2019}\n",
    "df2019 = pd.DataFrame.from_dict(_2019, orient=\"index\")\n",
    "df2019.rename(columns= {0: 2019, 1:\"Area\", 2:\"Item\"}, inplace = True)"
   ]
  },
  {
   "cell_type": "code",
   "execution_count": 200,
   "metadata": {},
   "outputs": [],
   "source": [
    "# iterate 2020\n",
    "_2020 = {index:[row[6],row[1],row[3]] for index, row in area.iterrows() if row[4] == 2020}\n",
    "df2020 = pd.DataFrame.from_dict(_2020, orient=\"index\")\n",
    "df2020.rename(columns= {0: 2020, 1:\"Area\", 2:\"Item\"}, inplace = True)"
   ]
  },
  {
   "cell_type": "code",
   "execution_count": 201,
   "metadata": {},
   "outputs": [],
   "source": [
    "# iterate 2021\n",
    "_2021 = {index:[row[6],row[1],row[3]] for index, row in area.iterrows() if row[4] == 2021}\n",
    "df2021 = pd.DataFrame.from_dict(_2021, orient=\"index\")\n",
    "df2021.rename(columns= {0: 2021, 1:\"Area\", 2:\"Item\"}, inplace = True)"
   ]
  },
  {
   "cell_type": "code",
   "execution_count": 203,
   "metadata": {},
   "outputs": [],
   "source": [
    "# Drop columns.\n",
    "area.drop(columns=[\"Domain\", \"Element\", \"Year\", \"Unit\", \"Value\"],inplace=True)"
   ]
  },
  {
   "cell_type": "code",
   "execution_count": 205,
   "metadata": {},
   "outputs": [],
   "source": [
    "# drop duplicates.\n",
    "area.drop_duplicates(inplace=True)"
   ]
  },
  {
   "cell_type": "code",
   "execution_count": 207,
   "metadata": {},
   "outputs": [],
   "source": [
    "# Merge all df from diferent years to production.\n",
    "area = pd.DataFrame.merge(area, df2010, how=\"left\")"
   ]
  },
  {
   "cell_type": "code",
   "execution_count": 209,
   "metadata": {},
   "outputs": [],
   "source": [
    "area = pd.DataFrame.merge(area, df2011, how=\"left\")"
   ]
  },
  {
   "cell_type": "code",
   "execution_count": 210,
   "metadata": {},
   "outputs": [],
   "source": [
    "area = pd.DataFrame.merge(area, df2012, how=\"left\")"
   ]
  },
  {
   "cell_type": "code",
   "execution_count": 211,
   "metadata": {},
   "outputs": [],
   "source": [
    "area = pd.DataFrame.merge(area, df2013, how=\"left\")"
   ]
  },
  {
   "cell_type": "code",
   "execution_count": 212,
   "metadata": {},
   "outputs": [],
   "source": [
    "area = pd.DataFrame.merge(area, df2014, how=\"left\")"
   ]
  },
  {
   "cell_type": "code",
   "execution_count": 213,
   "metadata": {},
   "outputs": [],
   "source": [
    "area = pd.DataFrame.merge(area, df2015, how=\"left\")"
   ]
  },
  {
   "cell_type": "code",
   "execution_count": 214,
   "metadata": {},
   "outputs": [],
   "source": [
    "area = pd.DataFrame.merge(area, df2016, how=\"left\")"
   ]
  },
  {
   "cell_type": "code",
   "execution_count": 215,
   "metadata": {},
   "outputs": [],
   "source": [
    "area = pd.DataFrame.merge(area, df2017, how=\"left\")"
   ]
  },
  {
   "cell_type": "code",
   "execution_count": 216,
   "metadata": {},
   "outputs": [],
   "source": [
    "area = pd.DataFrame.merge(area, df2018, how=\"left\")"
   ]
  },
  {
   "cell_type": "code",
   "execution_count": 217,
   "metadata": {},
   "outputs": [],
   "source": [
    "area = pd.DataFrame.merge(area, df2019, how=\"left\")"
   ]
  },
  {
   "cell_type": "code",
   "execution_count": 218,
   "metadata": {},
   "outputs": [],
   "source": [
    "area = pd.DataFrame.merge(area, df2020, how=\"left\")"
   ]
  },
  {
   "cell_type": "code",
   "execution_count": 219,
   "metadata": {},
   "outputs": [],
   "source": [
    "area = pd.DataFrame.merge(area, df2021, how=\"left\")"
   ]
  },
  {
   "cell_type": "code",
   "execution_count": 223,
   "metadata": {},
   "outputs": [],
   "source": [
    "# Drop duplicates from item and area columns.\n",
    "area = area.drop_duplicates(subset=[\"Item\", \"Area\"])"
   ]
  },
  {
   "cell_type": "code",
   "execution_count": 224,
   "metadata": {},
   "outputs": [
    {
     "ename": "TypeError",
     "evalue": "'method' object is not subscriptable",
     "output_type": "error",
     "traceback": [
      "\u001b[1;31m---------------------------------------------------------------------------\u001b[0m",
      "\u001b[1;31mTypeError\u001b[0m                                 Traceback (most recent call last)",
      "\u001b[1;32md:\\ironhack\\proyectos\\_proy4\\data\\analysis.ipynb Cell 34\u001b[0m in \u001b[0;36m<cell line: 1>\u001b[1;34m()\u001b[0m\n\u001b[1;32m----> <a href='vscode-notebook-cell:/d%3A/ironhack/proyectos/_proy4/data/analysis.ipynb#Y166sZmlsZQ%3D%3D?line=0'>1</a>\u001b[0m area\u001b[39m.\u001b[39;49mgroupby[\u001b[39m\"\u001b[39;49m\u001b[39mArea\u001b[39;49m\u001b[39m\"\u001b[39;49m]\n",
      "\u001b[1;31mTypeError\u001b[0m: 'method' object is not subscriptable"
     ]
    }
   ],
   "source": [
    "area.groupby[\"Area\"]"
   ]
  },
  {
   "cell_type": "code",
   "execution_count": null,
   "metadata": {},
   "outputs": [],
   "source": []
  },
  {
   "attachments": {},
   "cell_type": "markdown",
   "metadata": {},
   "source": [
    "IMPORT quantity data set."
   ]
  },
  {
   "cell_type": "code",
   "execution_count": 190,
   "metadata": {},
   "outputs": [
    {
     "data": {
      "text/html": [
       "<div>\n",
       "<style scoped>\n",
       "    .dataframe tbody tr th:only-of-type {\n",
       "        vertical-align: middle;\n",
       "    }\n",
       "\n",
       "    .dataframe tbody tr th {\n",
       "        vertical-align: top;\n",
       "    }\n",
       "\n",
       "    .dataframe thead th {\n",
       "        text-align: right;\n",
       "    }\n",
       "</style>\n",
       "<table border=\"1\" class=\"dataframe\">\n",
       "  <thead>\n",
       "    <tr style=\"text-align: right;\">\n",
       "      <th></th>\n",
       "      <th>Domain</th>\n",
       "      <th>Area</th>\n",
       "      <th>Element</th>\n",
       "      <th>Item</th>\n",
       "      <th>Year</th>\n",
       "      <th>Unit</th>\n",
       "      <th>Value</th>\n",
       "    </tr>\n",
       "  </thead>\n",
       "  <tbody>\n",
       "    <tr>\n",
       "      <th>32722</th>\n",
       "      <td>Crops and livestock products</td>\n",
       "      <td>Ghana</td>\n",
       "      <td>Production</td>\n",
       "      <td>Maize (corn)</td>\n",
       "      <td>2013</td>\n",
       "      <td>tonnes</td>\n",
       "      <td>1764477.0</td>\n",
       "    </tr>\n",
       "  </tbody>\n",
       "</table>\n",
       "</div>"
      ],
      "text/plain": [
       "                             Domain   Area     Element          Item  Year  \\\n",
       "32722  Crops and livestock products  Ghana  Production  Maize (corn)  2013   \n",
       "\n",
       "         Unit      Value  \n",
       "32722  tonnes  1764477.0  "
      ]
     },
     "execution_count": 190,
     "metadata": {},
     "output_type": "execute_result"
    }
   ],
   "source": [
    "production = pd.read_csv(\"D:\\ironhack\\proyectos\\_proy4\\csv\\\\production_quantity.csv\")\n",
    "production.sample()"
   ]
  },
  {
   "cell_type": "code",
   "execution_count": null,
   "metadata": {},
   "outputs": [],
   "source": [
    "# Drop columns.\n",
    "production.drop(columns=[\"Domain\", \"Element\"],inplace=True)"
   ]
  },
  {
   "cell_type": "code",
   "execution_count": 140,
   "metadata": {},
   "outputs": [],
   "source": [
    "# iterate 2010\n",
    "_2010 = {index:[row[4],row[0],row[1]] for index, row in production.iterrows() if row[2] == 2010}\n",
    "df2010 = pd.DataFrame.from_dict(_2010, orient=\"index\")\n",
    "df2010.rename(columns= {0: 2010, 1:\"Area\", 2:\"Item\"}, inplace = True)"
   ]
  },
  {
   "cell_type": "code",
   "execution_count": 141,
   "metadata": {},
   "outputs": [],
   "source": [
    "# iterate 2011\n",
    "_2011 = {index:[row[4],row[0],row[1]] for index, row in production.iterrows() if row[2] == 2011}\n",
    "df2011 = pd.DataFrame.from_dict(_2011, orient=\"index\")\n",
    "df2011.rename(columns= {0: 2011, 1:\"Area\", 2:\"Item\"}, inplace = True)"
   ]
  },
  {
   "cell_type": "code",
   "execution_count": 142,
   "metadata": {},
   "outputs": [],
   "source": [
    "# iterate 2012\n",
    "_2012 = {index:[row[4],row[0],row[1]] for index, row in production.iterrows() if row[2] == 2012}\n",
    "df2012 = pd.DataFrame.from_dict(_2012, orient=\"index\")\n",
    "df2012.rename(columns= {0: 2012, 1:\"Area\", 2:\"Item\"}, inplace = True)"
   ]
  },
  {
   "cell_type": "code",
   "execution_count": 143,
   "metadata": {},
   "outputs": [],
   "source": [
    "# iterate 2013\n",
    "_2013 = {index:[row[4],row[0],row[1]] for index, row in production.iterrows() if row[2] == 2013}\n",
    "df2013 = pd.DataFrame.from_dict(_2013, orient=\"index\")\n",
    "df2013.rename(columns= {0: 2013, 1:\"Area\", 2:\"Item\"}, inplace = True)"
   ]
  },
  {
   "cell_type": "code",
   "execution_count": 144,
   "metadata": {},
   "outputs": [],
   "source": [
    "# iterate 2014\n",
    "_2014 = {index:[row[4],row[0],row[1]] for index, row in production.iterrows() if row[2] == 2014}\n",
    "df2014 = pd.DataFrame.from_dict(_2014, orient=\"index\")\n",
    "df2014.rename(columns= {0: 2014, 1:\"Area\", 2:\"Item\"}, inplace = True)"
   ]
  },
  {
   "cell_type": "code",
   "execution_count": 153,
   "metadata": {},
   "outputs": [],
   "source": [
    "# iterate 2015\n",
    "_2015 = {index:[row[4],row[0],row[1]] for index, row in production.iterrows() if row[2] == 2015}\n",
    "df2015 = pd.DataFrame.from_dict(_2015, orient=\"index\")\n",
    "df2015.rename(columns= {0: 2015, 1:\"Area\", 2:\"Item\"}, inplace = True)"
   ]
  },
  {
   "cell_type": "code",
   "execution_count": 154,
   "metadata": {},
   "outputs": [],
   "source": [
    "# iterate 2016\n",
    "_2016 = {index:[row[4],row[0],row[1]] for index, row in production.iterrows() if row[2] == 2016}\n",
    "df2016 = pd.DataFrame.from_dict(_2016, orient=\"index\")\n",
    "df2016.rename(columns= {0: 2016, 1:\"Area\", 2:\"Item\"}, inplace = True)"
   ]
  },
  {
   "cell_type": "code",
   "execution_count": 155,
   "metadata": {},
   "outputs": [],
   "source": [
    "# iterate 2017\n",
    "_2017 = {index:[row[4],row[0],row[1]] for index, row in production.iterrows() if row[2] == 2017}\n",
    "df2017 = pd.DataFrame.from_dict(_2017, orient=\"index\")\n",
    "df2017.rename(columns= {0: 2017, 1:\"Area\", 2:\"Item\"}, inplace = True)"
   ]
  },
  {
   "cell_type": "code",
   "execution_count": 156,
   "metadata": {},
   "outputs": [],
   "source": [
    "# iterate 2018\n",
    "_2018 = {index:[row[4],row[0],row[1]] for index, row in production.iterrows() if row[2] == 2018}\n",
    "df2018 = pd.DataFrame.from_dict(_2018, orient=\"index\")\n",
    "df2018.rename(columns= {0: 2018, 1:\"Area\", 2:\"Item\"}, inplace = True)"
   ]
  },
  {
   "cell_type": "code",
   "execution_count": 157,
   "metadata": {},
   "outputs": [],
   "source": [
    "# iterate 2019\n",
    "_2019 = {index:[row[4],row[0],row[1]] for index, row in production.iterrows() if row[2] == 2019}\n",
    "df2019 = pd.DataFrame.from_dict(_2019, orient=\"index\")\n",
    "df2019.rename(columns= {0: 2019, 1:\"Area\", 2:\"Item\"}, inplace = True)"
   ]
  },
  {
   "cell_type": "code",
   "execution_count": 158,
   "metadata": {},
   "outputs": [],
   "source": [
    "# iterate 2020\n",
    "_2020 = {index:[row[4],row[0],row[1]] for index, row in production.iterrows() if row[2] == 2020}\n",
    "df2020 = pd.DataFrame.from_dict(_2020, orient=\"index\")\n",
    "df2020.rename(columns= {0: 2020, 1:\"Area\", 2:\"Item\"}, inplace = True)"
   ]
  },
  {
   "cell_type": "code",
   "execution_count": 159,
   "metadata": {},
   "outputs": [],
   "source": [
    "# iterate 2021\n",
    "_2021 = {index:[row[4],row[0],row[1]] for index, row in production.iterrows() if row[2] == 2021}\n",
    "df2021 = pd.DataFrame.from_dict(_2021, orient=\"index\")\n",
    "df2021.rename(columns= {0: 2021, 1:\"Area\", 2:\"Item\"}, inplace = True)"
   ]
  },
  {
   "cell_type": "code",
   "execution_count": 160,
   "metadata": {},
   "outputs": [],
   "source": [
    "# Drop columns.\n",
    "production.drop(columns=[\"Year\", \"Value\", \"Unit\",\"Domain\", \"Element\"],inplace=True)"
   ]
  },
  {
   "cell_type": "code",
   "execution_count": 161,
   "metadata": {},
   "outputs": [],
   "source": [
    "# drop duplicates.\n",
    "production.drop_duplicates(inplace=True)"
   ]
  },
  {
   "cell_type": "code",
   "execution_count": 170,
   "metadata": {},
   "outputs": [],
   "source": [
    "# Merge all df from diferent years to production.\n",
    "production = pd.DataFrame.merge(production, df2010, how=\"left\")"
   ]
  },
  {
   "cell_type": "code",
   "execution_count": 171,
   "metadata": {},
   "outputs": [],
   "source": [
    "production = pd.DataFrame.merge(production, df2011, how=\"left\")"
   ]
  },
  {
   "cell_type": "code",
   "execution_count": 172,
   "metadata": {},
   "outputs": [],
   "source": [
    "production = pd.DataFrame.merge(production, df2012, how=\"left\")"
   ]
  },
  {
   "cell_type": "code",
   "execution_count": 173,
   "metadata": {},
   "outputs": [],
   "source": [
    "production = pd.DataFrame.merge(production, df2013, how=\"left\")"
   ]
  },
  {
   "cell_type": "code",
   "execution_count": 174,
   "metadata": {},
   "outputs": [],
   "source": [
    "production = pd.DataFrame.merge(production, df2014, how=\"left\")"
   ]
  },
  {
   "cell_type": "code",
   "execution_count": 177,
   "metadata": {},
   "outputs": [],
   "source": [
    "production = pd.DataFrame.merge(production, df2015, how=\"left\")"
   ]
  },
  {
   "cell_type": "code",
   "execution_count": 178,
   "metadata": {},
   "outputs": [],
   "source": [
    "production = pd.DataFrame.merge(production, df2016, how=\"left\")"
   ]
  },
  {
   "cell_type": "code",
   "execution_count": 179,
   "metadata": {},
   "outputs": [],
   "source": [
    "production = pd.DataFrame.merge(production, df2017, how=\"left\")"
   ]
  },
  {
   "cell_type": "code",
   "execution_count": 180,
   "metadata": {},
   "outputs": [],
   "source": [
    "production = pd.DataFrame.merge(production, df2018, how=\"left\")"
   ]
  },
  {
   "cell_type": "code",
   "execution_count": 181,
   "metadata": {},
   "outputs": [],
   "source": [
    "production = pd.DataFrame.merge(production, df2019, how=\"left\")"
   ]
  },
  {
   "cell_type": "code",
   "execution_count": 182,
   "metadata": {},
   "outputs": [],
   "source": [
    "production = pd.DataFrame.merge(production, df2020, how=\"left\")"
   ]
  },
  {
   "cell_type": "code",
   "execution_count": 183,
   "metadata": {},
   "outputs": [],
   "source": [
    "production = pd.DataFrame.merge(production, df2021, how=\"left\")"
   ]
  },
  {
   "cell_type": "code",
   "execution_count": 184,
   "metadata": {},
   "outputs": [
    {
     "data": {
      "text/html": [
       "<div>\n",
       "<style scoped>\n",
       "    .dataframe tbody tr th:only-of-type {\n",
       "        vertical-align: middle;\n",
       "    }\n",
       "\n",
       "    .dataframe tbody tr th {\n",
       "        vertical-align: top;\n",
       "    }\n",
       "\n",
       "    .dataframe thead th {\n",
       "        text-align: right;\n",
       "    }\n",
       "</style>\n",
       "<table border=\"1\" class=\"dataframe\">\n",
       "  <thead>\n",
       "    <tr style=\"text-align: right;\">\n",
       "      <th></th>\n",
       "      <th>Area</th>\n",
       "      <th>Item</th>\n",
       "      <th>2010</th>\n",
       "      <th>2011</th>\n",
       "      <th>2012</th>\n",
       "      <th>2013</th>\n",
       "      <th>2014</th>\n",
       "      <th>2015</th>\n",
       "      <th>2016</th>\n",
       "      <th>2017</th>\n",
       "      <th>2018</th>\n",
       "      <th>2019</th>\n",
       "      <th>2020</th>\n",
       "      <th>2021</th>\n",
       "    </tr>\n",
       "  </thead>\n",
       "  <tbody>\n",
       "    <tr>\n",
       "      <th>0</th>\n",
       "      <td>Afghanistan</td>\n",
       "      <td>Apples</td>\n",
       "      <td>59850.00</td>\n",
       "      <td>62041.00</td>\n",
       "      <td>70000.00</td>\n",
       "      <td>78597.00</td>\n",
       "      <td>89403.00</td>\n",
       "      <td>89733.00</td>\n",
       "      <td>140903.00</td>\n",
       "      <td>170443.00</td>\n",
       "      <td>217192.00</td>\n",
       "      <td>250324.00</td>\n",
       "      <td>270857.00</td>\n",
       "      <td>292586.58</td>\n",
       "    </tr>\n",
       "    <tr>\n",
       "      <th>1</th>\n",
       "      <td>Afghanistan</td>\n",
       "      <td>Barley</td>\n",
       "      <td>437000.00</td>\n",
       "      <td>305900.00</td>\n",
       "      <td>504000.00</td>\n",
       "      <td>514000.00</td>\n",
       "      <td>521000.00</td>\n",
       "      <td>403000.00</td>\n",
       "      <td>301856.00</td>\n",
       "      <td>94995.00</td>\n",
       "      <td>56781.00</td>\n",
       "      <td>123576.00</td>\n",
       "      <td>127757.00</td>\n",
       "      <td>122692.77</td>\n",
       "    </tr>\n",
       "    <tr>\n",
       "      <th>2</th>\n",
       "      <td>Afghanistan</td>\n",
       "      <td>Hen eggs in shell, fresh</td>\n",
       "      <td>16344.00</td>\n",
       "      <td>17210.00</td>\n",
       "      <td>18000.00</td>\n",
       "      <td>18000.00</td>\n",
       "      <td>18500.00</td>\n",
       "      <td>19833.01</td>\n",
       "      <td>19883.74</td>\n",
       "      <td>20000.00</td>\n",
       "      <td>19905.58</td>\n",
       "      <td>22040.18</td>\n",
       "      <td>22039.10</td>\n",
       "      <td>22248.74</td>\n",
       "    </tr>\n",
       "    <tr>\n",
       "      <th>4098</th>\n",
       "      <td>Afghanistan</td>\n",
       "      <td>Maize (corn)</td>\n",
       "      <td>301000.00</td>\n",
       "      <td>300120.00</td>\n",
       "      <td>310000.00</td>\n",
       "      <td>312000.00</td>\n",
       "      <td>316000.00</td>\n",
       "      <td>316000.00</td>\n",
       "      <td>311646.00</td>\n",
       "      <td>173912.00</td>\n",
       "      <td>106670.00</td>\n",
       "      <td>184671.00</td>\n",
       "      <td>271776.00</td>\n",
       "      <td>180000.00</td>\n",
       "    </tr>\n",
       "    <tr>\n",
       "      <th>4099</th>\n",
       "      <td>Afghanistan</td>\n",
       "      <td>Olive oil</td>\n",
       "      <td>595.68</td>\n",
       "      <td>538.56</td>\n",
       "      <td>538.56</td>\n",
       "      <td>545.93</td>\n",
       "      <td>658.42</td>\n",
       "      <td>711.37</td>\n",
       "      <td>740.90</td>\n",
       "      <td>763.25</td>\n",
       "      <td>812.16</td>\n",
       "      <td>833.25</td>\n",
       "      <td>821.31</td>\n",
       "      <td>NaN</td>\n",
       "    </tr>\n",
       "    <tr>\n",
       "      <th>...</th>\n",
       "      <td>...</td>\n",
       "      <td>...</td>\n",
       "      <td>...</td>\n",
       "      <td>...</td>\n",
       "      <td>...</td>\n",
       "      <td>...</td>\n",
       "      <td>...</td>\n",
       "      <td>...</td>\n",
       "      <td>...</td>\n",
       "      <td>...</td>\n",
       "      <td>...</td>\n",
       "      <td>...</td>\n",
       "      <td>...</td>\n",
       "      <td>...</td>\n",
       "    </tr>\n",
       "    <tr>\n",
       "      <th>910427</th>\n",
       "      <td>Zimbabwe</td>\n",
       "      <td>Tomatoes</td>\n",
       "      <td>25000.00</td>\n",
       "      <td>22500.00</td>\n",
       "      <td>23500.00</td>\n",
       "      <td>23500.00</td>\n",
       "      <td>24271.13</td>\n",
       "      <td>25322.84</td>\n",
       "      <td>25318.39</td>\n",
       "      <td>25278.36</td>\n",
       "      <td>25306.53</td>\n",
       "      <td>25301.09</td>\n",
       "      <td>25295.33</td>\n",
       "      <td>25300.98</td>\n",
       "    </tr>\n",
       "    <tr>\n",
       "      <th>910428</th>\n",
       "      <td>Zimbabwe</td>\n",
       "      <td>Wheat</td>\n",
       "      <td>18000.00</td>\n",
       "      <td>23000.00</td>\n",
       "      <td>53231.78</td>\n",
       "      <td>50966.05</td>\n",
       "      <td>40000.00</td>\n",
       "      <td>45302.00</td>\n",
       "      <td>42008.00</td>\n",
       "      <td>38715.00</td>\n",
       "      <td>45000.00</td>\n",
       "      <td>94685.00</td>\n",
       "      <td>212530.00</td>\n",
       "      <td>337212.00</td>\n",
       "    </tr>\n",
       "    <tr>\n",
       "      <th>910429</th>\n",
       "      <td>Zimbabwe</td>\n",
       "      <td>Whole milk, condensed</td>\n",
       "      <td>712.95</td>\n",
       "      <td>730.87</td>\n",
       "      <td>750.55</td>\n",
       "      <td>759.51</td>\n",
       "      <td>776.69</td>\n",
       "      <td>772.13</td>\n",
       "      <td>764.96</td>\n",
       "      <td>739.13</td>\n",
       "      <td>746.84</td>\n",
       "      <td>759.12</td>\n",
       "      <td>759.00</td>\n",
       "      <td>NaN</td>\n",
       "    </tr>\n",
       "    <tr>\n",
       "      <th>910430</th>\n",
       "      <td>Zimbabwe</td>\n",
       "      <td>Whole milk, evaporated</td>\n",
       "      <td>4705.49</td>\n",
       "      <td>4823.47</td>\n",
       "      <td>4953.61</td>\n",
       "      <td>5012.55</td>\n",
       "      <td>5125.02</td>\n",
       "      <td>5096.70</td>\n",
       "      <td>5049.87</td>\n",
       "      <td>4878.27</td>\n",
       "      <td>4929.81</td>\n",
       "      <td>5010.21</td>\n",
       "      <td>5009.42</td>\n",
       "      <td>NaN</td>\n",
       "    </tr>\n",
       "    <tr>\n",
       "      <th>910431</th>\n",
       "      <td>Zimbabwe</td>\n",
       "      <td>Wine</td>\n",
       "      <td>1750.00</td>\n",
       "      <td>1750.00</td>\n",
       "      <td>1750.00</td>\n",
       "      <td>1750.00</td>\n",
       "      <td>NaN</td>\n",
       "      <td>NaN</td>\n",
       "      <td>NaN</td>\n",
       "      <td>NaN</td>\n",
       "      <td>NaN</td>\n",
       "      <td>NaN</td>\n",
       "      <td>NaN</td>\n",
       "      <td>NaN</td>\n",
       "    </tr>\n",
       "  </tbody>\n",
       "</table>\n",
       "<p>4111 rows × 14 columns</p>\n",
       "</div>"
      ],
      "text/plain": [
       "               Area                      Item       2010       2011  \\\n",
       "0       Afghanistan                    Apples   59850.00   62041.00   \n",
       "1       Afghanistan                    Barley  437000.00  305900.00   \n",
       "2       Afghanistan  Hen eggs in shell, fresh   16344.00   17210.00   \n",
       "4098    Afghanistan              Maize (corn)  301000.00  300120.00   \n",
       "4099    Afghanistan                 Olive oil     595.68     538.56   \n",
       "...             ...                       ...        ...        ...   \n",
       "910427     Zimbabwe                  Tomatoes   25000.00   22500.00   \n",
       "910428     Zimbabwe                     Wheat   18000.00   23000.00   \n",
       "910429     Zimbabwe     Whole milk, condensed     712.95     730.87   \n",
       "910430     Zimbabwe    Whole milk, evaporated    4705.49    4823.47   \n",
       "910431     Zimbabwe                      Wine    1750.00    1750.00   \n",
       "\n",
       "             2012       2013       2014       2015       2016       2017  \\\n",
       "0        70000.00   78597.00   89403.00   89733.00  140903.00  170443.00   \n",
       "1       504000.00  514000.00  521000.00  403000.00  301856.00   94995.00   \n",
       "2        18000.00   18000.00   18500.00   19833.01   19883.74   20000.00   \n",
       "4098    310000.00  312000.00  316000.00  316000.00  311646.00  173912.00   \n",
       "4099       538.56     545.93     658.42     711.37     740.90     763.25   \n",
       "...           ...        ...        ...        ...        ...        ...   \n",
       "910427   23500.00   23500.00   24271.13   25322.84   25318.39   25278.36   \n",
       "910428   53231.78   50966.05   40000.00   45302.00   42008.00   38715.00   \n",
       "910429     750.55     759.51     776.69     772.13     764.96     739.13   \n",
       "910430    4953.61    5012.55    5125.02    5096.70    5049.87    4878.27   \n",
       "910431    1750.00    1750.00        NaN        NaN        NaN        NaN   \n",
       "\n",
       "             2018       2019       2020       2021  \n",
       "0       217192.00  250324.00  270857.00  292586.58  \n",
       "1        56781.00  123576.00  127757.00  122692.77  \n",
       "2        19905.58   22040.18   22039.10   22248.74  \n",
       "4098    106670.00  184671.00  271776.00  180000.00  \n",
       "4099       812.16     833.25     821.31        NaN  \n",
       "...           ...        ...        ...        ...  \n",
       "910427   25306.53   25301.09   25295.33   25300.98  \n",
       "910428   45000.00   94685.00  212530.00  337212.00  \n",
       "910429     746.84     759.12     759.00        NaN  \n",
       "910430    4929.81    5010.21    5009.42        NaN  \n",
       "910431        NaN        NaN        NaN        NaN  \n",
       "\n",
       "[4111 rows x 14 columns]"
      ]
     },
     "execution_count": 184,
     "metadata": {},
     "output_type": "execute_result"
    }
   ],
   "source": [
    "# Drop duplicates from item and area columns.\n",
    "production.drop_duplicates(subset=[\"Item\", \"Area\"])"
   ]
  }
 ],
 "metadata": {
  "kernelspec": {
   "display_name": "base",
   "language": "python",
   "name": "python3"
  },
  "language_info": {
   "codemirror_mode": {
    "name": "ipython",
    "version": 3
   },
   "file_extension": ".py",
   "mimetype": "text/x-python",
   "name": "python",
   "nbconvert_exporter": "python",
   "pygments_lexer": "ipython3",
   "version": "3.10.8"
  },
  "orig_nbformat": 4,
  "vscode": {
   "interpreter": {
    "hash": "0325c5f4e9133fe10cf2a391927dfd03aaca0f3a5079e10a7a3dafa67583f178"
   }
  }
 },
 "nbformat": 4,
 "nbformat_minor": 2
}
