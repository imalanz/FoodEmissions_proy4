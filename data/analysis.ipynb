{
 "cells": [
  {
   "cell_type": "code",
   "execution_count": 246,
   "metadata": {},
   "outputs": [
    {
     "ename": "ModuleNotFoundError",
     "evalue": "No module named 'src'",
     "output_type": "error",
     "traceback": [
      "\u001b[1;31m---------------------------------------------------------------------------\u001b[0m",
      "\u001b[1;31mModuleNotFoundError\u001b[0m                       Traceback (most recent call last)",
      "\u001b[1;32md:\\ironhack\\proyectos\\_proy4\\data\\analysis.ipynb Cell 1\u001b[0m in \u001b[0;36m<cell line: 5>\u001b[1;34m()\u001b[0m\n\u001b[0;32m      <a href='vscode-notebook-cell:/d%3A/ironhack/proyectos/_proy4/data/analysis.ipynb#W0sZmlsZQ%3D%3D?line=2'>3</a>\u001b[0m \u001b[39mimport\u001b[39;00m \u001b[39mwarnings\u001b[39;00m\n\u001b[0;32m      <a href='vscode-notebook-cell:/d%3A/ironhack/proyectos/_proy4/data/analysis.ipynb#W0sZmlsZQ%3D%3D?line=3'>4</a>\u001b[0m warnings\u001b[39m.\u001b[39mfilterwarnings(\u001b[39m\"\u001b[39m\u001b[39mignore\u001b[39m\u001b[39m\"\u001b[39m)\n\u001b[1;32m----> <a href='vscode-notebook-cell:/d%3A/ironhack/proyectos/_proy4/data/analysis.ipynb#W0sZmlsZQ%3D%3D?line=4'>5</a>\u001b[0m \u001b[39mimport\u001b[39;00m \u001b[39msrc\u001b[39;00m\u001b[39m.\u001b[39;00m\u001b[39manalysis\u001b[39;00m \u001b[39mas\u001b[39;00m \u001b[39man\u001b[39;00m\n\u001b[0;32m      <a href='vscode-notebook-cell:/d%3A/ironhack/proyectos/_proy4/data/analysis.ipynb#W0sZmlsZQ%3D%3D?line=5'>6</a>\u001b[0m importlib\u001b[39m.\u001b[39mreload(an)\n",
      "\u001b[1;31mModuleNotFoundError\u001b[0m: No module named 'src'"
     ]
    }
   ],
   "source": [
    "import pandas as pd\n",
    "import re\n",
    "import warnings\n",
    "warnings.filterwarnings(\"ignore\")\n",
    "import src.analysis as an\n",
    "importlib.reload(an)"
   ]
  },
  {
   "cell_type": "code",
   "execution_count": null,
   "metadata": {},
   "outputs": [],
   "source": [
    "salud y contaminacion\n",
    "worldbank.com para salud\n",
    "income companies."
   ]
  },
  {
   "cell_type": "code",
   "execution_count": 2,
   "metadata": {},
   "outputs": [
    {
     "data": {
      "text/html": [
       "<div>\n",
       "<style scoped>\n",
       "    .dataframe tbody tr th:only-of-type {\n",
       "        vertical-align: middle;\n",
       "    }\n",
       "\n",
       "    .dataframe tbody tr th {\n",
       "        vertical-align: top;\n",
       "    }\n",
       "\n",
       "    .dataframe thead th {\n",
       "        text-align: right;\n",
       "    }\n",
       "</style>\n",
       "<table border=\"1\" class=\"dataframe\">\n",
       "  <thead>\n",
       "    <tr style=\"text-align: right;\">\n",
       "      <th></th>\n",
       "      <th>Order ID</th>\n",
       "      <th>Customer Name</th>\n",
       "      <th>Category</th>\n",
       "      <th>Sub Category</th>\n",
       "      <th>City</th>\n",
       "      <th>Order Date</th>\n",
       "      <th>Region</th>\n",
       "      <th>Sales</th>\n",
       "      <th>Discount</th>\n",
       "      <th>Profit</th>\n",
       "      <th>State</th>\n",
       "    </tr>\n",
       "  </thead>\n",
       "  <tbody>\n",
       "    <tr>\n",
       "      <th>0</th>\n",
       "      <td>OD1</td>\n",
       "      <td>Harish</td>\n",
       "      <td>Oil &amp; Masala</td>\n",
       "      <td>Masalas</td>\n",
       "      <td>Vellore</td>\n",
       "      <td>11-08-2017</td>\n",
       "      <td>North</td>\n",
       "      <td>1254</td>\n",
       "      <td>0.12</td>\n",
       "      <td>401.28</td>\n",
       "      <td>Tamil Nadu</td>\n",
       "    </tr>\n",
       "    <tr>\n",
       "      <th>1</th>\n",
       "      <td>OD2</td>\n",
       "      <td>Sudha</td>\n",
       "      <td>Beverages</td>\n",
       "      <td>Health Drinks</td>\n",
       "      <td>Krishnagiri</td>\n",
       "      <td>11-08-2017</td>\n",
       "      <td>South</td>\n",
       "      <td>749</td>\n",
       "      <td>0.18</td>\n",
       "      <td>149.80</td>\n",
       "      <td>Tamil Nadu</td>\n",
       "    </tr>\n",
       "    <tr>\n",
       "      <th>2</th>\n",
       "      <td>OD3</td>\n",
       "      <td>Hussain</td>\n",
       "      <td>Food Grains</td>\n",
       "      <td>Atta &amp; Flour</td>\n",
       "      <td>Perambalur</td>\n",
       "      <td>06-12-2017</td>\n",
       "      <td>West</td>\n",
       "      <td>2360</td>\n",
       "      <td>0.21</td>\n",
       "      <td>165.20</td>\n",
       "      <td>Tamil Nadu</td>\n",
       "    </tr>\n",
       "    <tr>\n",
       "      <th>3</th>\n",
       "      <td>OD4</td>\n",
       "      <td>Jackson</td>\n",
       "      <td>Fruits &amp; Veggies</td>\n",
       "      <td>Fresh Vegetables</td>\n",
       "      <td>Dharmapuri</td>\n",
       "      <td>10-11-2016</td>\n",
       "      <td>South</td>\n",
       "      <td>896</td>\n",
       "      <td>0.25</td>\n",
       "      <td>89.60</td>\n",
       "      <td>Tamil Nadu</td>\n",
       "    </tr>\n",
       "    <tr>\n",
       "      <th>4</th>\n",
       "      <td>OD5</td>\n",
       "      <td>Ridhesh</td>\n",
       "      <td>Food Grains</td>\n",
       "      <td>Organic Staples</td>\n",
       "      <td>Ooty</td>\n",
       "      <td>10-11-2016</td>\n",
       "      <td>South</td>\n",
       "      <td>2355</td>\n",
       "      <td>0.26</td>\n",
       "      <td>918.45</td>\n",
       "      <td>Tamil Nadu</td>\n",
       "    </tr>\n",
       "    <tr>\n",
       "      <th>...</th>\n",
       "      <td>...</td>\n",
       "      <td>...</td>\n",
       "      <td>...</td>\n",
       "      <td>...</td>\n",
       "      <td>...</td>\n",
       "      <td>...</td>\n",
       "      <td>...</td>\n",
       "      <td>...</td>\n",
       "      <td>...</td>\n",
       "      <td>...</td>\n",
       "      <td>...</td>\n",
       "    </tr>\n",
       "    <tr>\n",
       "      <th>9989</th>\n",
       "      <td>OD9990</td>\n",
       "      <td>Sudeep</td>\n",
       "      <td>Eggs, Meat &amp; Fish</td>\n",
       "      <td>Eggs</td>\n",
       "      <td>Madurai</td>\n",
       "      <td>12/24/2015</td>\n",
       "      <td>West</td>\n",
       "      <td>945</td>\n",
       "      <td>0.16</td>\n",
       "      <td>359.10</td>\n",
       "      <td>Tamil Nadu</td>\n",
       "    </tr>\n",
       "    <tr>\n",
       "      <th>9990</th>\n",
       "      <td>OD9991</td>\n",
       "      <td>Alan</td>\n",
       "      <td>Bakery</td>\n",
       "      <td>Biscuits</td>\n",
       "      <td>Kanyakumari</td>\n",
       "      <td>07-12-2015</td>\n",
       "      <td>West</td>\n",
       "      <td>1195</td>\n",
       "      <td>0.26</td>\n",
       "      <td>71.70</td>\n",
       "      <td>Tamil Nadu</td>\n",
       "    </tr>\n",
       "    <tr>\n",
       "      <th>9991</th>\n",
       "      <td>OD9992</td>\n",
       "      <td>Ravi</td>\n",
       "      <td>Food Grains</td>\n",
       "      <td>Rice</td>\n",
       "      <td>Bodi</td>\n",
       "      <td>06-06-2017</td>\n",
       "      <td>West</td>\n",
       "      <td>1567</td>\n",
       "      <td>0.16</td>\n",
       "      <td>501.44</td>\n",
       "      <td>Tamil Nadu</td>\n",
       "    </tr>\n",
       "    <tr>\n",
       "      <th>9992</th>\n",
       "      <td>OD9993</td>\n",
       "      <td>Peer</td>\n",
       "      <td>Oil &amp; Masala</td>\n",
       "      <td>Spices</td>\n",
       "      <td>Pudukottai</td>\n",
       "      <td>10/16/2018</td>\n",
       "      <td>West</td>\n",
       "      <td>1659</td>\n",
       "      <td>0.15</td>\n",
       "      <td>597.24</td>\n",
       "      <td>Tamil Nadu</td>\n",
       "    </tr>\n",
       "    <tr>\n",
       "      <th>9993</th>\n",
       "      <td>OD9994</td>\n",
       "      <td>Ganesh</td>\n",
       "      <td>Food Grains</td>\n",
       "      <td>Atta &amp; Flour</td>\n",
       "      <td>Tirunelveli</td>\n",
       "      <td>4/17/2018</td>\n",
       "      <td>West</td>\n",
       "      <td>1034</td>\n",
       "      <td>0.28</td>\n",
       "      <td>165.44</td>\n",
       "      <td>Tamil Nadu</td>\n",
       "    </tr>\n",
       "  </tbody>\n",
       "</table>\n",
       "<p>9994 rows × 11 columns</p>\n",
       "</div>"
      ],
      "text/plain": [
       "     Order ID Customer Name           Category      Sub Category         City  \\\n",
       "0         OD1        Harish       Oil & Masala           Masalas      Vellore   \n",
       "1         OD2         Sudha          Beverages     Health Drinks  Krishnagiri   \n",
       "2         OD3       Hussain        Food Grains      Atta & Flour   Perambalur   \n",
       "3         OD4       Jackson   Fruits & Veggies  Fresh Vegetables   Dharmapuri   \n",
       "4         OD5       Ridhesh        Food Grains   Organic Staples         Ooty   \n",
       "...       ...           ...                ...               ...          ...   \n",
       "9989   OD9990        Sudeep  Eggs, Meat & Fish              Eggs      Madurai   \n",
       "9990   OD9991          Alan             Bakery          Biscuits  Kanyakumari   \n",
       "9991   OD9992          Ravi        Food Grains              Rice         Bodi   \n",
       "9992   OD9993          Peer       Oil & Masala            Spices   Pudukottai   \n",
       "9993   OD9994        Ganesh        Food Grains      Atta & Flour  Tirunelveli   \n",
       "\n",
       "      Order Date Region  Sales  Discount  Profit       State  \n",
       "0     11-08-2017  North   1254      0.12  401.28  Tamil Nadu  \n",
       "1     11-08-2017  South    749      0.18  149.80  Tamil Nadu  \n",
       "2     06-12-2017   West   2360      0.21  165.20  Tamil Nadu  \n",
       "3     10-11-2016  South    896      0.25   89.60  Tamil Nadu  \n",
       "4     10-11-2016  South   2355      0.26  918.45  Tamil Nadu  \n",
       "...          ...    ...    ...       ...     ...         ...  \n",
       "9989  12/24/2015   West    945      0.16  359.10  Tamil Nadu  \n",
       "9990  07-12-2015   West   1195      0.26   71.70  Tamil Nadu  \n",
       "9991  06-06-2017   West   1567      0.16  501.44  Tamil Nadu  \n",
       "9992  10/16/2018   West   1659      0.15  597.24  Tamil Nadu  \n",
       "9993   4/17/2018   West   1034      0.28  165.44  Tamil Nadu  \n",
       "\n",
       "[9994 rows x 11 columns]"
      ]
     },
     "execution_count": 2,
     "metadata": {},
     "output_type": "execute_result"
    }
   ],
   "source": [
    "super = pd.read_csv(\"D:\\ironhack\\proyectos\\_proy4\\csv\\Supermart_Grocery_Sales.csv\")\n",
    "super"
   ]
  },
  {
   "attachments": {},
   "cell_type": "markdown",
   "metadata": {},
   "source": [
    "IMPORT Food emissin data set."
   ]
  },
  {
   "cell_type": "code",
   "execution_count": 266,
   "metadata": {},
   "outputs": [
    {
     "data": {
      "text/html": [
       "<div>\n",
       "<style scoped>\n",
       "    .dataframe tbody tr th:only-of-type {\n",
       "        vertical-align: middle;\n",
       "    }\n",
       "\n",
       "    .dataframe tbody tr th {\n",
       "        vertical-align: top;\n",
       "    }\n",
       "\n",
       "    .dataframe thead th {\n",
       "        text-align: right;\n",
       "    }\n",
       "</style>\n",
       "<table border=\"1\" class=\"dataframe\">\n",
       "  <thead>\n",
       "    <tr style=\"text-align: right;\">\n",
       "      <th></th>\n",
       "      <th>Food product</th>\n",
       "      <th>Land use change</th>\n",
       "      <th>Animal Feed</th>\n",
       "      <th>Farm</th>\n",
       "      <th>Processing</th>\n",
       "      <th>Transport</th>\n",
       "      <th>Packging</th>\n",
       "      <th>Retail</th>\n",
       "      <th>Total_emissions</th>\n",
       "      <th>Eutrophying emissions per 1000kcal (gPO₄eq per 1000kcal)</th>\n",
       "      <th>...</th>\n",
       "      <th>Freshwater withdrawals per 100g protein (liters per 100g protein)</th>\n",
       "      <th>Freshwater withdrawals per kilogram (liters per kilogram)</th>\n",
       "      <th>Greenhouse gas emissions per 1000kcal (kgCO₂eq per 1000kcal)</th>\n",
       "      <th>Greenhouse gas emissions per 100g protein (kgCO₂eq per 100g protein)</th>\n",
       "      <th>Land use per 1000kcal (m² per 1000kcal)</th>\n",
       "      <th>Land use per kilogram (m² per kilogram)</th>\n",
       "      <th>Land use per 100g protein (m² per 100g protein)</th>\n",
       "      <th>Scarcity-weighted water use per kilogram (liters per kilogram)</th>\n",
       "      <th>Scarcity-weighted water use per 100g protein (liters per 100g protein)</th>\n",
       "      <th>Scarcity-weighted water use per 1000kcal (liters per 1000 kilocalories)</th>\n",
       "    </tr>\n",
       "  </thead>\n",
       "  <tbody>\n",
       "    <tr>\n",
       "      <th>12</th>\n",
       "      <td>Groundnuts</td>\n",
       "      <td>0.4</td>\n",
       "      <td>0.0</td>\n",
       "      <td>1.4</td>\n",
       "      <td>0.4</td>\n",
       "      <td>0.1</td>\n",
       "      <td>0.1</td>\n",
       "      <td>0.0</td>\n",
       "      <td>2.4</td>\n",
       "      <td>2.437931</td>\n",
       "      <td>...</td>\n",
       "      <td>707.524828</td>\n",
       "      <td>1852.3</td>\n",
       "      <td>0.556897</td>\n",
       "      <td>1.233766</td>\n",
       "      <td>1.57069</td>\n",
       "      <td>9.11</td>\n",
       "      <td>3.479756</td>\n",
       "      <td>61797.9</td>\n",
       "      <td>23605.00382</td>\n",
       "      <td>10654.81034</td>\n",
       "    </tr>\n",
       "  </tbody>\n",
       "</table>\n",
       "<p>1 rows × 23 columns</p>\n",
       "</div>"
      ],
      "text/plain": [
       "   Food product  Land use change  Animal Feed  Farm  Processing  Transport  \\\n",
       "12   Groundnuts              0.4          0.0   1.4         0.4        0.1   \n",
       "\n",
       "    Packging  Retail  Total_emissions  \\\n",
       "12       0.1     0.0              2.4   \n",
       "\n",
       "    Eutrophying emissions per 1000kcal (gPO₄eq per 1000kcal)  ...  \\\n",
       "12                                           2.437931         ...   \n",
       "\n",
       "    Freshwater withdrawals per 100g protein (liters per 100g protein)  \\\n",
       "12                                         707.524828                   \n",
       "\n",
       "    Freshwater withdrawals per kilogram (liters per kilogram)  \\\n",
       "12                                             1852.3           \n",
       "\n",
       "    Greenhouse gas emissions per 1000kcal (kgCO₂eq per 1000kcal)  \\\n",
       "12                                           0.556897              \n",
       "\n",
       "    Greenhouse gas emissions per 100g protein (kgCO₂eq per 100g protein)  \\\n",
       "12                                           1.233766                      \n",
       "\n",
       "    Land use per 1000kcal (m² per 1000kcal)  \\\n",
       "12                                  1.57069   \n",
       "\n",
       "    Land use per kilogram (m² per kilogram)  \\\n",
       "12                                     9.11   \n",
       "\n",
       "    Land use per 100g protein (m² per 100g protein)  \\\n",
       "12                                         3.479756   \n",
       "\n",
       "    Scarcity-weighted water use per kilogram (liters per kilogram)  \\\n",
       "12                                            61797.9                \n",
       "\n",
       "    Scarcity-weighted water use per 100g protein (liters per 100g protein)  \\\n",
       "12                                        23605.00382                        \n",
       "\n",
       "    Scarcity-weighted water use per 1000kcal (liters per 1000 kilocalories)  \n",
       "12                                        10654.81034                        \n",
       "\n",
       "[1 rows x 23 columns]"
      ]
     },
     "execution_count": 266,
     "metadata": {},
     "output_type": "execute_result"
    }
   ],
   "source": [
    "food_emisions = pd.read_csv(\"D:\\ironhack\\proyectos\\_proy4\\csv\\Food_emissions.csv\")\n",
    "food_emisions.sample()"
   ]
  },
  {
   "cell_type": "code",
   "execution_count": 267,
   "metadata": {},
   "outputs": [
    {
     "data": {
      "text/html": [
       "<div>\n",
       "<style scoped>\n",
       "    .dataframe tbody tr th:only-of-type {\n",
       "        vertical-align: middle;\n",
       "    }\n",
       "\n",
       "    .dataframe tbody tr th {\n",
       "        vertical-align: top;\n",
       "    }\n",
       "\n",
       "    .dataframe thead th {\n",
       "        text-align: right;\n",
       "    }\n",
       "</style>\n",
       "<table border=\"1\" class=\"dataframe\">\n",
       "  <thead>\n",
       "    <tr style=\"text-align: right;\">\n",
       "      <th></th>\n",
       "      <th>Food product</th>\n",
       "      <th>Land use change</th>\n",
       "      <th>Animal Feed</th>\n",
       "      <th>Farm</th>\n",
       "      <th>Processing</th>\n",
       "      <th>Transport</th>\n",
       "      <th>Packging</th>\n",
       "      <th>Retail</th>\n",
       "      <th>Total_emissions</th>\n",
       "      <th>Eutrophying emissions per kilogram (gPO₄eq per kilogram)</th>\n",
       "      <th>Freshwater withdrawals per kilogram (liters per kilogram)</th>\n",
       "      <th>Greenhouse gas emissions per 1000kcal (kgCO₂eq per 1000kcal)</th>\n",
       "      <th>Land use per kilogram (m² per kilogram)</th>\n",
       "      <th>Scarcity-weighted water use per kilogram (liters per kilogram)</th>\n",
       "    </tr>\n",
       "  </thead>\n",
       "  <tbody>\n",
       "    <tr>\n",
       "      <th>39</th>\n",
       "      <td>Cheese</td>\n",
       "      <td>4.5</td>\n",
       "      <td>2.3</td>\n",
       "      <td>13.1</td>\n",
       "      <td>0.7</td>\n",
       "      <td>0.1</td>\n",
       "      <td>0.2</td>\n",
       "      <td>0.3</td>\n",
       "      <td>21.2</td>\n",
       "      <td>98.37</td>\n",
       "      <td>5605.2</td>\n",
       "      <td>6.170543</td>\n",
       "      <td>87.79</td>\n",
       "      <td>180850.6</td>\n",
       "    </tr>\n",
       "  </tbody>\n",
       "</table>\n",
       "</div>"
      ],
      "text/plain": [
       "   Food product  Land use change  Animal Feed  Farm  Processing  Transport  \\\n",
       "39       Cheese              4.5          2.3  13.1         0.7        0.1   \n",
       "\n",
       "    Packging  Retail  Total_emissions  \\\n",
       "39       0.2     0.3             21.2   \n",
       "\n",
       "    Eutrophying emissions per kilogram (gPO₄eq per kilogram)  \\\n",
       "39                                              98.37          \n",
       "\n",
       "    Freshwater withdrawals per kilogram (liters per kilogram)  \\\n",
       "39                                             5605.2           \n",
       "\n",
       "    Greenhouse gas emissions per 1000kcal (kgCO₂eq per 1000kcal)  \\\n",
       "39                                           6.170543              \n",
       "\n",
       "    Land use per kilogram (m² per kilogram)  \\\n",
       "39                                    87.79   \n",
       "\n",
       "    Scarcity-weighted water use per kilogram (liters per kilogram)  \n",
       "39                                           180850.6               "
      ]
     },
     "execution_count": 267,
     "metadata": {},
     "output_type": "execute_result"
    }
   ],
   "source": [
    "# Drop not necesary columns. \n",
    "food_emisions = food_emisions.drop(columns=[\"Eutrophying emissions per 1000kcal (gPO₄eq per 1000kcal)\", \"Eutrophying emissions per 100g protein (gPO₄eq per 100 grams protein)\",\n",
    "\"Freshwater withdrawals per 1000kcal (liters per 1000kcal)\", \"Freshwater withdrawals per 100g protein (liters per 100g protein)\",\n",
    "\"Greenhouse gas emissions per 100g protein (kgCO₂eq per 100g protein)\", \"Land use per 1000kcal (m² per 1000kcal)\", \"Land use per 100g protein (m² per 100g protein)\",\n",
    "\"Scarcity-weighted water use per 100g protein (liters per 100g protein)\", \"Scarcity-weighted water use per 1000kcal (liters per 1000 kilocalories)\"])\n",
    "food_emisions.sample()"
   ]
  },
  {
   "cell_type": "code",
   "execution_count": 268,
   "metadata": {},
   "outputs": [],
   "source": [
    "#Change names of columns.\n",
    "food_emisions.rename(columns= {\"Eutrophying emissions per 1000kcal (gPO₄eq per 1000kcal)\": \"Eutrophying emissions (gPO₄eq per 1000kcal)\", \n",
    "                               \"Freshwater withdrawals per kilogram (liters per kilogram)\":\"Freshwater withdrawals (liters per kilogram)\", \n",
    "                               \"Greenhouse gas emissions per 1000kcal (kgCO₂eq per 1000kcal)\":\"Greenhouse gas emissions (kgCO₂eq per 1000kcal)\",\n",
    "                               \"Land use per kilogram (m² per kilogram)\":\"Land use (m² per kilogram)\", \n",
    "                               \"Scarcity-weighted water use per kilogram (liters per kilogram)\":\"Scarcity-weighted water use (liters per kilogram)\"\n",
    "                               }, inplace = True)"
   ]
  },
  {
   "cell_type": "code",
   "execution_count": 238,
   "metadata": {},
   "outputs": [
    {
     "name": "stdout",
     "output_type": "stream",
     "text": [
      "['Wheat & Rye (Bread)', 'Maize (Meal)', 'Barley (Beer)', 'Oatmeal', 'Rice', 'Potatoes', 'Cassava', 'Cane Sugar', 'Beet Sugar', 'Other Pulses', 'Peas', 'Nuts', 'Groundnuts', 'Soymilk', 'Tofu', 'Soybean Oil', 'Palm Oil', 'Sunflower Oil', 'Rapeseed Oil', 'Olive Oil', 'Tomatoes', 'Onions & Leeks', 'Root Vegetables', 'Brassicas', 'Other Vegetables', 'Citrus Fruit', 'Bananas', 'Apples', 'Berries & Grapes', 'Wine', 'Other Fruit', 'Coffee', 'Dark Chocolate', 'Beef (beef herd)', 'Beef (dairy herd)', 'Lamb & Mutton', 'Pig Meat', 'Poultry Meat', 'Milk', 'Cheese', 'Eggs', 'Fish (farmed)', 'Shrimps (farmed)']\n"
     ]
    }
   ],
   "source": [
    "print(list(food_emisions[\"Food product\"]))"
   ]
  },
  {
   "attachments": {},
   "cell_type": "markdown",
   "metadata": {},
   "source": []
  },
  {
   "cell_type": "code",
   "execution_count": null,
   "metadata": {},
   "outputs": [],
   "source": []
  },
  {
   "cell_type": "code",
   "execution_count": null,
   "metadata": {},
   "outputs": [],
   "source": []
  },
  {
   "attachments": {},
   "cell_type": "markdown",
   "metadata": {},
   "source": [
    "IMPORT Area data set."
   ]
  },
  {
   "cell_type": "code",
   "execution_count": 307,
   "metadata": {},
   "outputs": [
    {
     "data": {
      "text/html": [
       "<div>\n",
       "<style scoped>\n",
       "    .dataframe tbody tr th:only-of-type {\n",
       "        vertical-align: middle;\n",
       "    }\n",
       "\n",
       "    .dataframe tbody tr th {\n",
       "        vertical-align: top;\n",
       "    }\n",
       "\n",
       "    .dataframe thead th {\n",
       "        text-align: right;\n",
       "    }\n",
       "</style>\n",
       "<table border=\"1\" class=\"dataframe\">\n",
       "  <thead>\n",
       "    <tr style=\"text-align: right;\">\n",
       "      <th></th>\n",
       "      <th>Domain</th>\n",
       "      <th>Area</th>\n",
       "      <th>Element</th>\n",
       "      <th>Item</th>\n",
       "      <th>Year</th>\n",
       "      <th>Unit</th>\n",
       "      <th>Value</th>\n",
       "    </tr>\n",
       "  </thead>\n",
       "  <tbody>\n",
       "    <tr>\n",
       "      <th>10828</th>\n",
       "      <td>Crops and livestock products</td>\n",
       "      <td>Dominican Republic</td>\n",
       "      <td>Area harvested</td>\n",
       "      <td>Rice</td>\n",
       "      <td>2014</td>\n",
       "      <td>ha</td>\n",
       "      <td>163157</td>\n",
       "    </tr>\n",
       "  </tbody>\n",
       "</table>\n",
       "</div>"
      ],
      "text/plain": [
       "                             Domain                Area         Element  Item  \\\n",
       "10828  Crops and livestock products  Dominican Republic  Area harvested  Rice   \n",
       "\n",
       "       Year Unit   Value  \n",
       "10828  2014   ha  163157  "
      ]
     },
     "execution_count": 307,
     "metadata": {},
     "output_type": "execute_result"
    }
   ],
   "source": [
    "area = pd.read_csv(\"D:\\ironhack\\proyectos\\_proy4\\csv\\\\area_harvested.csv\", engine=\"python\", error_bad_lines=False)\n",
    "area.sample()"
   ]
  },
  {
   "attachments": {},
   "cell_type": "markdown",
   "metadata": {},
   "source": [
    "['Wheat & Rye (Bread)', 'Maize (Meal)', 'Barley (Beer)', 'Oatmeal', 'Rice', 'Potatoes', 'Cassava', 'Cane Sugar', 'Beet Sugar', 'Other Pulses', 'Peas', 'Nuts', 'Groundnuts', 'Soymilk', 'Tofu', 'Soybean Oil', 'Palm Oil', 'Sunflower Oil', 'Rapeseed Oil', 'Olive Oil', 'Tomatoes', 'Onions & Leeks', 'Root Vegetables', 'Brassicas', 'Other Vegetables', 'Citrus Fruit', 'Bananas', 'Apples', 'Berries & Grapes', 'Wine', 'Other Fruit', 'Coffee', 'Dark Chocolate', 'Beef (beef herd)', 'Beef (dairy herd)', 'Lamb & Mutton', 'Pig Meat', 'Poultry Meat', 'Milk', 'Cheese', 'Eggs', 'Fish (farmed)', 'Shrimps (farmed)']"
   ]
  },
  {
   "cell_type": "code",
   "execution_count": 315,
   "metadata": {},
   "outputs": [],
   "source": [
    "# Clean with regex column \"Items\" to match other Data Frames.\n",
    "for index, row in area.iterrows():\n",
    "    re.sub(\"n\\.e\\.c\\.\", \"\", row[3])\n",
    "    re.sub(\".*Other berries and fruits of the genus vaccinium.*\", 'Berries & Grapes', row[3])\n",
    "    re.sub('.*Onions and shallots, green*.', 'Onions & Leeks', row[3])\n"
   ]
  },
  {
   "cell_type": "code",
   "execution_count": 308,
   "metadata": {},
   "outputs": [],
   "source": [
    "# iterate 2010\n",
    "_2010 = {index:[row[6],row[1],row[3]] for index, row in area.iterrows() if row[4] == 2010}\n",
    "df2010 = pd.DataFrame.from_dict(_2010, orient=\"index\")\n",
    "df2010.rename(columns= {0: 2010, 1:\"Area\", 2:\"Item\"}, inplace = True)"
   ]
  },
  {
   "cell_type": "code",
   "execution_count": 273,
   "metadata": {},
   "outputs": [],
   "source": [
    "# iterate 2011\n",
    "_2011 = {index:[row[6],row[1],row[3]] for index, row in area.iterrows() if row[4] == 2011}\n",
    "df2011 = pd.DataFrame.from_dict(_2011, orient=\"index\")\n",
    "df2011.rename(columns= {0: 2011, 1:\"Area\", 2:\"Item\"}, inplace = True)"
   ]
  },
  {
   "cell_type": "code",
   "execution_count": 274,
   "metadata": {},
   "outputs": [],
   "source": [
    "# iterate 2012\n",
    "_2012 = {index:[row[6],row[1],row[3]] for index, row in area.iterrows() if row[4] == 2012}\n",
    "df2012 = pd.DataFrame.from_dict(_2012, orient=\"index\")\n",
    "df2012.rename(columns= {0: 2012, 1:\"Area\", 2:\"Item\"}, inplace = True)"
   ]
  },
  {
   "cell_type": "code",
   "execution_count": 275,
   "metadata": {},
   "outputs": [],
   "source": [
    "# iterate 2013\n",
    "_2013 = {index:[row[6],row[1],row[3]] for index, row in area.iterrows() if row[4] == 2013}\n",
    "df2013 = pd.DataFrame.from_dict(_2013, orient=\"index\")\n",
    "df2013.rename(columns= {0: 2013, 1:\"Area\", 2:\"Item\"}, inplace = True)"
   ]
  },
  {
   "cell_type": "code",
   "execution_count": 276,
   "metadata": {},
   "outputs": [],
   "source": [
    "# iterate 2014\n",
    "_2014 = {index:[row[6],row[1],row[3]] for index, row in area.iterrows() if row[4] == 2014}\n",
    "df2014 = pd.DataFrame.from_dict(_2014, orient=\"index\")\n",
    "df2014.rename(columns= {0: 2014, 1:\"Area\", 2:\"Item\"}, inplace = True)"
   ]
  },
  {
   "cell_type": "code",
   "execution_count": 277,
   "metadata": {},
   "outputs": [],
   "source": [
    "# iterate 2015\n",
    "_2015 = {index:[row[6],row[1],row[3]] for index, row in area.iterrows() if row[4] == 2015}\n",
    "df2015 = pd.DataFrame.from_dict(_2015, orient=\"index\")\n",
    "df2015.rename(columns= {0: 2015, 1:\"Area\", 2:\"Item\"}, inplace = True)"
   ]
  },
  {
   "cell_type": "code",
   "execution_count": 278,
   "metadata": {},
   "outputs": [],
   "source": [
    "# iterate 2016\n",
    "_2016 = {index:[row[6],row[1],row[3]] for index, row in area.iterrows() if row[4] == 2016}\n",
    "df2016 = pd.DataFrame.from_dict(_2016, orient=\"index\")\n",
    "df2016.rename(columns= {0: 2016, 1:\"Area\", 2:\"Item\"}, inplace = True)"
   ]
  },
  {
   "cell_type": "code",
   "execution_count": 279,
   "metadata": {},
   "outputs": [],
   "source": [
    "# iterate 2017\n",
    "_2017 = {index:[row[6],row[1],row[3]] for index, row in area.iterrows() if row[4] == 2017}\n",
    "df2017 = pd.DataFrame.from_dict(_2017, orient=\"index\")\n",
    "df2017.rename(columns= {0: 2017, 1:\"Area\", 2:\"Item\"}, inplace = True)"
   ]
  },
  {
   "cell_type": "code",
   "execution_count": 280,
   "metadata": {},
   "outputs": [],
   "source": [
    "# iterate 2018\n",
    "_2018 = {index:[row[6],row[1],row[3]] for index, row in area.iterrows() if row[4] == 2018}\n",
    "df2018 = pd.DataFrame.from_dict(_2018, orient=\"index\")\n",
    "df2018.rename(columns= {0: 2018, 1:\"Area\", 2:\"Item\"}, inplace = True)"
   ]
  },
  {
   "cell_type": "code",
   "execution_count": 281,
   "metadata": {},
   "outputs": [],
   "source": [
    "# iterate 2019\n",
    "_2019 = {index:[row[6],row[1],row[3]] for index, row in area.iterrows() if row[4] == 2019}\n",
    "df2019 = pd.DataFrame.from_dict(_2019, orient=\"index\")\n",
    "df2019.rename(columns= {0: 2019, 1:\"Area\", 2:\"Item\"}, inplace = True)"
   ]
  },
  {
   "cell_type": "code",
   "execution_count": 282,
   "metadata": {},
   "outputs": [],
   "source": [
    "# iterate 2020\n",
    "_2020 = {index:[row[6],row[1],row[3]] for index, row in area.iterrows() if row[4] == 2020}\n",
    "df2020 = pd.DataFrame.from_dict(_2020, orient=\"index\")\n",
    "df2020.rename(columns= {0: 2020, 1:\"Area\", 2:\"Item\"}, inplace = True)"
   ]
  },
  {
   "cell_type": "code",
   "execution_count": 283,
   "metadata": {},
   "outputs": [],
   "source": [
    "# iterate 2021\n",
    "_2021 = {index:[row[6],row[1],row[3]] for index, row in area.iterrows() if row[4] == 2021}\n",
    "df2021 = pd.DataFrame.from_dict(_2021, orient=\"index\")\n",
    "df2021.rename(columns= {0: 2021, 1:\"Area\", 2:\"Item\"}, inplace = True)"
   ]
  },
  {
   "cell_type": "code",
   "execution_count": 284,
   "metadata": {},
   "outputs": [],
   "source": [
    "# Drop columns.\n",
    "area.drop(columns=[\"Domain\", \"Element\", \"Year\", \"Unit\", \"Value\"],inplace=True)"
   ]
  },
  {
   "cell_type": "code",
   "execution_count": 285,
   "metadata": {},
   "outputs": [],
   "source": [
    "# drop duplicates.\n",
    "area.drop_duplicates(inplace=True)"
   ]
  },
  {
   "cell_type": "code",
   "execution_count": 286,
   "metadata": {},
   "outputs": [],
   "source": [
    "# Merge all df from diferent years to production.\n",
    "area = pd.DataFrame.merge(area, df2010, how=\"left\")"
   ]
  },
  {
   "cell_type": "code",
   "execution_count": 287,
   "metadata": {},
   "outputs": [],
   "source": [
    "area = pd.DataFrame.merge(area, df2011, how=\"left\")"
   ]
  },
  {
   "cell_type": "code",
   "execution_count": 288,
   "metadata": {},
   "outputs": [],
   "source": [
    "area = pd.DataFrame.merge(area, df2012, how=\"left\")"
   ]
  },
  {
   "cell_type": "code",
   "execution_count": 289,
   "metadata": {},
   "outputs": [],
   "source": [
    "area = pd.DataFrame.merge(area, df2013, how=\"left\")"
   ]
  },
  {
   "cell_type": "code",
   "execution_count": 290,
   "metadata": {},
   "outputs": [],
   "source": [
    "area = pd.DataFrame.merge(area, df2014, how=\"left\")"
   ]
  },
  {
   "cell_type": "code",
   "execution_count": 291,
   "metadata": {},
   "outputs": [],
   "source": [
    "area = pd.DataFrame.merge(area, df2015, how=\"left\")"
   ]
  },
  {
   "cell_type": "code",
   "execution_count": 292,
   "metadata": {},
   "outputs": [],
   "source": [
    "area = pd.DataFrame.merge(area, df2016, how=\"left\")"
   ]
  },
  {
   "cell_type": "code",
   "execution_count": 293,
   "metadata": {},
   "outputs": [],
   "source": [
    "area = pd.DataFrame.merge(area, df2017, how=\"left\")"
   ]
  },
  {
   "cell_type": "code",
   "execution_count": 294,
   "metadata": {},
   "outputs": [],
   "source": [
    "area = pd.DataFrame.merge(area, df2018, how=\"left\")"
   ]
  },
  {
   "cell_type": "code",
   "execution_count": 295,
   "metadata": {},
   "outputs": [],
   "source": [
    "area = pd.DataFrame.merge(area, df2019, how=\"left\")"
   ]
  },
  {
   "cell_type": "code",
   "execution_count": 296,
   "metadata": {},
   "outputs": [],
   "source": [
    "area = pd.DataFrame.merge(area, df2020, how=\"left\")"
   ]
  },
  {
   "cell_type": "code",
   "execution_count": 297,
   "metadata": {},
   "outputs": [],
   "source": [
    "area = pd.DataFrame.merge(area, df2021, how=\"left\")"
   ]
  },
  {
   "cell_type": "code",
   "execution_count": 298,
   "metadata": {},
   "outputs": [],
   "source": [
    "# Drop duplicates from item and area columns.\n",
    "area = area.drop_duplicates(subset=[\"Item\", \"Area\"])"
   ]
  },
  {
   "cell_type": "code",
   "execution_count": 301,
   "metadata": {},
   "outputs": [
    {
     "data": {
      "text/html": [
       "<div>\n",
       "<style scoped>\n",
       "    .dataframe tbody tr th:only-of-type {\n",
       "        vertical-align: middle;\n",
       "    }\n",
       "\n",
       "    .dataframe tbody tr th {\n",
       "        vertical-align: top;\n",
       "    }\n",
       "\n",
       "    .dataframe thead th {\n",
       "        text-align: right;\n",
       "    }\n",
       "</style>\n",
       "<table border=\"1\" class=\"dataframe\">\n",
       "  <thead>\n",
       "    <tr style=\"text-align: right;\">\n",
       "      <th></th>\n",
       "      <th>Area</th>\n",
       "      <th>Item</th>\n",
       "      <th>2010</th>\n",
       "      <th>2011</th>\n",
       "      <th>2012</th>\n",
       "      <th>2013</th>\n",
       "      <th>2014</th>\n",
       "      <th>2015</th>\n",
       "      <th>2016</th>\n",
       "      <th>2017</th>\n",
       "      <th>2018</th>\n",
       "      <th>2019</th>\n",
       "      <th>2020</th>\n",
       "      <th>2021</th>\n",
       "    </tr>\n",
       "  </thead>\n",
       "  <tbody>\n",
       "    <tr>\n",
       "      <th>0</th>\n",
       "      <td>Afghanistan</td>\n",
       "      <td>Apples</td>\n",
       "      <td>8550.0</td>\n",
       "      <td>8863.0</td>\n",
       "      <td>9148.0</td>\n",
       "      <td>10341.0</td>\n",
       "      <td>12247.0</td>\n",
       "      <td>13038.0</td>\n",
       "      <td>19365.0</td>\n",
       "      <td>26847.0</td>\n",
       "      <td>28381.0</td>\n",
       "      <td>27559.0</td>\n",
       "      <td>25643.0</td>\n",
       "      <td>26540.0</td>\n",
       "    </tr>\n",
       "    <tr>\n",
       "      <th>1</th>\n",
       "      <td>Afghanistan</td>\n",
       "      <td>Barley</td>\n",
       "      <td>212000.0</td>\n",
       "      <td>190000.0</td>\n",
       "      <td>280000.0</td>\n",
       "      <td>278000.0</td>\n",
       "      <td>342472.0</td>\n",
       "      <td>282000.0</td>\n",
       "      <td>219208.0</td>\n",
       "      <td>68179.0</td>\n",
       "      <td>84147.0</td>\n",
       "      <td>84070.0</td>\n",
       "      <td>86099.0</td>\n",
       "      <td>84072.0</td>\n",
       "    </tr>\n",
       "    <tr>\n",
       "      <th>2</th>\n",
       "      <td>Afghanistan</td>\n",
       "      <td>Grapes</td>\n",
       "      <td>61132.0</td>\n",
       "      <td>61558.0</td>\n",
       "      <td>61690.0</td>\n",
       "      <td>62118.0</td>\n",
       "      <td>78405.0</td>\n",
       "      <td>78681.0</td>\n",
       "      <td>82450.0</td>\n",
       "      <td>87194.0</td>\n",
       "      <td>87517.0</td>\n",
       "      <td>89593.0</td>\n",
       "      <td>92584.0</td>\n",
       "      <td>96560.0</td>\n",
       "    </tr>\n",
       "    <tr>\n",
       "      <th>3</th>\n",
       "      <td>Afghanistan</td>\n",
       "      <td>Maize (corn)</td>\n",
       "      <td>183000.0</td>\n",
       "      <td>183000.0</td>\n",
       "      <td>141000.0</td>\n",
       "      <td>142000.0</td>\n",
       "      <td>127000.0</td>\n",
       "      <td>147273.0</td>\n",
       "      <td>151900.0</td>\n",
       "      <td>134225.0</td>\n",
       "      <td>72433.0</td>\n",
       "      <td>94910.0</td>\n",
       "      <td>140498.0</td>\n",
       "      <td>92144.0</td>\n",
       "    </tr>\n",
       "    <tr>\n",
       "      <th>4</th>\n",
       "      <td>Afghanistan</td>\n",
       "      <td>Other citrus fruit, n.e.c.</td>\n",
       "      <td>200.0</td>\n",
       "      <td>200.0</td>\n",
       "      <td>200.0</td>\n",
       "      <td>300.0</td>\n",
       "      <td>300.0</td>\n",
       "      <td>300.0</td>\n",
       "      <td>1662.0</td>\n",
       "      <td>1643.0</td>\n",
       "      <td>1700.0</td>\n",
       "      <td>3391.0</td>\n",
       "      <td>449.0</td>\n",
       "      <td>1403.0</td>\n",
       "    </tr>\n",
       "    <tr>\n",
       "      <th>...</th>\n",
       "      <td>...</td>\n",
       "      <td>...</td>\n",
       "      <td>...</td>\n",
       "      <td>...</td>\n",
       "      <td>...</td>\n",
       "      <td>...</td>\n",
       "      <td>...</td>\n",
       "      <td>...</td>\n",
       "      <td>...</td>\n",
       "      <td>...</td>\n",
       "      <td>...</td>\n",
       "      <td>...</td>\n",
       "      <td>...</td>\n",
       "      <td>...</td>\n",
       "    </tr>\n",
       "    <tr>\n",
       "      <th>2920</th>\n",
       "      <td>Zimbabwe</td>\n",
       "      <td>Rice</td>\n",
       "      <td>1543.0</td>\n",
       "      <td>1911.0</td>\n",
       "      <td>2833.0</td>\n",
       "      <td>2960.0</td>\n",
       "      <td>3755.0</td>\n",
       "      <td>4626.0</td>\n",
       "      <td>3780.0</td>\n",
       "      <td>3543.0</td>\n",
       "      <td>3371.0</td>\n",
       "      <td>2529.0</td>\n",
       "      <td>1260.0</td>\n",
       "      <td>3466.0</td>\n",
       "    </tr>\n",
       "    <tr>\n",
       "      <th>2921</th>\n",
       "      <td>Zimbabwe</td>\n",
       "      <td>Soya beans</td>\n",
       "      <td>42288.0</td>\n",
       "      <td>44672.0</td>\n",
       "      <td>50408.0</td>\n",
       "      <td>50785.0</td>\n",
       "      <td>60616.0</td>\n",
       "      <td>44155.0</td>\n",
       "      <td>39935.0</td>\n",
       "      <td>23515.0</td>\n",
       "      <td>37307.0</td>\n",
       "      <td>33136.0</td>\n",
       "      <td>32874.0</td>\n",
       "      <td>34648.0</td>\n",
       "    </tr>\n",
       "    <tr>\n",
       "      <th>2922</th>\n",
       "      <td>Zimbabwe</td>\n",
       "      <td>Sugar cane</td>\n",
       "      <td>40663.0</td>\n",
       "      <td>42828.0</td>\n",
       "      <td>53486.0</td>\n",
       "      <td>46605.0</td>\n",
       "      <td>43121.0</td>\n",
       "      <td>43094.0</td>\n",
       "      <td>43500.0</td>\n",
       "      <td>41000.0</td>\n",
       "      <td>45000.0</td>\n",
       "      <td>46000.0</td>\n",
       "      <td>47000.0</td>\n",
       "      <td>47000.0</td>\n",
       "    </tr>\n",
       "    <tr>\n",
       "      <th>2923</th>\n",
       "      <td>Zimbabwe</td>\n",
       "      <td>Tomatoes</td>\n",
       "      <td>3200.0</td>\n",
       "      <td>3146.0</td>\n",
       "      <td>3300.0</td>\n",
       "      <td>3300.0</td>\n",
       "      <td>3370.0</td>\n",
       "      <td>3508.0</td>\n",
       "      <td>3498.0</td>\n",
       "      <td>3481.0</td>\n",
       "      <td>3602.0</td>\n",
       "      <td>3607.0</td>\n",
       "      <td>3564.0</td>\n",
       "      <td>3591.0</td>\n",
       "    </tr>\n",
       "    <tr>\n",
       "      <th>2924</th>\n",
       "      <td>Zimbabwe</td>\n",
       "      <td>Wheat</td>\n",
       "      <td>6478.0</td>\n",
       "      <td>8645.0</td>\n",
       "      <td>21377.0</td>\n",
       "      <td>21753.0</td>\n",
       "      <td>18059.0</td>\n",
       "      <td>22114.0</td>\n",
       "      <td>22094.0</td>\n",
       "      <td>22070.0</td>\n",
       "      <td>16700.0</td>\n",
       "      <td>24186.0</td>\n",
       "      <td>44466.0</td>\n",
       "      <td>66434.0</td>\n",
       "    </tr>\n",
       "  </tbody>\n",
       "</table>\n",
       "<p>2925 rows × 14 columns</p>\n",
       "</div>"
      ],
      "text/plain": [
       "             Area                        Item      2010      2011      2012  \\\n",
       "0     Afghanistan                      Apples    8550.0    8863.0    9148.0   \n",
       "1     Afghanistan                      Barley  212000.0  190000.0  280000.0   \n",
       "2     Afghanistan                      Grapes   61132.0   61558.0   61690.0   \n",
       "3     Afghanistan                Maize (corn)  183000.0  183000.0  141000.0   \n",
       "4     Afghanistan  Other citrus fruit, n.e.c.     200.0     200.0     200.0   \n",
       "...           ...                         ...       ...       ...       ...   \n",
       "2920     Zimbabwe                        Rice    1543.0    1911.0    2833.0   \n",
       "2921     Zimbabwe                  Soya beans   42288.0   44672.0   50408.0   \n",
       "2922     Zimbabwe                  Sugar cane   40663.0   42828.0   53486.0   \n",
       "2923     Zimbabwe                    Tomatoes    3200.0    3146.0    3300.0   \n",
       "2924     Zimbabwe                       Wheat    6478.0    8645.0   21377.0   \n",
       "\n",
       "          2013      2014      2015      2016      2017     2018     2019  \\\n",
       "0      10341.0   12247.0   13038.0   19365.0   26847.0  28381.0  27559.0   \n",
       "1     278000.0  342472.0  282000.0  219208.0   68179.0  84147.0  84070.0   \n",
       "2      62118.0   78405.0   78681.0   82450.0   87194.0  87517.0  89593.0   \n",
       "3     142000.0  127000.0  147273.0  151900.0  134225.0  72433.0  94910.0   \n",
       "4        300.0     300.0     300.0    1662.0    1643.0   1700.0   3391.0   \n",
       "...        ...       ...       ...       ...       ...      ...      ...   \n",
       "2920    2960.0    3755.0    4626.0    3780.0    3543.0   3371.0   2529.0   \n",
       "2921   50785.0   60616.0   44155.0   39935.0   23515.0  37307.0  33136.0   \n",
       "2922   46605.0   43121.0   43094.0   43500.0   41000.0  45000.0  46000.0   \n",
       "2923    3300.0    3370.0    3508.0    3498.0    3481.0   3602.0   3607.0   \n",
       "2924   21753.0   18059.0   22114.0   22094.0   22070.0  16700.0  24186.0   \n",
       "\n",
       "          2020     2021  \n",
       "0      25643.0  26540.0  \n",
       "1      86099.0  84072.0  \n",
       "2      92584.0  96560.0  \n",
       "3     140498.0  92144.0  \n",
       "4        449.0   1403.0  \n",
       "...        ...      ...  \n",
       "2920    1260.0   3466.0  \n",
       "2921   32874.0  34648.0  \n",
       "2922   47000.0  47000.0  \n",
       "2923    3564.0   3591.0  \n",
       "2924   44466.0  66434.0  \n",
       "\n",
       "[2925 rows x 14 columns]"
      ]
     },
     "execution_count": 301,
     "metadata": {},
     "output_type": "execute_result"
    }
   ],
   "source": [
    "area"
   ]
  },
  {
   "attachments": {},
   "cell_type": "markdown",
   "metadata": {},
   "source": [
    "['Wheat & Rye (Bread)', 'Maize (Meal)', 'Barley (Beer)', 'Oatmeal', 'Rice', 'Potatoes', 'Cassava', 'Cane Sugar', 'Beet Sugar', 'Other Pulses', 'Peas', 'Nuts', 'Groundnuts', 'Soymilk', 'Tofu', 'Soybean Oil', 'Palm Oil', 'Sunflower Oil', 'Rapeseed Oil', 'Olive Oil', 'Tomatoes', 'Onions & Leeks', 'Root Vegetables', 'Brassicas', 'Other Vegetables', 'Citrus Fruit', 'Bananas', 'Apples', 'Berries & Grapes', 'Wine', 'Other Fruit', 'Coffee', 'Dark Chocolate', 'Beef (beef herd)', 'Beef (dairy herd)', 'Lamb & Mutton', 'Pig Meat', 'Poultry Meat', 'Milk', 'Cheese', 'Eggs', 'Fish (farmed)', 'Shrimps (farmed)']"
   ]
  },
  {
   "cell_type": "code",
   "execution_count": 245,
   "metadata": {},
   "outputs": [
    {
     "name": "stdout",
     "output_type": "stream",
     "text": [
      "['Apples', 'Barley', 'Maize (corn)', 'Other berries and fruits of the genus vaccinium n.e.c.', 'Other citrus fruit, n.e.c.', 'Other fruits, n.e.c.', 'Other pulses n.e.c.', 'Other vegetables, fresh n.e.c.', 'Potatoes', 'Rice', 'Sugar beet', 'Sugar cane', 'Walnuts, in shell', 'Wheat', 'Apples', 'Barley', 'Chestnuts, in shell', 'Maize (corn)', 'Onions and shallots, green', 'Other citrus fruit, n.e.c.', 'Other fruits, n.e.c.', 'Other pulses n.e.c.', 'Other vegetables, fresh n.e.c.', 'Peas, green', 'Potatoes', 'Rice', 'Soya beans', 'Sugar beet', 'Tomatoes', 'Wheat', 'Apples', 'Bananas', 'Barley', 'Groundnuts, excluding shelled', 'Maize (corn)', 'Onions and shallots, green', 'Other citrus fruit, n.e.c.', 'Other fruits, n.e.c.', 'Other pulses n.e.c.', 'Other vegetables, fresh n.e.c.', 'Peas, dry', 'Peas, green', 'Potatoes', 'Rice', 'Sugar beet', 'Tomatoes', 'Wheat', 'Bananas', 'Cashew nuts, in shell', 'Cassava, fresh', 'Cocoa beans', 'Coffee, green', 'Groundnuts, excluding shelled', 'Maize (corn)', 'Onions and shallots, green', 'Other citrus fruit, n.e.c.', 'Other fruits, n.e.c.', 'Other vegetables, fresh n.e.c.', 'Potatoes', 'Rice', 'Soya beans', 'Sugar cane', 'Tomatoes', 'Wheat', 'Bananas', 'Cassava, fresh', 'Maize (corn)', 'Other vegetables, fresh n.e.c.', 'Sugar cane', 'Tomatoes', 'Apples', 'Bananas', 'Barley', 'Cassava, fresh', 'Groundnuts, excluding shelled', 'Maize (corn)', 'Other vegetables, fresh n.e.c.', 'Peas, dry', 'Peas, green', 'Potatoes', 'Rice', 'Soya beans', 'Sugar cane', 'Tomatoes', 'Walnuts, in shell', 'Wheat', 'Apples', 'Barley', 'Maize (corn)', 'Other berries and fruits of the genus vaccinium n.e.c.', 'Other fruits, n.e.c.', 'Other pulses n.e.c.', 'Other vegetables, fresh n.e.c.', 'Peas, dry', 'Peas, green', 'Potatoes', 'Rice', 'Sugar beet', 'Tomatoes', 'Walnuts, in shell', 'Wheat', 'Apples', 'Bananas', 'Barley', 'Groundnuts, excluding shelled', 'Maize (corn)', 'Other berries and fruits of the genus vaccinium n.e.c.', 'Other citrus fruit, n.e.c.', 'Other pulses n.e.c.', 'Other vegetables, fresh n.e.c.', 'Peas, dry', 'Peas, green', 'Potatoes', 'Rice', 'Soya beans', 'Sugar cane', 'Tomatoes', 'Walnuts, in shell', 'Wheat', 'Apples', 'Bananas', 'Barley', 'Maize (corn)', 'Other berries and fruits of the genus vaccinium n.e.c.', 'Other citrus fruit, n.e.c.', 'Other pulses n.e.c.', 'Other vegetables, fresh n.e.c.', 'Peas, dry', 'Peas, green', 'Potatoes', 'Soya beans', 'Sugar beet', 'Tomatoes', 'Walnuts, in shell', 'Wheat', 'Apples', 'Barley', 'Chestnuts, in shell', 'Maize (corn)', 'Onions and shallots, green', 'Other berries and fruits of the genus vaccinium n.e.c.', 'Other citrus fruit, n.e.c.', 'Other fruits, n.e.c.', 'Other pulses n.e.c.', 'Other vegetables, fresh n.e.c.', 'Peas, dry', 'Peas, green', 'Potatoes', 'Rice', 'Soya beans', 'Sugar beet', 'Tomatoes', 'Walnuts, in shell', 'Wheat', 'Bananas', 'Cassava, fresh', 'Maize (corn)', 'Onions and shallots, green', 'Other vegetables, fresh n.e.c.', 'Potatoes', 'Sugar cane', 'Tomatoes', 'Bananas', 'Other fruits, n.e.c.', 'Other pulses n.e.c.', 'Other vegetables, fresh n.e.c.', 'Potatoes', 'Tomatoes', 'Bananas', 'Barley', 'Cashew nuts, in shell', 'Groundnuts, excluding shelled', 'Maize (corn)', 'Other berries and fruits of the genus vaccinium n.e.c.', 'Other fruits, n.e.c.', 'Other pulses n.e.c.', 'Other vegetables, fresh n.e.c.', 'Peas, dry', 'Potatoes', 'Rice', 'Soya beans', 'Sugar cane', 'Tomatoes', 'Wheat', 'Bananas', 'Cassava, fresh', 'Groundnuts, excluding shelled', 'Maize (corn)', 'Other fruits, n.e.c.', 'Other pulses n.e.c.', 'Other vegetables, fresh n.e.c.', 'Sugar cane', 'Tomatoes', 'Apples', 'Barley', 'Maize (corn)', 'Other pulses n.e.c.', 'Other vegetables, fresh n.e.c.', 'Peas, dry', 'Peas, green', 'Potatoes', 'Sugar beet', 'Tomatoes', 'Walnuts, in shell', 'Wheat', 'Apples', 'Bananas', 'Barley', 'Maize (corn)', 'Other berries and fruits of the genus vaccinium n.e.c.', 'Other citrus fruit, n.e.c.', 'Other pulses n.e.c.', 'Other vegetables, fresh n.e.c.', 'Peas, dry', 'Peas, green', 'Potatoes', 'Rice', 'Sugar beet', 'Tomatoes', 'Walnuts, in shell', 'Wheat', 'Apples', 'Barley', 'Maize (corn)', 'Onions and shallots, green', 'Other berries and fruits of the genus vaccinium n.e.c.', 'Other pulses n.e.c.', 'Other vegetables, fresh n.e.c.', 'Peas, dry', 'Peas, green', 'Potatoes', 'Sugar beet', 'Tomatoes', 'Walnuts, in shell', 'Wheat', 'Bananas', 'Cashew nuts, in shell', 'Cassava, fresh', 'Cocoa beans', 'Coffee, green', 'Edible roots and tubers with high starch or inulin content, n.e.c., fresh', 'Groundnuts, excluding shelled', 'Maize (corn)', 'Onions and shallots, green', 'Other fruits, n.e.c.', 'Other vegetables, fresh n.e.c.', 'Peas, dry', 'Peas, green', 'Potatoes', 'Rice', 'Soya beans', 'Sugar cane', 'Tomatoes', 'Bananas', 'Cashew nuts, in shell', 'Cassava, fresh', 'Cocoa beans', 'Coffee, green', 'Groundnuts, excluding shelled', 'Maize (corn)', 'Other fruits, n.e.c.', 'Other pulses n.e.c.', 'Other vegetables, fresh n.e.c.', 'Potatoes', 'Rice', 'Soya beans', 'Sugar cane', 'Tomatoes', 'Apples', 'Bananas', 'Barley', 'Edible roots and tubers with high starch or inulin content, n.e.c., fresh', 'Groundnuts, excluding shelled', 'Maize (corn)', 'Other citrus fruit, n.e.c.', 'Other fruits, n.e.c.', 'Other pulses n.e.c.', 'Other vegetables, fresh n.e.c.', 'Peas, dry', 'Peas, green', 'Potatoes', 'Rice', 'Soya beans', 'Sugar cane', 'Tomatoes', 'Walnuts, in shell', 'Wheat', 'Apples', 'Bananas', 'Barley', 'Cassava, fresh', 'Chestnuts, in shell', 'Cocoa beans', 'Coffee, green', 'Edible roots and tubers with high starch or inulin content, n.e.c., fresh', 'Groundnuts, excluding shelled', 'Maize (corn)', 'Other fruits, n.e.c.', 'Other vegetables, fresh n.e.c.', 'Peas, dry', 'Peas, green', 'Potatoes', 'Rice', 'Soya beans', 'Sugar cane', 'Tomatoes', 'Wheat', 'Apples', 'Barley', 'Chestnuts, in shell', 'Maize (corn)', 'Other berries and fruits of the genus vaccinium n.e.c.', 'Other fruits, n.e.c.', 'Other vegetables, fresh n.e.c.', 'Peas, dry', 'Potatoes', 'Soya beans', 'Sugar beet', 'Tomatoes', 'Walnuts, in shell', 'Wheat', 'Edible roots and tubers with high starch or inulin content, n.e.c., fresh', 'Groundnuts, excluding shelled', 'Maize (corn)', 'Other fruits, n.e.c.', 'Other pulses n.e.c.', 'Other vegetables, fresh n.e.c.', 'Potatoes', 'Tomatoes', 'Wheat', 'Apples', 'Bananas', 'Barley', 'Cashew nuts, in shell', 'Cassava, fresh', 'Cocoa beans', 'Coffee, green', 'Groundnuts, excluding shelled', 'Maize (corn)', 'Other vegetables, fresh n.e.c.', 'Peas, dry', 'Potatoes', 'Rice', 'Soya beans', 'Sugar cane', 'Tomatoes', 'Walnuts, in shell', 'Wheat', 'Bananas', 'Cassava, fresh', 'Edible roots and tubers with high starch or inulin content, n.e.c., fresh', 'Onions and shallots, green', 'Other fruits, n.e.c.', 'Other vegetables, fresh n.e.c.', 'Rice', 'Tomatoes', 'Apples', 'Bananas', 'Barley', 'Chestnuts, in shell', 'Edible roots and tubers with high starch or inulin content, n.e.c., fresh', 'Groundnuts, excluding shelled', 'Maize (corn)', 'Onions and shallots, green', 'Other berries and fruits of the genus vaccinium n.e.c.', 'Other citrus fruit, n.e.c.', 'Other fruits, n.e.c.', 'Other pulses n.e.c.', 'Other vegetables, fresh n.e.c.', 'Peas, dry', 'Peas, green', 'Potatoes', 'Rice', 'Soya beans', 'Sugar beet', 'Tomatoes', 'Walnuts, in shell', 'Wheat', 'Bananas', 'Cashew nuts, in shell', 'Cassava, fresh', 'Groundnuts, excluding shelled', 'Maize (corn)', 'Onions and shallots, green', 'Other fruits, n.e.c.', 'Other pulses n.e.c.', 'Other vegetables, fresh n.e.c.', 'Potatoes', 'Rice', 'Soya beans', 'Sugar cane', 'Tomatoes', 'Walnuts, in shell', 'Bananas', 'Cassava, fresh', 'Coffee, green', 'Groundnuts, excluding shelled', 'Maize (corn)', 'Other fruits, n.e.c.', 'Other vegetables, fresh n.e.c.', 'Peas, dry', 'Potatoes', 'Rice', 'Soya beans', 'Sugar cane', 'Wheat', 'Bananas', 'Cassava, fresh', 'Coffee, green', 'Groundnuts, excluding shelled', 'Maize (corn)', 'Other fruits, n.e.c.', 'Other pulses n.e.c.', 'Other vegetables, fresh n.e.c.', 'Potatoes', 'Sugar cane', 'Tomatoes', 'Bananas', 'Cassava, fresh', 'Coffee, green', 'Edible roots and tubers with high starch or inulin content, n.e.c., fresh', 'Groundnuts, excluding shelled', 'Maize (corn)', 'Other fruits, n.e.c.', 'Other vegetables, fresh n.e.c.', 'Rice', 'Soya beans', 'Sugar cane', 'Bananas', 'Cassava, fresh', 'Chestnuts, in shell', 'Cocoa beans', 'Coffee, green', 'Edible roots and tubers with high starch or inulin content, n.e.c., fresh', 'Groundnuts, excluding shelled', 'Maize (corn)', 'Other fruits, n.e.c.', 'Other pulses n.e.c.', 'Other vegetables, fresh n.e.c.', 'Potatoes', 'Rice', 'Soya beans', 'Sugar cane', 'Tomatoes', 'Wheat', 'Apples', 'Barley', 'Maize (corn)', 'Other berries and fruits of the genus vaccinium n.e.c.', 'Other vegetables, fresh n.e.c.', 'Peas, dry', 'Peas, green', 'Potatoes', 'Soya beans', 'Sugar beet', 'Tomatoes', 'Wheat', 'Bananas', 'Cassava, fresh', 'Cocoa beans', 'Coffee, green', 'Groundnuts, excluding shelled', 'Maize (corn)', 'Other pulses n.e.c.', 'Other vegetables, fresh n.e.c.', 'Potatoes', 'Rice', 'Sugar cane', 'Cassava, fresh', 'Groundnuts, excluding shelled', 'Maize (corn)', 'Other fruits, n.e.c.', 'Other pulses n.e.c.', 'Other vegetables, fresh n.e.c.', 'Potatoes', 'Rice', 'Sugar cane', 'Wheat', 'Apples', 'Barley', 'Chestnuts, in shell', 'Maize (corn)', 'Other fruits, n.e.c.', 'Other vegetables, fresh n.e.c.', 'Peas, dry', 'Peas, green', 'Potatoes', 'Rice', 'Soya beans', 'Sugar beet', 'Tomatoes', 'Walnuts, in shell', 'Wheat', 'Apples', 'Bananas', 'Barley', 'Cashew nuts, in shell', 'Cassava, fresh', 'Chestnuts, in shell', 'Cocoa beans', 'Coffee, green', 'Edible roots and tubers with high starch or inulin content, n.e.c., fresh', 'Groundnuts, excluding shelled', 'Maize (corn)', 'Onions and shallots, green', 'Other berries and fruits of the genus vaccinium n.e.c.', 'Other citrus fruit, n.e.c.', 'Other fruits, n.e.c.', 'Other pulses n.e.c.', 'Other vegetables, fresh n.e.c.', 'Peas, dry', 'Peas, green', 'Potatoes', 'Rice', 'Soya beans', 'Sugar beet', 'Sugar cane', 'Tomatoes', 'Walnuts, in shell', 'Wheat', 'Onions and shallots, green', 'Other fruits, n.e.c.', 'Other vegetables, fresh n.e.c.', 'Peas, green', 'Rice', 'Tomatoes', 'Edible roots and tubers with high starch or inulin content, n.e.c., fresh', 'Other pulses n.e.c.', 'Other vegetables, fresh n.e.c.', 'Apples', 'Bananas', 'Barley', 'Cashew nuts, in shell', 'Cassava, fresh', 'Chestnuts, in shell', 'Coffee, green', 'Edible roots and tubers with high starch or inulin content, n.e.c., fresh', 'Groundnuts, excluding shelled', 'Maize (corn)', 'Onions and shallots, green', 'Other berries and fruits of the genus vaccinium n.e.c.', 'Other citrus fruit, n.e.c.', 'Other fruits, n.e.c.', 'Other pulses n.e.c.', 'Other vegetables, fresh n.e.c.', 'Peas, dry', 'Peas, green', 'Potatoes', 'Rice', 'Soya beans', 'Sugar beet', 'Sugar cane', 'Tomatoes', 'Walnuts, in shell', 'Wheat', 'Apples', 'Bananas', 'Barley', 'Cassava, fresh', 'Cocoa beans', 'Coffee, green', 'Edible roots and tubers with high starch or inulin content, n.e.c., fresh', 'Groundnuts, excluding shelled', 'Maize (corn)', 'Onions and shallots, green', 'Other citrus fruit, n.e.c.', 'Other fruits, n.e.c.', 'Other vegetables, fresh n.e.c.', 'Peas, green', 'Potatoes', 'Rice', 'Soya beans', 'Sugar cane', 'Tomatoes', 'Wheat', 'Apples', 'Bananas', 'Barley', 'Cashew nuts, in shell', 'Cassava, fresh', 'Cocoa beans', 'Coffee, green', 'Edible roots and tubers with high starch or inulin content, n.e.c., fresh', 'Groundnuts, excluding shelled', 'Maize (corn)', 'Other citrus fruit, n.e.c.', 'Other fruits, n.e.c.', 'Other pulses n.e.c.', 'Other vegetables, fresh n.e.c.', 'Peas, dry', 'Peas, green', 'Potatoes', 'Rice', 'Soya beans', 'Sugar beet', 'Sugar cane', 'Tomatoes', 'Wheat', 'Bananas', 'Cassava, fresh', 'Cocoa beans', 'Coffee, green', 'Groundnuts, excluding shelled', 'Maize (corn)', 'Onions and shallots, green', 'Other fruits, n.e.c.', 'Other pulses n.e.c.', 'Other vegetables, fresh n.e.c.', 'Potatoes', 'Rice', 'Tomatoes', 'Bananas', 'Cassava, fresh', 'Cocoa beans', 'Coffee, green', 'Edible roots and tubers with high starch or inulin content, n.e.c., fresh', 'Groundnuts, excluding shelled', 'Maize (corn)', 'Other fruits, n.e.c.', 'Other vegetables, fresh n.e.c.', 'Peas, dry', 'Potatoes', 'Rice', 'Sugar beet', 'Sugar cane', 'Tomatoes', 'Bananas', 'Cassava, fresh', 'Coffee, green', 'Edible roots and tubers with high starch or inulin content, n.e.c., fresh', 'Other fruits, n.e.c.', 'Other vegetables, fresh n.e.c.', 'Tomatoes', 'Bananas', 'Cassava, fresh', 'Cocoa beans', 'Coffee, green', 'Edible roots and tubers with high starch or inulin content, n.e.c., fresh', 'Groundnuts, excluding shelled', 'Maize (corn)', 'Onions and shallots, green', 'Other berries and fruits of the genus vaccinium n.e.c.', 'Other fruits, n.e.c.', 'Other vegetables, fresh n.e.c.', 'Potatoes', 'Rice', 'Soya beans', 'Sugar cane', 'Tomatoes', 'Apples', 'Bananas', 'Barley', 'Chestnuts, in shell', 'Maize (corn)', 'Other berries and fruits of the genus vaccinium n.e.c.', 'Other citrus fruit, n.e.c.', 'Other pulses n.e.c.', 'Other vegetables, fresh n.e.c.', 'Peas, dry', 'Peas, green', 'Potatoes', 'Rice', 'Soya beans', 'Sugar beet', 'Tomatoes', 'Walnuts, in shell', 'Wheat', 'Bananas', 'Cassava, fresh', 'Cocoa beans', 'Coffee, green', 'Edible roots and tubers with high starch or inulin content, n.e.c., fresh', 'Groundnuts, excluding shelled', 'Maize (corn)', 'Other citrus fruit, n.e.c.', 'Other fruits, n.e.c.', 'Other vegetables, fresh n.e.c.', 'Potatoes', 'Rice', 'Soya beans', 'Sugar cane', 'Tomatoes', 'Apples', 'Bananas', 'Barley', 'Edible roots and tubers with high starch or inulin content, n.e.c., fresh', 'Groundnuts, excluding shelled', 'Onions and shallots, green', 'Other citrus fruit, n.e.c.', 'Other fruits, n.e.c.', 'Other pulses n.e.c.', 'Other vegetables, fresh n.e.c.', 'Peas, dry', 'Peas, green', 'Potatoes', 'Rice', 'Soya beans', 'Sugar beet', 'Tomatoes', 'Walnuts, in shell', 'Wheat', 'Apples', 'Bananas', 'Barley', 'Maize (corn)', 'Other berries and fruits of the genus vaccinium n.e.c.', 'Other citrus fruit, n.e.c.', 'Other fruits, n.e.c.', 'Other pulses n.e.c.', 'Other vegetables, fresh n.e.c.', 'Peas, dry', 'Peas, green', 'Potatoes', 'Rice', 'Soya beans', 'Sugar beet', 'Tomatoes', 'Walnuts, in shell', 'Wheat', 'Apples', 'Barley', 'Chestnuts, in shell', 'Maize (corn)', 'Onions and shallots, green', 'Other fruits, n.e.c.', 'Other pulses n.e.c.', 'Other vegetables, fresh n.e.c.', 'Potatoes', 'Rice', 'Soya beans', 'Tomatoes', 'Walnuts, in shell', 'Wheat', 'Bananas', 'Barley', 'Cassava, fresh', 'Cocoa beans', 'Coffee, green', 'Edible roots and tubers with high starch or inulin content, n.e.c., fresh', 'Groundnuts, excluding shelled', 'Maize (corn)', 'Other fruits, n.e.c.', 'Other pulses n.e.c.', 'Other vegetables, fresh n.e.c.', 'Peas, dry', 'Potatoes', 'Rice', 'Soya beans', 'Sugar cane', 'Tomatoes', 'Wheat', 'Apples', 'Bananas', 'Barley', 'Maize (corn)', 'Other berries and fruits of the genus vaccinium n.e.c.', 'Other citrus fruit, n.e.c.', 'Other fruits, n.e.c.', 'Other pulses n.e.c.', 'Other vegetables, fresh n.e.c.', 'Peas, dry', 'Peas, green', 'Potatoes', 'Rice', 'Soya beans', 'Sugar beet', 'Tomatoes', 'Wheat', 'Maize (corn)', 'Onions and shallots, green', 'Other vegetables, fresh n.e.c.', 'Tomatoes', 'Bananas', 'Cassava, fresh', 'Cocoa beans', 'Coffee, green', 'Edible roots and tubers with high starch or inulin content, n.e.c., fresh', 'Maize (corn)', 'Other fruits, n.e.c.', 'Other pulses n.e.c.', 'Other vegetables, fresh n.e.c.', 'Potatoes', 'Sugar cane', 'Tomatoes', 'Bananas', 'Cashew nuts, in shell', 'Cassava, fresh', 'Cocoa beans', 'Coffee, green', 'Edible roots and tubers with high starch or inulin content, n.e.c., fresh', 'Groundnuts, excluding shelled', 'Maize (corn)', 'Other fruits, n.e.c.', 'Other pulses n.e.c.', 'Other vegetables, fresh n.e.c.', 'Peas, dry', 'Potatoes', 'Rice', 'Sugar beet', 'Sugar cane', 'Tomatoes', 'Apples', 'Bananas', 'Barley', 'Cassava, fresh', 'Cocoa beans', 'Coffee, green', 'Edible roots and tubers with high starch or inulin content, n.e.c., fresh', 'Groundnuts, excluding shelled', 'Maize (corn)', 'Onions and shallots, green', 'Other berries and fruits of the genus vaccinium n.e.c.', 'Other citrus fruit, n.e.c.', 'Other fruits, n.e.c.', 'Other pulses n.e.c.', 'Other vegetables, fresh n.e.c.', 'Peas, dry', 'Peas, green', 'Potatoes', 'Rice', 'Soya beans', 'Sugar beet', 'Sugar cane', 'Tomatoes', 'Wheat', 'Apples', 'Bananas', 'Barley', 'Edible roots and tubers with high starch or inulin content, n.e.c., fresh', 'Groundnuts, excluding shelled', 'Maize (corn)', 'Other berries and fruits of the genus vaccinium n.e.c.', 'Other citrus fruit, n.e.c.', 'Other fruits, n.e.c.', 'Other pulses n.e.c.', 'Other vegetables, fresh n.e.c.', 'Peas, dry', 'Peas, green', 'Potatoes', 'Rice', 'Soya beans', 'Sugar beet', 'Sugar cane', 'Tomatoes', 'Walnuts, in shell', 'Wheat', 'Apples', 'Bananas', 'Cashew nuts, in shell', 'Cassava, fresh', 'Cocoa beans', 'Coffee, green', 'Groundnuts, excluding shelled', 'Maize (corn)', 'Other fruits, n.e.c.', 'Other vegetables, fresh n.e.c.', 'Potatoes', 'Rice', 'Soya beans', 'Sugar cane', 'Tomatoes', 'Barley', 'Edible roots and tubers with high starch or inulin content, n.e.c., fresh', 'Groundnuts, excluding shelled', 'Maize (corn)', 'Other fruits, n.e.c.', 'Other pulses n.e.c.', 'Other vegetables, fresh n.e.c.', 'Peas, dry', 'Potatoes', 'Wheat', 'Apples', 'Bananas', 'Barley', 'Chestnuts, in shell', 'Edible roots and tubers with high starch or inulin content, n.e.c., fresh', 'Maize (corn)', 'Other berries and fruits of the genus vaccinium n.e.c.', 'Other citrus fruit, n.e.c.', 'Other fruits, n.e.c.', 'Other pulses n.e.c.', 'Other vegetables, fresh n.e.c.', 'Peas, dry', 'Peas, green', 'Potatoes', 'Rice', 'Soya beans', 'Sugar beet', 'Tomatoes', 'Walnuts, in shell', 'Wheat', 'Bananas', 'Edible roots and tubers with high starch or inulin content, n.e.c., fresh', 'Groundnuts, excluding shelled', 'Maize (corn)', 'Other citrus fruit, n.e.c.', 'Other fruits, n.e.c.', 'Other pulses n.e.c.', 'Other vegetables, fresh n.e.c.', 'Potatoes', 'Rice', 'Sugar cane', 'Tomatoes', 'Wheat', 'Bananas', 'Barley', 'Coffee, green', 'Groundnuts, excluding shelled', 'Maize (corn)', 'Onions and shallots, green', 'Other citrus fruit, n.e.c.', 'Other fruits, n.e.c.', 'Other pulses n.e.c.', 'Other vegetables, fresh n.e.c.', 'Peas, dry', 'Peas, green', 'Potatoes', 'Rice', 'Soya beans', 'Sugar cane', 'Tomatoes', 'Wheat', 'Potatoes', 'Apples', 'Bananas', 'Barley', 'Chestnuts, in shell', 'Maize (corn)', 'Other berries and fruits of the genus vaccinium n.e.c.', 'Other citrus fruit, n.e.c.', 'Other fruits, n.e.c.', 'Other vegetables, fresh n.e.c.', 'Peas, dry', 'Peas, green', 'Potatoes', 'Rice', 'Soya beans', 'Sugar beet', 'Tomatoes', 'Walnuts, in shell', 'Wheat', 'Apples', 'Bananas', 'Barley', 'Chestnuts, in shell', 'Edible roots and tubers with high starch or inulin content, n.e.c., fresh', 'Maize (corn)', 'Onions and shallots, green', 'Other berries and fruits of the genus vaccinium n.e.c.', 'Other citrus fruit, n.e.c.', 'Other fruits, n.e.c.', 'Other pulses n.e.c.', 'Other vegetables, fresh n.e.c.', 'Peas, dry', 'Peas, green', 'Potatoes', 'Rice', 'Soya beans', 'Sugar beet', 'Tomatoes', 'Walnuts, in shell', 'Wheat', 'Bananas', 'Cassava, fresh', 'Maize (corn)', 'Other citrus fruit, n.e.c.', 'Other fruits, n.e.c.', 'Other vegetables, fresh n.e.c.', 'Rice', 'Sugar cane', 'Tomatoes', 'Bananas', 'Cassava, fresh', 'Coffee, green', 'Edible roots and tubers with high starch or inulin content, n.e.c., fresh', 'Onions and shallots, green', 'Other citrus fruit, n.e.c.', 'Other fruits, n.e.c.', 'Other vegetables, fresh n.e.c.', 'Potatoes', 'Sugar cane', 'Tomatoes', 'Bananas', 'Cassava, fresh', 'Cocoa beans', 'Coffee, green', 'Groundnuts, excluding shelled', 'Maize (corn)', 'Other citrus fruit, n.e.c.', 'Other fruits, n.e.c.', 'Other pulses n.e.c.', 'Other vegetables, fresh n.e.c.', 'Rice', 'Soya beans', 'Sugar cane', 'Tomatoes', 'Cashew nuts, in shell', 'Cassava, fresh', 'Groundnuts, excluding shelled', 'Maize (corn)', 'Other fruits, n.e.c.', 'Other pulses n.e.c.', 'Other vegetables, fresh n.e.c.', 'Rice', 'Apples', 'Barley', 'Chestnuts, in shell', 'Groundnuts, excluding shelled', 'Maize (corn)', 'Other berries and fruits of the genus vaccinium n.e.c.', 'Other citrus fruit, n.e.c.', 'Other fruits, n.e.c.', 'Other vegetables, fresh n.e.c.', 'Peas, dry', 'Potatoes', 'Soya beans', 'Sugar beet', 'Tomatoes', 'Walnuts, in shell', 'Wheat', 'Apples', 'Bananas', 'Barley', 'Maize (corn)', 'Onions and shallots, green', 'Other berries and fruits of the genus vaccinium n.e.c.', 'Other citrus fruit, n.e.c.', 'Other pulses n.e.c.', 'Other vegetables, fresh n.e.c.', 'Peas, dry', 'Peas, green', 'Potatoes', 'Rice', 'Soya beans', 'Sugar beet', 'Tomatoes', 'Walnuts, in shell', 'Wheat', 'Bananas', 'Cashew nuts, in shell', 'Cassava, fresh', 'Cocoa beans', 'Coffee, green', 'Edible roots and tubers with high starch or inulin content, n.e.c., fresh', 'Groundnuts, excluding shelled', 'Maize (corn)', 'Other citrus fruit, n.e.c.', 'Other fruits, n.e.c.', 'Other pulses n.e.c.']\n"
     ]
    }
   ],
   "source": [
    "'Onions and shallots, green'\n",
    "'Oatmeal', 'oats'"
   ]
  },
  {
   "cell_type": "code",
   "execution_count": null,
   "metadata": {},
   "outputs": [],
   "source": []
  },
  {
   "attachments": {},
   "cell_type": "markdown",
   "metadata": {},
   "source": [
    "IMPORT quantity data set."
   ]
  },
  {
   "cell_type": "code",
   "execution_count": 190,
   "metadata": {},
   "outputs": [
    {
     "data": {
      "text/html": [
       "<div>\n",
       "<style scoped>\n",
       "    .dataframe tbody tr th:only-of-type {\n",
       "        vertical-align: middle;\n",
       "    }\n",
       "\n",
       "    .dataframe tbody tr th {\n",
       "        vertical-align: top;\n",
       "    }\n",
       "\n",
       "    .dataframe thead th {\n",
       "        text-align: right;\n",
       "    }\n",
       "</style>\n",
       "<table border=\"1\" class=\"dataframe\">\n",
       "  <thead>\n",
       "    <tr style=\"text-align: right;\">\n",
       "      <th></th>\n",
       "      <th>Domain</th>\n",
       "      <th>Area</th>\n",
       "      <th>Element</th>\n",
       "      <th>Item</th>\n",
       "      <th>Year</th>\n",
       "      <th>Unit</th>\n",
       "      <th>Value</th>\n",
       "    </tr>\n",
       "  </thead>\n",
       "  <tbody>\n",
       "    <tr>\n",
       "      <th>32722</th>\n",
       "      <td>Crops and livestock products</td>\n",
       "      <td>Ghana</td>\n",
       "      <td>Production</td>\n",
       "      <td>Maize (corn)</td>\n",
       "      <td>2013</td>\n",
       "      <td>tonnes</td>\n",
       "      <td>1764477.0</td>\n",
       "    </tr>\n",
       "  </tbody>\n",
       "</table>\n",
       "</div>"
      ],
      "text/plain": [
       "                             Domain   Area     Element          Item  Year  \\\n",
       "32722  Crops and livestock products  Ghana  Production  Maize (corn)  2013   \n",
       "\n",
       "         Unit      Value  \n",
       "32722  tonnes  1764477.0  "
      ]
     },
     "execution_count": 190,
     "metadata": {},
     "output_type": "execute_result"
    }
   ],
   "source": [
    "production = pd.read_csv(\"D:\\ironhack\\proyectos\\_proy4\\csv\\\\production_quantity.csv\")\n",
    "production.sample()"
   ]
  },
  {
   "cell_type": "code",
   "execution_count": null,
   "metadata": {},
   "outputs": [],
   "source": [
    "# Drop columns.\n",
    "production.drop(columns=[\"Domain\", \"Element\"],inplace=True)"
   ]
  },
  {
   "cell_type": "code",
   "execution_count": 140,
   "metadata": {},
   "outputs": [],
   "source": [
    "# iterate 2010\n",
    "_2010 = {index:[row[4],row[0],row[1]] for index, row in production.iterrows() if row[2] == 2010}\n",
    "df2010 = pd.DataFrame.from_dict(_2010, orient=\"index\")\n",
    "df2010.rename(columns= {0: 2010, 1:\"Area\", 2:\"Item\"}, inplace = True)"
   ]
  },
  {
   "cell_type": "code",
   "execution_count": 141,
   "metadata": {},
   "outputs": [],
   "source": [
    "# iterate 2011\n",
    "_2011 = {index:[row[4],row[0],row[1]] for index, row in production.iterrows() if row[2] == 2011}\n",
    "df2011 = pd.DataFrame.from_dict(_2011, orient=\"index\")\n",
    "df2011.rename(columns= {0: 2011, 1:\"Area\", 2:\"Item\"}, inplace = True)"
   ]
  },
  {
   "cell_type": "code",
   "execution_count": 257,
   "metadata": {},
   "outputs": [
    {
     "ename": "IndexError",
     "evalue": "index 2 is out of bounds for axis 0 with size 2",
     "output_type": "error",
     "traceback": [
      "\u001b[1;31m---------------------------------------------------------------------------\u001b[0m",
      "\u001b[1;31mIndexError\u001b[0m                                Traceback (most recent call last)",
      "\u001b[1;32md:\\ironhack\\proyectos\\_proy4\\data\\analysis.ipynb Cell 52\u001b[0m in \u001b[0;36m<cell line: 2>\u001b[1;34m()\u001b[0m\n\u001b[0;32m      <a href='vscode-notebook-cell:/d%3A/ironhack/proyectos/_proy4/data/analysis.ipynb#Y101sZmlsZQ%3D%3D?line=0'>1</a>\u001b[0m \u001b[39m# iterate 2012\u001b[39;00m\n\u001b[1;32m----> <a href='vscode-notebook-cell:/d%3A/ironhack/proyectos/_proy4/data/analysis.ipynb#Y101sZmlsZQ%3D%3D?line=1'>2</a>\u001b[0m _2012 \u001b[39m=\u001b[39m {index:[row[\u001b[39m4\u001b[39m],row[\u001b[39m0\u001b[39m],row[\u001b[39m1\u001b[39m]] \u001b[39mfor\u001b[39;00m index, row \u001b[39min\u001b[39;00m production\u001b[39m.\u001b[39miterrows() \u001b[39mif\u001b[39;00m row[\u001b[39m2\u001b[39m] \u001b[39m==\u001b[39m \u001b[39m2012\u001b[39m}\n\u001b[0;32m      <a href='vscode-notebook-cell:/d%3A/ironhack/proyectos/_proy4/data/analysis.ipynb#Y101sZmlsZQ%3D%3D?line=2'>3</a>\u001b[0m df2012 \u001b[39m=\u001b[39m pd\u001b[39m.\u001b[39mDataFrame\u001b[39m.\u001b[39mfrom_dict(_2012, orient\u001b[39m=\u001b[39m\u001b[39m\"\u001b[39m\u001b[39mindex\u001b[39m\u001b[39m\"\u001b[39m)\n\u001b[0;32m      <a href='vscode-notebook-cell:/d%3A/ironhack/proyectos/_proy4/data/analysis.ipynb#Y101sZmlsZQ%3D%3D?line=3'>4</a>\u001b[0m df2012\u001b[39m.\u001b[39mrename(columns\u001b[39m=\u001b[39m {\u001b[39m0\u001b[39m: \u001b[39m2012\u001b[39m, \u001b[39m1\u001b[39m:\u001b[39m\"\u001b[39m\u001b[39mArea\u001b[39m\u001b[39m\"\u001b[39m, \u001b[39m2\u001b[39m:\u001b[39m\"\u001b[39m\u001b[39mItem\u001b[39m\u001b[39m\"\u001b[39m}, inplace \u001b[39m=\u001b[39m \u001b[39mTrue\u001b[39;00m)\n",
      "\u001b[1;32md:\\ironhack\\proyectos\\_proy4\\data\\analysis.ipynb Cell 52\u001b[0m in \u001b[0;36m<dictcomp>\u001b[1;34m(.0)\u001b[0m\n\u001b[0;32m      <a href='vscode-notebook-cell:/d%3A/ironhack/proyectos/_proy4/data/analysis.ipynb#Y101sZmlsZQ%3D%3D?line=0'>1</a>\u001b[0m \u001b[39m# iterate 2012\u001b[39;00m\n\u001b[1;32m----> <a href='vscode-notebook-cell:/d%3A/ironhack/proyectos/_proy4/data/analysis.ipynb#Y101sZmlsZQ%3D%3D?line=1'>2</a>\u001b[0m _2012 \u001b[39m=\u001b[39m {index:[row[\u001b[39m4\u001b[39m],row[\u001b[39m0\u001b[39m],row[\u001b[39m1\u001b[39m]] \u001b[39mfor\u001b[39;00m index, row \u001b[39min\u001b[39;00m production\u001b[39m.\u001b[39miterrows() \u001b[39mif\u001b[39;00m row[\u001b[39m2\u001b[39;49m] \u001b[39m==\u001b[39m \u001b[39m2012\u001b[39m}\n\u001b[0;32m      <a href='vscode-notebook-cell:/d%3A/ironhack/proyectos/_proy4/data/analysis.ipynb#Y101sZmlsZQ%3D%3D?line=2'>3</a>\u001b[0m df2012 \u001b[39m=\u001b[39m pd\u001b[39m.\u001b[39mDataFrame\u001b[39m.\u001b[39mfrom_dict(_2012, orient\u001b[39m=\u001b[39m\u001b[39m\"\u001b[39m\u001b[39mindex\u001b[39m\u001b[39m\"\u001b[39m)\n\u001b[0;32m      <a href='vscode-notebook-cell:/d%3A/ironhack/proyectos/_proy4/data/analysis.ipynb#Y101sZmlsZQ%3D%3D?line=3'>4</a>\u001b[0m df2012\u001b[39m.\u001b[39mrename(columns\u001b[39m=\u001b[39m {\u001b[39m0\u001b[39m: \u001b[39m2012\u001b[39m, \u001b[39m1\u001b[39m:\u001b[39m\"\u001b[39m\u001b[39mArea\u001b[39m\u001b[39m\"\u001b[39m, \u001b[39m2\u001b[39m:\u001b[39m\"\u001b[39m\u001b[39mItem\u001b[39m\u001b[39m\"\u001b[39m}, inplace \u001b[39m=\u001b[39m \u001b[39mTrue\u001b[39;00m)\n",
      "File \u001b[1;32mc:\\Users\\ima_n\\miniconda2\\lib\\site-packages\\pandas\\core\\series.py:978\u001b[0m, in \u001b[0;36mSeries.__getitem__\u001b[1;34m(self, key)\u001b[0m\n\u001b[0;32m    975\u001b[0m     key \u001b[39m=\u001b[39m unpack_1tuple(key)\n\u001b[0;32m    977\u001b[0m \u001b[39mif\u001b[39;00m is_integer(key) \u001b[39mand\u001b[39;00m \u001b[39mself\u001b[39m\u001b[39m.\u001b[39mindex\u001b[39m.\u001b[39m_should_fallback_to_positional:\n\u001b[1;32m--> 978\u001b[0m     \u001b[39mreturn\u001b[39;00m \u001b[39mself\u001b[39;49m\u001b[39m.\u001b[39;49m_values[key]\n\u001b[0;32m    980\u001b[0m \u001b[39melif\u001b[39;00m key_is_scalar:\n\u001b[0;32m    981\u001b[0m     \u001b[39mreturn\u001b[39;00m \u001b[39mself\u001b[39m\u001b[39m.\u001b[39m_get_value(key)\n",
      "\u001b[1;31mIndexError\u001b[0m: index 2 is out of bounds for axis 0 with size 2"
     ]
    }
   ],
   "source": [
    "# iterate 2012\n",
    "_2012 = {index:[row[4],row[0],row[1]] for index, row in production.iterrows() if row[2] == 2012}\n",
    "df2012 = pd.DataFrame.from_dict(_2012, orient=\"index\")\n",
    "df2012.rename(columns= {0: 2012, 1:\"Area\", 2:\"Item\"}, inplace = True)"
   ]
  },
  {
   "cell_type": "code",
   "execution_count": 143,
   "metadata": {},
   "outputs": [],
   "source": [
    "# iterate 2013\n",
    "_2013 = {index:[row[4],row[0],row[1]] for index, row in production.iterrows() if row[2] == 2013}\n",
    "df2013 = pd.DataFrame.from_dict(_2013, orient=\"index\")\n",
    "df2013.rename(columns= {0: 2013, 1:\"Area\", 2:\"Item\"}, inplace = True)"
   ]
  },
  {
   "cell_type": "code",
   "execution_count": 144,
   "metadata": {},
   "outputs": [],
   "source": [
    "# iterate 2014\n",
    "_2014 = {index:[row[4],row[0],row[1]] for index, row in production.iterrows() if row[2] == 2014}\n",
    "df2014 = pd.DataFrame.from_dict(_2014, orient=\"index\")\n",
    "df2014.rename(columns= {0: 2014, 1:\"Area\", 2:\"Item\"}, inplace = True)"
   ]
  },
  {
   "cell_type": "code",
   "execution_count": 153,
   "metadata": {},
   "outputs": [],
   "source": [
    "# iterate 2015\n",
    "_2015 = {index:[row[4],row[0],row[1]] for index, row in production.iterrows() if row[2] == 2015}\n",
    "df2015 = pd.DataFrame.from_dict(_2015, orient=\"index\")\n",
    "df2015.rename(columns= {0: 2015, 1:\"Area\", 2:\"Item\"}, inplace = True)"
   ]
  },
  {
   "cell_type": "code",
   "execution_count": 154,
   "metadata": {},
   "outputs": [],
   "source": [
    "# iterate 2016\n",
    "_2016 = {index:[row[4],row[0],row[1]] for index, row in production.iterrows() if row[2] == 2016}\n",
    "df2016 = pd.DataFrame.from_dict(_2016, orient=\"index\")\n",
    "df2016.rename(columns= {0: 2016, 1:\"Area\", 2:\"Item\"}, inplace = True)"
   ]
  },
  {
   "cell_type": "code",
   "execution_count": 155,
   "metadata": {},
   "outputs": [],
   "source": [
    "# iterate 2017\n",
    "_2017 = {index:[row[4],row[0],row[1]] for index, row in production.iterrows() if row[2] == 2017}\n",
    "df2017 = pd.DataFrame.from_dict(_2017, orient=\"index\")\n",
    "df2017.rename(columns= {0: 2017, 1:\"Area\", 2:\"Item\"}, inplace = True)"
   ]
  },
  {
   "cell_type": "code",
   "execution_count": 156,
   "metadata": {},
   "outputs": [],
   "source": [
    "# iterate 2018\n",
    "_2018 = {index:[row[4],row[0],row[1]] for index, row in production.iterrows() if row[2] == 2018}\n",
    "df2018 = pd.DataFrame.from_dict(_2018, orient=\"index\")\n",
    "df2018.rename(columns= {0: 2018, 1:\"Area\", 2:\"Item\"}, inplace = True)"
   ]
  },
  {
   "cell_type": "code",
   "execution_count": 157,
   "metadata": {},
   "outputs": [],
   "source": [
    "# iterate 2019\n",
    "_2019 = {index:[row[4],row[0],row[1]] for index, row in production.iterrows() if row[2] == 2019}\n",
    "df2019 = pd.DataFrame.from_dict(_2019, orient=\"index\")\n",
    "df2019.rename(columns= {0: 2019, 1:\"Area\", 2:\"Item\"}, inplace = True)"
   ]
  },
  {
   "cell_type": "code",
   "execution_count": 158,
   "metadata": {},
   "outputs": [],
   "source": [
    "# iterate 2020\n",
    "_2020 = {index:[row[4],row[0],row[1]] for index, row in production.iterrows() if row[2] == 2020}\n",
    "df2020 = pd.DataFrame.from_dict(_2020, orient=\"index\")\n",
    "df2020.rename(columns= {0: 2020, 1:\"Area\", 2:\"Item\"}, inplace = True)"
   ]
  },
  {
   "cell_type": "code",
   "execution_count": 159,
   "metadata": {},
   "outputs": [],
   "source": [
    "# iterate 2021\n",
    "_2021 = {index:[row[4],row[0],row[1]] for index, row in production.iterrows() if row[2] == 2021}\n",
    "df2021 = pd.DataFrame.from_dict(_2021, orient=\"index\")\n",
    "df2021.rename(columns= {0: 2021, 1:\"Area\", 2:\"Item\"}, inplace = True)"
   ]
  },
  {
   "cell_type": "code",
   "execution_count": 160,
   "metadata": {},
   "outputs": [],
   "source": [
    "# Drop columns.\n",
    "production.drop(columns=[\"Year\", \"Value\", \"Unit\",\"Domain\", \"Element\"],inplace=True)"
   ]
  },
  {
   "cell_type": "code",
   "execution_count": 161,
   "metadata": {},
   "outputs": [],
   "source": [
    "# drop duplicates.\n",
    "production.drop_duplicates(inplace=True)"
   ]
  },
  {
   "cell_type": "code",
   "execution_count": 170,
   "metadata": {},
   "outputs": [],
   "source": [
    "# Merge all df from diferent years to production.\n",
    "production = pd.DataFrame.merge(production, df2010, how=\"left\")"
   ]
  },
  {
   "cell_type": "code",
   "execution_count": 171,
   "metadata": {},
   "outputs": [],
   "source": [
    "production = pd.DataFrame.merge(production, df2011, how=\"left\")"
   ]
  },
  {
   "cell_type": "code",
   "execution_count": 172,
   "metadata": {},
   "outputs": [],
   "source": [
    "production = pd.DataFrame.merge(production, df2012, how=\"left\")"
   ]
  },
  {
   "cell_type": "code",
   "execution_count": 173,
   "metadata": {},
   "outputs": [],
   "source": [
    "production = pd.DataFrame.merge(production, df2013, how=\"left\")"
   ]
  },
  {
   "cell_type": "code",
   "execution_count": 174,
   "metadata": {},
   "outputs": [],
   "source": [
    "production = pd.DataFrame.merge(production, df2014, how=\"left\")"
   ]
  },
  {
   "cell_type": "code",
   "execution_count": 177,
   "metadata": {},
   "outputs": [],
   "source": [
    "production = pd.DataFrame.merge(production, df2015, how=\"left\")"
   ]
  },
  {
   "cell_type": "code",
   "execution_count": 178,
   "metadata": {},
   "outputs": [],
   "source": [
    "production = pd.DataFrame.merge(production, df2016, how=\"left\")"
   ]
  },
  {
   "cell_type": "code",
   "execution_count": 179,
   "metadata": {},
   "outputs": [],
   "source": [
    "production = pd.DataFrame.merge(production, df2017, how=\"left\")"
   ]
  },
  {
   "cell_type": "code",
   "execution_count": 180,
   "metadata": {},
   "outputs": [],
   "source": [
    "production = pd.DataFrame.merge(production, df2018, how=\"left\")"
   ]
  },
  {
   "cell_type": "code",
   "execution_count": 181,
   "metadata": {},
   "outputs": [],
   "source": [
    "production = pd.DataFrame.merge(production, df2019, how=\"left\")"
   ]
  },
  {
   "cell_type": "code",
   "execution_count": 182,
   "metadata": {},
   "outputs": [],
   "source": [
    "production = pd.DataFrame.merge(production, df2020, how=\"left\")"
   ]
  },
  {
   "cell_type": "code",
   "execution_count": 183,
   "metadata": {},
   "outputs": [],
   "source": [
    "production = pd.DataFrame.merge(production, df2021, how=\"left\")"
   ]
  },
  {
   "cell_type": "code",
   "execution_count": 184,
   "metadata": {},
   "outputs": [
    {
     "data": {
      "text/html": [
       "<div>\n",
       "<style scoped>\n",
       "    .dataframe tbody tr th:only-of-type {\n",
       "        vertical-align: middle;\n",
       "    }\n",
       "\n",
       "    .dataframe tbody tr th {\n",
       "        vertical-align: top;\n",
       "    }\n",
       "\n",
       "    .dataframe thead th {\n",
       "        text-align: right;\n",
       "    }\n",
       "</style>\n",
       "<table border=\"1\" class=\"dataframe\">\n",
       "  <thead>\n",
       "    <tr style=\"text-align: right;\">\n",
       "      <th></th>\n",
       "      <th>Area</th>\n",
       "      <th>Item</th>\n",
       "      <th>2010</th>\n",
       "      <th>2011</th>\n",
       "      <th>2012</th>\n",
       "      <th>2013</th>\n",
       "      <th>2014</th>\n",
       "      <th>2015</th>\n",
       "      <th>2016</th>\n",
       "      <th>2017</th>\n",
       "      <th>2018</th>\n",
       "      <th>2019</th>\n",
       "      <th>2020</th>\n",
       "      <th>2021</th>\n",
       "    </tr>\n",
       "  </thead>\n",
       "  <tbody>\n",
       "    <tr>\n",
       "      <th>0</th>\n",
       "      <td>Afghanistan</td>\n",
       "      <td>Apples</td>\n",
       "      <td>59850.00</td>\n",
       "      <td>62041.00</td>\n",
       "      <td>70000.00</td>\n",
       "      <td>78597.00</td>\n",
       "      <td>89403.00</td>\n",
       "      <td>89733.00</td>\n",
       "      <td>140903.00</td>\n",
       "      <td>170443.00</td>\n",
       "      <td>217192.00</td>\n",
       "      <td>250324.00</td>\n",
       "      <td>270857.00</td>\n",
       "      <td>292586.58</td>\n",
       "    </tr>\n",
       "    <tr>\n",
       "      <th>1</th>\n",
       "      <td>Afghanistan</td>\n",
       "      <td>Barley</td>\n",
       "      <td>437000.00</td>\n",
       "      <td>305900.00</td>\n",
       "      <td>504000.00</td>\n",
       "      <td>514000.00</td>\n",
       "      <td>521000.00</td>\n",
       "      <td>403000.00</td>\n",
       "      <td>301856.00</td>\n",
       "      <td>94995.00</td>\n",
       "      <td>56781.00</td>\n",
       "      <td>123576.00</td>\n",
       "      <td>127757.00</td>\n",
       "      <td>122692.77</td>\n",
       "    </tr>\n",
       "    <tr>\n",
       "      <th>2</th>\n",
       "      <td>Afghanistan</td>\n",
       "      <td>Hen eggs in shell, fresh</td>\n",
       "      <td>16344.00</td>\n",
       "      <td>17210.00</td>\n",
       "      <td>18000.00</td>\n",
       "      <td>18000.00</td>\n",
       "      <td>18500.00</td>\n",
       "      <td>19833.01</td>\n",
       "      <td>19883.74</td>\n",
       "      <td>20000.00</td>\n",
       "      <td>19905.58</td>\n",
       "      <td>22040.18</td>\n",
       "      <td>22039.10</td>\n",
       "      <td>22248.74</td>\n",
       "    </tr>\n",
       "    <tr>\n",
       "      <th>4098</th>\n",
       "      <td>Afghanistan</td>\n",
       "      <td>Maize (corn)</td>\n",
       "      <td>301000.00</td>\n",
       "      <td>300120.00</td>\n",
       "      <td>310000.00</td>\n",
       "      <td>312000.00</td>\n",
       "      <td>316000.00</td>\n",
       "      <td>316000.00</td>\n",
       "      <td>311646.00</td>\n",
       "      <td>173912.00</td>\n",
       "      <td>106670.00</td>\n",
       "      <td>184671.00</td>\n",
       "      <td>271776.00</td>\n",
       "      <td>180000.00</td>\n",
       "    </tr>\n",
       "    <tr>\n",
       "      <th>4099</th>\n",
       "      <td>Afghanistan</td>\n",
       "      <td>Olive oil</td>\n",
       "      <td>595.68</td>\n",
       "      <td>538.56</td>\n",
       "      <td>538.56</td>\n",
       "      <td>545.93</td>\n",
       "      <td>658.42</td>\n",
       "      <td>711.37</td>\n",
       "      <td>740.90</td>\n",
       "      <td>763.25</td>\n",
       "      <td>812.16</td>\n",
       "      <td>833.25</td>\n",
       "      <td>821.31</td>\n",
       "      <td>NaN</td>\n",
       "    </tr>\n",
       "    <tr>\n",
       "      <th>...</th>\n",
       "      <td>...</td>\n",
       "      <td>...</td>\n",
       "      <td>...</td>\n",
       "      <td>...</td>\n",
       "      <td>...</td>\n",
       "      <td>...</td>\n",
       "      <td>...</td>\n",
       "      <td>...</td>\n",
       "      <td>...</td>\n",
       "      <td>...</td>\n",
       "      <td>...</td>\n",
       "      <td>...</td>\n",
       "      <td>...</td>\n",
       "      <td>...</td>\n",
       "    </tr>\n",
       "    <tr>\n",
       "      <th>910427</th>\n",
       "      <td>Zimbabwe</td>\n",
       "      <td>Tomatoes</td>\n",
       "      <td>25000.00</td>\n",
       "      <td>22500.00</td>\n",
       "      <td>23500.00</td>\n",
       "      <td>23500.00</td>\n",
       "      <td>24271.13</td>\n",
       "      <td>25322.84</td>\n",
       "      <td>25318.39</td>\n",
       "      <td>25278.36</td>\n",
       "      <td>25306.53</td>\n",
       "      <td>25301.09</td>\n",
       "      <td>25295.33</td>\n",
       "      <td>25300.98</td>\n",
       "    </tr>\n",
       "    <tr>\n",
       "      <th>910428</th>\n",
       "      <td>Zimbabwe</td>\n",
       "      <td>Wheat</td>\n",
       "      <td>18000.00</td>\n",
       "      <td>23000.00</td>\n",
       "      <td>53231.78</td>\n",
       "      <td>50966.05</td>\n",
       "      <td>40000.00</td>\n",
       "      <td>45302.00</td>\n",
       "      <td>42008.00</td>\n",
       "      <td>38715.00</td>\n",
       "      <td>45000.00</td>\n",
       "      <td>94685.00</td>\n",
       "      <td>212530.00</td>\n",
       "      <td>337212.00</td>\n",
       "    </tr>\n",
       "    <tr>\n",
       "      <th>910429</th>\n",
       "      <td>Zimbabwe</td>\n",
       "      <td>Whole milk, condensed</td>\n",
       "      <td>712.95</td>\n",
       "      <td>730.87</td>\n",
       "      <td>750.55</td>\n",
       "      <td>759.51</td>\n",
       "      <td>776.69</td>\n",
       "      <td>772.13</td>\n",
       "      <td>764.96</td>\n",
       "      <td>739.13</td>\n",
       "      <td>746.84</td>\n",
       "      <td>759.12</td>\n",
       "      <td>759.00</td>\n",
       "      <td>NaN</td>\n",
       "    </tr>\n",
       "    <tr>\n",
       "      <th>910430</th>\n",
       "      <td>Zimbabwe</td>\n",
       "      <td>Whole milk, evaporated</td>\n",
       "      <td>4705.49</td>\n",
       "      <td>4823.47</td>\n",
       "      <td>4953.61</td>\n",
       "      <td>5012.55</td>\n",
       "      <td>5125.02</td>\n",
       "      <td>5096.70</td>\n",
       "      <td>5049.87</td>\n",
       "      <td>4878.27</td>\n",
       "      <td>4929.81</td>\n",
       "      <td>5010.21</td>\n",
       "      <td>5009.42</td>\n",
       "      <td>NaN</td>\n",
       "    </tr>\n",
       "    <tr>\n",
       "      <th>910431</th>\n",
       "      <td>Zimbabwe</td>\n",
       "      <td>Wine</td>\n",
       "      <td>1750.00</td>\n",
       "      <td>1750.00</td>\n",
       "      <td>1750.00</td>\n",
       "      <td>1750.00</td>\n",
       "      <td>NaN</td>\n",
       "      <td>NaN</td>\n",
       "      <td>NaN</td>\n",
       "      <td>NaN</td>\n",
       "      <td>NaN</td>\n",
       "      <td>NaN</td>\n",
       "      <td>NaN</td>\n",
       "      <td>NaN</td>\n",
       "    </tr>\n",
       "  </tbody>\n",
       "</table>\n",
       "<p>4111 rows × 14 columns</p>\n",
       "</div>"
      ],
      "text/plain": [
       "               Area                      Item       2010       2011  \\\n",
       "0       Afghanistan                    Apples   59850.00   62041.00   \n",
       "1       Afghanistan                    Barley  437000.00  305900.00   \n",
       "2       Afghanistan  Hen eggs in shell, fresh   16344.00   17210.00   \n",
       "4098    Afghanistan              Maize (corn)  301000.00  300120.00   \n",
       "4099    Afghanistan                 Olive oil     595.68     538.56   \n",
       "...             ...                       ...        ...        ...   \n",
       "910427     Zimbabwe                  Tomatoes   25000.00   22500.00   \n",
       "910428     Zimbabwe                     Wheat   18000.00   23000.00   \n",
       "910429     Zimbabwe     Whole milk, condensed     712.95     730.87   \n",
       "910430     Zimbabwe    Whole milk, evaporated    4705.49    4823.47   \n",
       "910431     Zimbabwe                      Wine    1750.00    1750.00   \n",
       "\n",
       "             2012       2013       2014       2015       2016       2017  \\\n",
       "0        70000.00   78597.00   89403.00   89733.00  140903.00  170443.00   \n",
       "1       504000.00  514000.00  521000.00  403000.00  301856.00   94995.00   \n",
       "2        18000.00   18000.00   18500.00   19833.01   19883.74   20000.00   \n",
       "4098    310000.00  312000.00  316000.00  316000.00  311646.00  173912.00   \n",
       "4099       538.56     545.93     658.42     711.37     740.90     763.25   \n",
       "...           ...        ...        ...        ...        ...        ...   \n",
       "910427   23500.00   23500.00   24271.13   25322.84   25318.39   25278.36   \n",
       "910428   53231.78   50966.05   40000.00   45302.00   42008.00   38715.00   \n",
       "910429     750.55     759.51     776.69     772.13     764.96     739.13   \n",
       "910430    4953.61    5012.55    5125.02    5096.70    5049.87    4878.27   \n",
       "910431    1750.00    1750.00        NaN        NaN        NaN        NaN   \n",
       "\n",
       "             2018       2019       2020       2021  \n",
       "0       217192.00  250324.00  270857.00  292586.58  \n",
       "1        56781.00  123576.00  127757.00  122692.77  \n",
       "2        19905.58   22040.18   22039.10   22248.74  \n",
       "4098    106670.00  184671.00  271776.00  180000.00  \n",
       "4099       812.16     833.25     821.31        NaN  \n",
       "...           ...        ...        ...        ...  \n",
       "910427   25306.53   25301.09   25295.33   25300.98  \n",
       "910428   45000.00   94685.00  212530.00  337212.00  \n",
       "910429     746.84     759.12     759.00        NaN  \n",
       "910430    4929.81    5010.21    5009.42        NaN  \n",
       "910431        NaN        NaN        NaN        NaN  \n",
       "\n",
       "[4111 rows x 14 columns]"
      ]
     },
     "execution_count": 184,
     "metadata": {},
     "output_type": "execute_result"
    }
   ],
   "source": [
    "# Drop duplicates from item and area columns.\n",
    "production.drop_duplicates(subset=[\"Item\", \"Area\"])"
   ]
  },
  {
   "cell_type": "code",
   "execution_count": 236,
   "metadata": {},
   "outputs": [
    {
     "ename": "TypeError",
     "evalue": "'DataFrame' object is not callable",
     "output_type": "error",
     "traceback": [
      "\u001b[1;31m---------------------------------------------------------------------------\u001b[0m",
      "\u001b[1;31mTypeError\u001b[0m                                 Traceback (most recent call last)",
      "\u001b[1;32md:\\ironhack\\proyectos\\_proy4\\data\\analysis.ipynb Cell 74\u001b[0m in \u001b[0;36m<cell line: 1>\u001b[1;34m()\u001b[0m\n\u001b[1;32m----> <a href='vscode-notebook-cell:/d%3A/ironhack/proyectos/_proy4/data/analysis.ipynb#Y211sZmlsZQ%3D%3D?line=0'>1</a>\u001b[0m production(production[\u001b[39m\"\u001b[39;49m\u001b[39mItem\u001b[39;49m\u001b[39m\"\u001b[39;49m] \u001b[39m==\u001b[39;49m \u001b[39m\"\u001b[39;49m\u001b[39mcattle\u001b[39;49m\u001b[39m\"\u001b[39;49m)\n",
      "\u001b[1;31mTypeError\u001b[0m: 'DataFrame' object is not callable"
     ]
    }
   ],
   "source": [
    "production(production[\"Item\"] == \"cattle\")"
   ]
  }
 ],
 "metadata": {
  "kernelspec": {
   "display_name": "base",
   "language": "python",
   "name": "python3"
  },
  "language_info": {
   "codemirror_mode": {
    "name": "ipython",
    "version": 3
   },
   "file_extension": ".py",
   "mimetype": "text/x-python",
   "name": "python",
   "nbconvert_exporter": "python",
   "pygments_lexer": "ipython3",
   "version": "3.10.8"
  },
  "orig_nbformat": 4,
  "vscode": {
   "interpreter": {
    "hash": "0325c5f4e9133fe10cf2a391927dfd03aaca0f3a5079e10a7a3dafa67583f178"
   }
  }
 },
 "nbformat": 4,
 "nbformat_minor": 2
}
