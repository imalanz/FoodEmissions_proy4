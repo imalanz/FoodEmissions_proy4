{
 "cells": [
  {
   "cell_type": "code",
   "execution_count": 1,
   "metadata": {},
   "outputs": [],
   "source": [
    "import pandas as pd\n",
    "import re\n",
    "import warnings\n",
    "warnings.filterwarnings(\"ignore\")\n",
    "\n",
    "\n",
    "import sys \n",
    "an = sys.path.append(\"/src/analysis.py\") "
   ]
  },
  {
   "cell_type": "code",
   "execution_count": 5,
   "metadata": {},
   "outputs": [
    {
     "ename": "SyntaxError",
     "evalue": "invalid syntax (1403071800.py, line 1)",
     "output_type": "error",
     "traceback": [
      "\u001b[1;36m  Input \u001b[1;32mIn [5]\u001b[1;36m\u001b[0m\n\u001b[1;33m    salud y contaminacion\u001b[0m\n\u001b[1;37m          ^\u001b[0m\n\u001b[1;31mSyntaxError\u001b[0m\u001b[1;31m:\u001b[0m invalid syntax\n"
     ]
    }
   ],
   "source": [
    "salud y contaminacion\n",
    "worldbank.com para salud\n",
    "income companies."
   ]
  },
  {
   "attachments": {},
   "cell_type": "markdown",
   "metadata": {},
   "source": [
    "IMPORT supermarket "
   ]
  },
  {
   "cell_type": "code",
   "execution_count": 6,
   "metadata": {},
   "outputs": [
    {
     "data": {
      "text/html": [
       "<div>\n",
       "<style scoped>\n",
       "    .dataframe tbody tr th:only-of-type {\n",
       "        vertical-align: middle;\n",
       "    }\n",
       "\n",
       "    .dataframe tbody tr th {\n",
       "        vertical-align: top;\n",
       "    }\n",
       "\n",
       "    .dataframe thead th {\n",
       "        text-align: right;\n",
       "    }\n",
       "</style>\n",
       "<table border=\"1\" class=\"dataframe\">\n",
       "  <thead>\n",
       "    <tr style=\"text-align: right;\">\n",
       "      <th></th>\n",
       "      <th>Order ID</th>\n",
       "      <th>Customer Name</th>\n",
       "      <th>Category</th>\n",
       "      <th>Sub Category</th>\n",
       "      <th>City</th>\n",
       "      <th>Order Date</th>\n",
       "      <th>Region</th>\n",
       "      <th>Sales</th>\n",
       "      <th>Discount</th>\n",
       "      <th>Profit</th>\n",
       "      <th>State</th>\n",
       "    </tr>\n",
       "  </thead>\n",
       "  <tbody>\n",
       "    <tr>\n",
       "      <th>0</th>\n",
       "      <td>OD1</td>\n",
       "      <td>Harish</td>\n",
       "      <td>Oil &amp; Masala</td>\n",
       "      <td>Masalas</td>\n",
       "      <td>Vellore</td>\n",
       "      <td>11-08-2017</td>\n",
       "      <td>North</td>\n",
       "      <td>1254</td>\n",
       "      <td>0.12</td>\n",
       "      <td>401.28</td>\n",
       "      <td>Tamil Nadu</td>\n",
       "    </tr>\n",
       "    <tr>\n",
       "      <th>1</th>\n",
       "      <td>OD2</td>\n",
       "      <td>Sudha</td>\n",
       "      <td>Beverages</td>\n",
       "      <td>Health Drinks</td>\n",
       "      <td>Krishnagiri</td>\n",
       "      <td>11-08-2017</td>\n",
       "      <td>South</td>\n",
       "      <td>749</td>\n",
       "      <td>0.18</td>\n",
       "      <td>149.80</td>\n",
       "      <td>Tamil Nadu</td>\n",
       "    </tr>\n",
       "    <tr>\n",
       "      <th>2</th>\n",
       "      <td>OD3</td>\n",
       "      <td>Hussain</td>\n",
       "      <td>Food Grains</td>\n",
       "      <td>Atta &amp; Flour</td>\n",
       "      <td>Perambalur</td>\n",
       "      <td>06-12-2017</td>\n",
       "      <td>West</td>\n",
       "      <td>2360</td>\n",
       "      <td>0.21</td>\n",
       "      <td>165.20</td>\n",
       "      <td>Tamil Nadu</td>\n",
       "    </tr>\n",
       "    <tr>\n",
       "      <th>3</th>\n",
       "      <td>OD4</td>\n",
       "      <td>Jackson</td>\n",
       "      <td>Fruits &amp; Veggies</td>\n",
       "      <td>Fresh Vegetables</td>\n",
       "      <td>Dharmapuri</td>\n",
       "      <td>10-11-2016</td>\n",
       "      <td>South</td>\n",
       "      <td>896</td>\n",
       "      <td>0.25</td>\n",
       "      <td>89.60</td>\n",
       "      <td>Tamil Nadu</td>\n",
       "    </tr>\n",
       "    <tr>\n",
       "      <th>4</th>\n",
       "      <td>OD5</td>\n",
       "      <td>Ridhesh</td>\n",
       "      <td>Food Grains</td>\n",
       "      <td>Organic Staples</td>\n",
       "      <td>Ooty</td>\n",
       "      <td>10-11-2016</td>\n",
       "      <td>South</td>\n",
       "      <td>2355</td>\n",
       "      <td>0.26</td>\n",
       "      <td>918.45</td>\n",
       "      <td>Tamil Nadu</td>\n",
       "    </tr>\n",
       "    <tr>\n",
       "      <th>...</th>\n",
       "      <td>...</td>\n",
       "      <td>...</td>\n",
       "      <td>...</td>\n",
       "      <td>...</td>\n",
       "      <td>...</td>\n",
       "      <td>...</td>\n",
       "      <td>...</td>\n",
       "      <td>...</td>\n",
       "      <td>...</td>\n",
       "      <td>...</td>\n",
       "      <td>...</td>\n",
       "    </tr>\n",
       "    <tr>\n",
       "      <th>9989</th>\n",
       "      <td>OD9990</td>\n",
       "      <td>Sudeep</td>\n",
       "      <td>Eggs, Meat &amp; Fish</td>\n",
       "      <td>Eggs</td>\n",
       "      <td>Madurai</td>\n",
       "      <td>12/24/2015</td>\n",
       "      <td>West</td>\n",
       "      <td>945</td>\n",
       "      <td>0.16</td>\n",
       "      <td>359.10</td>\n",
       "      <td>Tamil Nadu</td>\n",
       "    </tr>\n",
       "    <tr>\n",
       "      <th>9990</th>\n",
       "      <td>OD9991</td>\n",
       "      <td>Alan</td>\n",
       "      <td>Bakery</td>\n",
       "      <td>Biscuits</td>\n",
       "      <td>Kanyakumari</td>\n",
       "      <td>07-12-2015</td>\n",
       "      <td>West</td>\n",
       "      <td>1195</td>\n",
       "      <td>0.26</td>\n",
       "      <td>71.70</td>\n",
       "      <td>Tamil Nadu</td>\n",
       "    </tr>\n",
       "    <tr>\n",
       "      <th>9991</th>\n",
       "      <td>OD9992</td>\n",
       "      <td>Ravi</td>\n",
       "      <td>Food Grains</td>\n",
       "      <td>Rice</td>\n",
       "      <td>Bodi</td>\n",
       "      <td>06-06-2017</td>\n",
       "      <td>West</td>\n",
       "      <td>1567</td>\n",
       "      <td>0.16</td>\n",
       "      <td>501.44</td>\n",
       "      <td>Tamil Nadu</td>\n",
       "    </tr>\n",
       "    <tr>\n",
       "      <th>9992</th>\n",
       "      <td>OD9993</td>\n",
       "      <td>Peer</td>\n",
       "      <td>Oil &amp; Masala</td>\n",
       "      <td>Spices</td>\n",
       "      <td>Pudukottai</td>\n",
       "      <td>10/16/2018</td>\n",
       "      <td>West</td>\n",
       "      <td>1659</td>\n",
       "      <td>0.15</td>\n",
       "      <td>597.24</td>\n",
       "      <td>Tamil Nadu</td>\n",
       "    </tr>\n",
       "    <tr>\n",
       "      <th>9993</th>\n",
       "      <td>OD9994</td>\n",
       "      <td>Ganesh</td>\n",
       "      <td>Food Grains</td>\n",
       "      <td>Atta &amp; Flour</td>\n",
       "      <td>Tirunelveli</td>\n",
       "      <td>4/17/2018</td>\n",
       "      <td>West</td>\n",
       "      <td>1034</td>\n",
       "      <td>0.28</td>\n",
       "      <td>165.44</td>\n",
       "      <td>Tamil Nadu</td>\n",
       "    </tr>\n",
       "  </tbody>\n",
       "</table>\n",
       "<p>9994 rows × 11 columns</p>\n",
       "</div>"
      ],
      "text/plain": [
       "     Order ID Customer Name           Category      Sub Category         City  \\\n",
       "0         OD1        Harish       Oil & Masala           Masalas      Vellore   \n",
       "1         OD2         Sudha          Beverages     Health Drinks  Krishnagiri   \n",
       "2         OD3       Hussain        Food Grains      Atta & Flour   Perambalur   \n",
       "3         OD4       Jackson   Fruits & Veggies  Fresh Vegetables   Dharmapuri   \n",
       "4         OD5       Ridhesh        Food Grains   Organic Staples         Ooty   \n",
       "...       ...           ...                ...               ...          ...   \n",
       "9989   OD9990        Sudeep  Eggs, Meat & Fish              Eggs      Madurai   \n",
       "9990   OD9991          Alan             Bakery          Biscuits  Kanyakumari   \n",
       "9991   OD9992          Ravi        Food Grains              Rice         Bodi   \n",
       "9992   OD9993          Peer       Oil & Masala            Spices   Pudukottai   \n",
       "9993   OD9994        Ganesh        Food Grains      Atta & Flour  Tirunelveli   \n",
       "\n",
       "      Order Date Region  Sales  Discount  Profit       State  \n",
       "0     11-08-2017  North   1254      0.12  401.28  Tamil Nadu  \n",
       "1     11-08-2017  South    749      0.18  149.80  Tamil Nadu  \n",
       "2     06-12-2017   West   2360      0.21  165.20  Tamil Nadu  \n",
       "3     10-11-2016  South    896      0.25   89.60  Tamil Nadu  \n",
       "4     10-11-2016  South   2355      0.26  918.45  Tamil Nadu  \n",
       "...          ...    ...    ...       ...     ...         ...  \n",
       "9989  12/24/2015   West    945      0.16  359.10  Tamil Nadu  \n",
       "9990  07-12-2015   West   1195      0.26   71.70  Tamil Nadu  \n",
       "9991  06-06-2017   West   1567      0.16  501.44  Tamil Nadu  \n",
       "9992  10/16/2018   West   1659      0.15  597.24  Tamil Nadu  \n",
       "9993   4/17/2018   West   1034      0.28  165.44  Tamil Nadu  \n",
       "\n",
       "[9994 rows x 11 columns]"
      ]
     },
     "execution_count": 6,
     "metadata": {},
     "output_type": "execute_result"
    }
   ],
   "source": [
    "super = pd.read_csv(\"D:\\ironhack\\proyectos\\_proy4\\csv\\Supermart_Grocery_Sales.csv\")\n",
    "super"
   ]
  },
  {
   "attachments": {},
   "cell_type": "markdown",
   "metadata": {},
   "source": [
    "IMPORT Food emissin data set."
   ]
  },
  {
   "cell_type": "code",
   "execution_count": 238,
   "metadata": {},
   "outputs": [
    {
     "data": {
      "text/html": [
       "<div>\n",
       "<style scoped>\n",
       "    .dataframe tbody tr th:only-of-type {\n",
       "        vertical-align: middle;\n",
       "    }\n",
       "\n",
       "    .dataframe tbody tr th {\n",
       "        vertical-align: top;\n",
       "    }\n",
       "\n",
       "    .dataframe thead th {\n",
       "        text-align: right;\n",
       "    }\n",
       "</style>\n",
       "<table border=\"1\" class=\"dataframe\">\n",
       "  <thead>\n",
       "    <tr style=\"text-align: right;\">\n",
       "      <th></th>\n",
       "      <th>Food product</th>\n",
       "      <th>Land use change</th>\n",
       "      <th>Animal Feed</th>\n",
       "      <th>Farm</th>\n",
       "      <th>Processing</th>\n",
       "      <th>Transport</th>\n",
       "      <th>Packging</th>\n",
       "      <th>Retail</th>\n",
       "      <th>Total_emissions</th>\n",
       "      <th>Eutrophying emissions per 1000kcal (gPO₄eq per 1000kcal)</th>\n",
       "      <th>...</th>\n",
       "      <th>Freshwater withdrawals per 100g protein (liters per 100g protein)</th>\n",
       "      <th>Freshwater withdrawals per kilogram (liters per kilogram)</th>\n",
       "      <th>Greenhouse gas emissions per 1000kcal (kgCO₂eq per 1000kcal)</th>\n",
       "      <th>Greenhouse gas emissions per 100g protein (kgCO₂eq per 100g protein)</th>\n",
       "      <th>Land use per 1000kcal (m² per 1000kcal)</th>\n",
       "      <th>Land use per kilogram (m² per kilogram)</th>\n",
       "      <th>Land use per 100g protein (m² per 100g protein)</th>\n",
       "      <th>Scarcity-weighted water use per kilogram (liters per kilogram)</th>\n",
       "      <th>Scarcity-weighted water use per 100g protein (liters per 100g protein)</th>\n",
       "      <th>Scarcity-weighted water use per 1000kcal (liters per 1000 kilocalories)</th>\n",
       "    </tr>\n",
       "  </thead>\n",
       "  <tbody>\n",
       "    <tr>\n",
       "      <th>20</th>\n",
       "      <td>Tomatoes</td>\n",
       "      <td>0.4</td>\n",
       "      <td>0.0</td>\n",
       "      <td>0.7</td>\n",
       "      <td>0.0</td>\n",
       "      <td>0.2</td>\n",
       "      <td>0.1</td>\n",
       "      <td>0.0</td>\n",
       "      <td>1.4</td>\n",
       "      <td>39.526316</td>\n",
       "      <td>...</td>\n",
       "      <td>3361.818182</td>\n",
       "      <td>369.8</td>\n",
       "      <td>11.0</td>\n",
       "      <td>19.0</td>\n",
       "      <td>4.210526</td>\n",
       "      <td>0.8</td>\n",
       "      <td>7.272727</td>\n",
       "      <td>5335.7</td>\n",
       "      <td>48506.36364</td>\n",
       "      <td>28082.63158</td>\n",
       "    </tr>\n",
       "  </tbody>\n",
       "</table>\n",
       "<p>1 rows × 23 columns</p>\n",
       "</div>"
      ],
      "text/plain": [
       "   Food product  Land use change  Animal Feed  Farm  Processing  Transport  \\\n",
       "20     Tomatoes              0.4          0.0   0.7         0.0        0.2   \n",
       "\n",
       "    Packging  Retail  Total_emissions  \\\n",
       "20       0.1     0.0              1.4   \n",
       "\n",
       "    Eutrophying emissions per 1000kcal (gPO₄eq per 1000kcal)  ...  \\\n",
       "20                                          39.526316         ...   \n",
       "\n",
       "    Freshwater withdrawals per 100g protein (liters per 100g protein)  \\\n",
       "20                                        3361.818182                   \n",
       "\n",
       "    Freshwater withdrawals per kilogram (liters per kilogram)  \\\n",
       "20                                              369.8           \n",
       "\n",
       "    Greenhouse gas emissions per 1000kcal (kgCO₂eq per 1000kcal)  \\\n",
       "20                                               11.0              \n",
       "\n",
       "    Greenhouse gas emissions per 100g protein (kgCO₂eq per 100g protein)  \\\n",
       "20                                               19.0                      \n",
       "\n",
       "    Land use per 1000kcal (m² per 1000kcal)  \\\n",
       "20                                 4.210526   \n",
       "\n",
       "    Land use per kilogram (m² per kilogram)  \\\n",
       "20                                      0.8   \n",
       "\n",
       "    Land use per 100g protein (m² per 100g protein)  \\\n",
       "20                                         7.272727   \n",
       "\n",
       "    Scarcity-weighted water use per kilogram (liters per kilogram)  \\\n",
       "20                                             5335.7                \n",
       "\n",
       "    Scarcity-weighted water use per 100g protein (liters per 100g protein)  \\\n",
       "20                                        48506.36364                        \n",
       "\n",
       "    Scarcity-weighted water use per 1000kcal (liters per 1000 kilocalories)  \n",
       "20                                        28082.63158                        \n",
       "\n",
       "[1 rows x 23 columns]"
      ]
     },
     "execution_count": 238,
     "metadata": {},
     "output_type": "execute_result"
    }
   ],
   "source": [
    "food_emisions = pd.read_csv(\"D:\\ironhack\\proyectos\\_proy4\\csv\\Food_emissions.csv\")\n",
    "food_emisions.sample()"
   ]
  },
  {
   "cell_type": "code",
   "execution_count": 239,
   "metadata": {},
   "outputs": [
    {
     "data": {
      "text/html": [
       "<div>\n",
       "<style scoped>\n",
       "    .dataframe tbody tr th:only-of-type {\n",
       "        vertical-align: middle;\n",
       "    }\n",
       "\n",
       "    .dataframe tbody tr th {\n",
       "        vertical-align: top;\n",
       "    }\n",
       "\n",
       "    .dataframe thead th {\n",
       "        text-align: right;\n",
       "    }\n",
       "</style>\n",
       "<table border=\"1\" class=\"dataframe\">\n",
       "  <thead>\n",
       "    <tr style=\"text-align: right;\">\n",
       "      <th></th>\n",
       "      <th>Food product</th>\n",
       "      <th>Land use change</th>\n",
       "      <th>Animal Feed</th>\n",
       "      <th>Farm</th>\n",
       "      <th>Processing</th>\n",
       "      <th>Transport</th>\n",
       "      <th>Packging</th>\n",
       "      <th>Retail</th>\n",
       "      <th>Total_emissions</th>\n",
       "      <th>Eutrophying emissions per kilogram (gPO₄eq per kilogram)</th>\n",
       "      <th>Freshwater withdrawals per kilogram (liters per kilogram)</th>\n",
       "      <th>Greenhouse gas emissions per 1000kcal (kgCO₂eq per 1000kcal)</th>\n",
       "      <th>Land use per kilogram (m² per kilogram)</th>\n",
       "      <th>Scarcity-weighted water use per kilogram (liters per kilogram)</th>\n",
       "    </tr>\n",
       "  </thead>\n",
       "  <tbody>\n",
       "    <tr>\n",
       "      <th>14</th>\n",
       "      <td>Tofu</td>\n",
       "      <td>1.0</td>\n",
       "      <td>0.0</td>\n",
       "      <td>0.5</td>\n",
       "      <td>0.8</td>\n",
       "      <td>0.2</td>\n",
       "      <td>0.2</td>\n",
       "      <td>0.3</td>\n",
       "      <td>3.0</td>\n",
       "      <td>NaN</td>\n",
       "      <td>NaN</td>\n",
       "      <td>NaN</td>\n",
       "      <td>NaN</td>\n",
       "      <td>NaN</td>\n",
       "    </tr>\n",
       "  </tbody>\n",
       "</table>\n",
       "</div>"
      ],
      "text/plain": [
       "   Food product  Land use change  Animal Feed  Farm  Processing  Transport  \\\n",
       "14         Tofu              1.0          0.0   0.5         0.8        0.2   \n",
       "\n",
       "    Packging  Retail  Total_emissions  \\\n",
       "14       0.2     0.3              3.0   \n",
       "\n",
       "    Eutrophying emissions per kilogram (gPO₄eq per kilogram)  \\\n",
       "14                                                NaN          \n",
       "\n",
       "    Freshwater withdrawals per kilogram (liters per kilogram)  \\\n",
       "14                                                NaN           \n",
       "\n",
       "    Greenhouse gas emissions per 1000kcal (kgCO₂eq per 1000kcal)  \\\n",
       "14                                                NaN              \n",
       "\n",
       "    Land use per kilogram (m² per kilogram)  \\\n",
       "14                                      NaN   \n",
       "\n",
       "    Scarcity-weighted water use per kilogram (liters per kilogram)  \n",
       "14                                                NaN               "
      ]
     },
     "execution_count": 239,
     "metadata": {},
     "output_type": "execute_result"
    }
   ],
   "source": [
    "# Drop not necesary columns. \n",
    "food_emisions = food_emisions.drop(columns=[\"Eutrophying emissions per 1000kcal (gPO₄eq per 1000kcal)\", \"Eutrophying emissions per 100g protein (gPO₄eq per 100 grams protein)\",\n",
    "\"Freshwater withdrawals per 1000kcal (liters per 1000kcal)\", \"Freshwater withdrawals per 100g protein (liters per 100g protein)\",\n",
    "\"Greenhouse gas emissions per 100g protein (kgCO₂eq per 100g protein)\", \"Land use per 1000kcal (m² per 1000kcal)\", \"Land use per 100g protein (m² per 100g protein)\",\n",
    "\"Scarcity-weighted water use per 100g protein (liters per 100g protein)\", \"Scarcity-weighted water use per 1000kcal (liters per 1000 kilocalories)\"])\n",
    "food_emisions.sample()"
   ]
  },
  {
   "cell_type": "code",
   "execution_count": 240,
   "metadata": {},
   "outputs": [],
   "source": [
    "#Change names of columns.\n",
    "food_emisions.rename(columns= {\"Eutrophying emissions per 1000kcal (gPO₄eq per 1000kcal)\": \"Eutrophying emissions (gPO₄eq per 1000kcal)\", \n",
    "                               \"Freshwater withdrawals per kilogram (liters per kilogram)\":\"Freshwater withdrawals (liters per kilogram)\", \n",
    "                               \"Greenhouse gas emissions per 1000kcal (kgCO₂eq per 1000kcal)\":\"Greenhouse gas emissions (kgCO₂eq per 1000kcal)\",\n",
    "                               \"Land use per kilogram (m² per kilogram)\":\"Land use (m² per kilogram)\", \n",
    "                               \"Scarcity-weighted water use per kilogram (liters per kilogram)\":\"Scarcity-weighted water use (liters per kilogram)\"\n",
    "                               }, inplace = True)"
   ]
  },
  {
   "cell_type": "code",
   "execution_count": 238,
   "metadata": {},
   "outputs": [
    {
     "name": "stdout",
     "output_type": "stream",
     "text": [
      "['Wheat & Rye (Bread)', 'Maize (Meal)', 'Barley (Beer)', 'Oatmeal', 'Rice', 'Potatoes', 'Cassava', 'Cane Sugar', 'Beet Sugar', 'Other Pulses', 'Peas', 'Nuts', 'Groundnuts', 'Soymilk', 'Tofu', 'Soybean Oil', 'Palm Oil', 'Sunflower Oil', 'Rapeseed Oil', 'Olive Oil', 'Tomatoes', 'Onions & Leeks', 'Root Vegetables', 'Brassicas', 'Other Vegetables', 'Citrus Fruit', 'Bananas', 'Apples', 'Berries & Grapes', 'Wine', 'Other Fruit', 'Coffee', 'Dark Chocolate', 'Beef (beef herd)', 'Beef (dairy herd)', 'Lamb & Mutton', 'Pig Meat', 'Poultry Meat', 'Milk', 'Cheese', 'Eggs', 'Fish (farmed)', 'Shrimps (farmed)']\n"
     ]
    }
   ],
   "source": [
    "print(list(food_emisions[\"Food product\"]))"
   ]
  },
  {
   "attachments": {},
   "cell_type": "markdown",
   "metadata": {},
   "source": []
  },
  {
   "cell_type": "code",
   "execution_count": null,
   "metadata": {},
   "outputs": [],
   "source": []
  },
  {
   "cell_type": "code",
   "execution_count": null,
   "metadata": {},
   "outputs": [],
   "source": []
  },
  {
   "attachments": {},
   "cell_type": "markdown",
   "metadata": {},
   "source": [
    "IMPORT Area data set."
   ]
  },
  {
   "cell_type": "code",
   "execution_count": 241,
   "metadata": {},
   "outputs": [
    {
     "data": {
      "text/html": [
       "<div>\n",
       "<style scoped>\n",
       "    .dataframe tbody tr th:only-of-type {\n",
       "        vertical-align: middle;\n",
       "    }\n",
       "\n",
       "    .dataframe tbody tr th {\n",
       "        vertical-align: top;\n",
       "    }\n",
       "\n",
       "    .dataframe thead th {\n",
       "        text-align: right;\n",
       "    }\n",
       "</style>\n",
       "<table border=\"1\" class=\"dataframe\">\n",
       "  <thead>\n",
       "    <tr style=\"text-align: right;\">\n",
       "      <th></th>\n",
       "      <th>Domain Code</th>\n",
       "      <th>Domain</th>\n",
       "      <th>Area Code (M49)</th>\n",
       "      <th>Area</th>\n",
       "      <th>Element Code</th>\n",
       "      <th>Element</th>\n",
       "      <th>Item Code (CPC)</th>\n",
       "      <th>Item</th>\n",
       "      <th>Year Code</th>\n",
       "      <th>Year</th>\n",
       "      <th>Unit</th>\n",
       "      <th>Value</th>\n",
       "    </tr>\n",
       "  </thead>\n",
       "  <tbody>\n",
       "    <tr>\n",
       "      <th>9439</th>\n",
       "      <td>QCL</td>\n",
       "      <td>Crops and livestock products</td>\n",
       "      <td>408</td>\n",
       "      <td>Democratic People's Republic of Korea</td>\n",
       "      <td>5312</td>\n",
       "      <td>Area harvested</td>\n",
       "      <td>1341.0</td>\n",
       "      <td>Apples</td>\n",
       "      <td>2020</td>\n",
       "      <td>2020</td>\n",
       "      <td>ha</td>\n",
       "      <td>70787</td>\n",
       "    </tr>\n",
       "  </tbody>\n",
       "</table>\n",
       "</div>"
      ],
      "text/plain": [
       "     Domain Code                        Domain  Area Code (M49)  \\\n",
       "9439         QCL  Crops and livestock products              408   \n",
       "\n",
       "                                       Area  Element Code         Element  \\\n",
       "9439  Democratic People's Republic of Korea          5312  Area harvested   \n",
       "\n",
       "      Item Code (CPC)    Item  Year Code  Year Unit  Value  \n",
       "9439           1341.0  Apples       2020  2020   ha  70787  "
      ]
     },
     "execution_count": 241,
     "metadata": {},
     "output_type": "execute_result"
    }
   ],
   "source": [
    "area = pd.read_csv(\"D:\\ironhack\\proyectos\\_proy4\\csv\\\\area_harvested.csv\", engine=\"python\", error_bad_lines=False)\n",
    "area.sample()"
   ]
  },
  {
   "attachments": {},
   "cell_type": "markdown",
   "metadata": {},
   "source": [
    "['Wheat & Rye (Bread)', 'Maize (Meal), 'Cassava', 'Cane Sugar', 'Beet Sugar', , 'Peas', 'Nuts', 'Groundnuts', 'Soymilk', 'Tofu', 'Soybean Oil', 'Palm Oil', 'Sunflower Oil', 'Rapeseed Oil', 'Olive Oil', , 'Onions & Leeks', , 'Brassicas', 'Other Vegetables',, 'Beef (beef herd)', 'Beef (dairy herd)', 'Lamb & Mutton', 'Pig Meat', 'Poultry Meat', 'Milk', 'Cheese', 'Eggs', 'Fish (farmed)', 'Shrimps (farmed)']"
   ]
  },
  {
   "cell_type": "code",
   "execution_count": 161,
   "metadata": {},
   "outputs": [],
   "source": [
    "import re\n",
    "# Clean with regex column \"Items\" to match other Data Frames.\n",
    "for index, row in area.iterrows():\n",
    "    re.sub(\"n\\.e\\.c\\.\", \"\", row[3])\n",
    "    re.sub(\".*Other berries and fruits of the genus vaccinium.*\", 'Berries & Grapes', row[3])\n",
    "    re.sub('.*Onions and shallots, green*.', 'Onions & Leeks', row[3])\n",
    "    re.sub(\".*Beer of barley, malted*.\", 'Barley (Beer)', row[3])\n",
    "    re.sub(\".*Barley*.\", 'Barley (Beer)', row[3])\n",
    "    re.sub('.*Brazil nuts, in shell*.', 'Nuts', row[3])\n",
    "    re.sub(\".*Cocoa beans*.\", \"Chocolate\", row[3])\n",
    "    re.sub('.*Coffee,green*.', \"Coffee\", row[3])\n",
    "    re.sub('.*Groundnuts,excluding shelled*.', \"Coffee\", row[3])\n",
    "    re.sub('.*Edible roots and tubers with high starch or inulin content,, fresh*.', 'Root Vegetables', row[3])\n",
    "    re.sub('.*Oats*.', \"Oatmeal\", row[3])\n",
    "    re.sub('.*Other citrus fruit,*.', 'Citrus Fruit', row[3])\n",
    "    re.sub('.*Other fruits*.', 'Other Fruit', row[3])\n",
    "    re.sub('.*Meat of pig with the bome, fresh or chilled', \"Pig\", row[3])\n",
    "    re.sub('.*Meat of cattle with the bone, fresh or chilled', 'Beef', row[3])"
   ]
  },
  {
   "cell_type": "code",
   "execution_count": 162,
   "metadata": {},
   "outputs": [],
   "source": [
    "for index, row in area.iterrows():\n",
    "    re.sub(\"(n\\.e\\.c\\.)\", \"\", row[3])"
   ]
  },
  {
   "cell_type": "code",
   "execution_count": 163,
   "metadata": {},
   "outputs": [
    {
     "name": "stdout",
     "output_type": "stream",
     "text": [
      "{'Maize (corn)', 'Peas, dry', 'Sugar cane', 'Other citrus fruit, n.e.c.', 'Other vegetables, fresh n.e.c.', 'Edible roots and tubers with high starch or inulin content, n.e.c., fresh', 'Soya beans', 'Barley', 'Grapes', 'Coffee, green', 'Other pulses n.e.c.', 'Apples', 'Walnuts, in shell', 'Groundnuts, excluding shelled', 'Oats', 'Sugar beet', 'Tomatoes', 'Onions and shallots, green', 'Cocoa beans', 'Hazelnuts, in shell', 'Rice', 'Other fruits, n.e.c.', 'Wheat', 'Bananas', 'Potatoes'}\n"
     ]
    }
   ],
   "source": [
    "print(set(area[\"Item\"]))"
   ]
  },
  {
   "cell_type": "code",
   "execution_count": 164,
   "metadata": {},
   "outputs": [],
   "source": [
    "# iterate 2010\n",
    "_2010 = {index:[row[6],row[1],row[3]] for index, row in area.iterrows() if row[4] == 2010}\n",
    "df2010 = pd.DataFrame.from_dict(_2010, orient=\"index\")\n",
    "df2010.rename(columns= {0: 2010, 1:\"Area\", 2:\"Item\"}, inplace = True)"
   ]
  },
  {
   "cell_type": "code",
   "execution_count": 165,
   "metadata": {},
   "outputs": [],
   "source": [
    "# iterate 2011\n",
    "_2011 = {index:[row[6],row[1],row[3]] for index, row in area.iterrows() if row[4] == 2011}\n",
    "df2011 = pd.DataFrame.from_dict(_2011, orient=\"index\")\n",
    "df2011.rename(columns= {0: 2011, 1:\"Area\", 2:\"Item\"}, inplace = True)"
   ]
  },
  {
   "cell_type": "code",
   "execution_count": 166,
   "metadata": {},
   "outputs": [],
   "source": [
    "# iterate 2012\n",
    "_2012 = {index:[row[6],row[1],row[3]] for index, row in area.iterrows() if row[4] == 2012}\n",
    "df2012 = pd.DataFrame.from_dict(_2012, orient=\"index\")\n",
    "df2012.rename(columns= {0: 2012, 1:\"Area\", 2:\"Item\"}, inplace = True)"
   ]
  },
  {
   "cell_type": "code",
   "execution_count": 167,
   "metadata": {},
   "outputs": [],
   "source": [
    "# iterate 2013\n",
    "_2013 = {index:[row[6],row[1],row[3]] for index, row in area.iterrows() if row[4] == 2013}\n",
    "df2013 = pd.DataFrame.from_dict(_2013, orient=\"index\")\n",
    "df2013.rename(columns= {0: 2013, 1:\"Area\", 2:\"Item\"}, inplace = True)"
   ]
  },
  {
   "cell_type": "code",
   "execution_count": 168,
   "metadata": {},
   "outputs": [],
   "source": [
    "# iterate 2014\n",
    "_2014 = {index:[row[6],row[1],row[3]] for index, row in area.iterrows() if row[4] == 2014}\n",
    "df2014 = pd.DataFrame.from_dict(_2014, orient=\"index\")\n",
    "df2014.rename(columns= {0: 2014, 1:\"Area\", 2:\"Item\"}, inplace = True)"
   ]
  },
  {
   "cell_type": "code",
   "execution_count": 169,
   "metadata": {},
   "outputs": [],
   "source": [
    "# iterate 2015\n",
    "_2015 = {index:[row[6],row[1],row[3]] for index, row in area.iterrows() if row[4] == 2015}\n",
    "df2015 = pd.DataFrame.from_dict(_2015, orient=\"index\")\n",
    "df2015.rename(columns= {0: 2015, 1:\"Area\", 2:\"Item\"}, inplace = True)"
   ]
  },
  {
   "cell_type": "code",
   "execution_count": 170,
   "metadata": {},
   "outputs": [],
   "source": [
    "# iterate 2016\n",
    "_2016 = {index:[row[6],row[1],row[3]] for index, row in area.iterrows() if row[4] == 2016}\n",
    "df2016 = pd.DataFrame.from_dict(_2016, orient=\"index\")\n",
    "df2016.rename(columns= {0: 2016, 1:\"Area\", 2:\"Item\"}, inplace = True)"
   ]
  },
  {
   "cell_type": "code",
   "execution_count": 171,
   "metadata": {},
   "outputs": [],
   "source": [
    "# iterate 2017\n",
    "_2017 = {index:[row[6],row[1],row[3]] for index, row in area.iterrows() if row[4] == 2017}\n",
    "df2017 = pd.DataFrame.from_dict(_2017, orient=\"index\")\n",
    "df2017.rename(columns= {0: 2017, 1:\"Area\", 2:\"Item\"}, inplace = True)"
   ]
  },
  {
   "cell_type": "code",
   "execution_count": 172,
   "metadata": {},
   "outputs": [],
   "source": [
    "# iterate 2018\n",
    "_2018 = {index:[row[6],row[1],row[3]] for index, row in area.iterrows() if row[4] == 2018}\n",
    "df2018 = pd.DataFrame.from_dict(_2018, orient=\"index\")\n",
    "df2018.rename(columns= {0: 2018, 1:\"Area\", 2:\"Item\"}, inplace = True)"
   ]
  },
  {
   "cell_type": "code",
   "execution_count": 173,
   "metadata": {},
   "outputs": [],
   "source": [
    "# iterate 2019\n",
    "_2019 = {index:[row[6],row[1],row[3]] for index, row in area.iterrows() if row[4] == 2019}\n",
    "df2019 = pd.DataFrame.from_dict(_2019, orient=\"index\")\n",
    "df2019.rename(columns= {0: 2019, 1:\"Area\", 2:\"Item\"}, inplace = True)"
   ]
  },
  {
   "cell_type": "code",
   "execution_count": 174,
   "metadata": {},
   "outputs": [],
   "source": [
    "# iterate 2020\n",
    "_2020 = {index:[row[6],row[1],row[3]] for index, row in area.iterrows() if row[4] == 2020}\n",
    "df2020 = pd.DataFrame.from_dict(_2020, orient=\"index\")\n",
    "df2020.rename(columns= {0: 2020, 1:\"Area\", 2:\"Item\"}, inplace = True)"
   ]
  },
  {
   "cell_type": "code",
   "execution_count": 175,
   "metadata": {},
   "outputs": [],
   "source": [
    "# iterate 2021\n",
    "_2021 = {index:[row[6],row[1],row[3]] for index, row in area.iterrows() if row[4] == 2021}\n",
    "df2021 = pd.DataFrame.from_dict(_2021, orient=\"index\")\n",
    "df2021.rename(columns= {0: 2021, 1:\"Area\", 2:\"Item\"}, inplace = True)"
   ]
  },
  {
   "cell_type": "code",
   "execution_count": 176,
   "metadata": {},
   "outputs": [],
   "source": [
    "# Drop columns.\n",
    "area.drop(columns=[\"Domain\", \"Element\", \"Year\", \"Unit\", \"Value\"],inplace=True)"
   ]
  },
  {
   "cell_type": "code",
   "execution_count": 177,
   "metadata": {},
   "outputs": [],
   "source": [
    "# drop duplicates.\n",
    "area.drop_duplicates(inplace=True)"
   ]
  },
  {
   "cell_type": "code",
   "execution_count": 178,
   "metadata": {},
   "outputs": [
    {
     "ename": "MergeError",
     "evalue": "No common columns to perform merge on. Merge options: left_on=None, right_on=None, left_index=False, right_index=False",
     "output_type": "error",
     "traceback": [
      "\u001b[1;31m---------------------------------------------------------------------------\u001b[0m",
      "\u001b[1;31mMergeError\u001b[0m                                Traceback (most recent call last)",
      "\u001b[1;32md:\\ironhack\\proyectos\\_proy4\\data\\analysis.ipynb Cell 32\u001b[0m in \u001b[0;36m<cell line: 2>\u001b[1;34m()\u001b[0m\n\u001b[0;32m      <a href='vscode-notebook-cell:/d%3A/ironhack/proyectos/_proy4/data/analysis.ipynb#Y144sZmlsZQ%3D%3D?line=0'>1</a>\u001b[0m \u001b[39m# Merge all df from diferent years to production.\u001b[39;00m\n\u001b[1;32m----> <a href='vscode-notebook-cell:/d%3A/ironhack/proyectos/_proy4/data/analysis.ipynb#Y144sZmlsZQ%3D%3D?line=1'>2</a>\u001b[0m area \u001b[39m=\u001b[39m pd\u001b[39m.\u001b[39;49mDataFrame\u001b[39m.\u001b[39;49mmerge(area, df2010, how\u001b[39m=\u001b[39;49m\u001b[39m\"\u001b[39;49m\u001b[39mleft\u001b[39;49m\u001b[39m\"\u001b[39;49m)\n",
      "File \u001b[1;32mc:\\Users\\ima_n\\miniconda2\\envs\\ironhack\\lib\\site-packages\\pandas\\core\\frame.py:10090\u001b[0m, in \u001b[0;36mDataFrame.merge\u001b[1;34m(self, right, how, on, left_on, right_on, left_index, right_index, sort, suffixes, copy, indicator, validate)\u001b[0m\n\u001b[0;32m  10071\u001b[0m \u001b[39m@Substitution\u001b[39m(\u001b[39m\"\u001b[39m\u001b[39m\"\u001b[39m)\n\u001b[0;32m  10072\u001b[0m \u001b[39m@Appender\u001b[39m(_merge_doc, indents\u001b[39m=\u001b[39m\u001b[39m2\u001b[39m)\n\u001b[0;32m  10073\u001b[0m \u001b[39mdef\u001b[39;00m \u001b[39mmerge\u001b[39m(\n\u001b[1;32m   (...)\u001b[0m\n\u001b[0;32m  10086\u001b[0m     validate: \u001b[39mstr\u001b[39m \u001b[39m|\u001b[39m \u001b[39mNone\u001b[39;00m \u001b[39m=\u001b[39m \u001b[39mNone\u001b[39;00m,\n\u001b[0;32m  10087\u001b[0m ) \u001b[39m-\u001b[39m\u001b[39m>\u001b[39m DataFrame:\n\u001b[0;32m  10088\u001b[0m     \u001b[39mfrom\u001b[39;00m \u001b[39mpandas\u001b[39;00m\u001b[39m.\u001b[39;00m\u001b[39mcore\u001b[39;00m\u001b[39m.\u001b[39;00m\u001b[39mreshape\u001b[39;00m\u001b[39m.\u001b[39;00m\u001b[39mmerge\u001b[39;00m \u001b[39mimport\u001b[39;00m merge\n\u001b[1;32m> 10090\u001b[0m     \u001b[39mreturn\u001b[39;00m merge(\n\u001b[0;32m  10091\u001b[0m         \u001b[39mself\u001b[39;49m,\n\u001b[0;32m  10092\u001b[0m         right,\n\u001b[0;32m  10093\u001b[0m         how\u001b[39m=\u001b[39;49mhow,\n\u001b[0;32m  10094\u001b[0m         on\u001b[39m=\u001b[39;49mon,\n\u001b[0;32m  10095\u001b[0m         left_on\u001b[39m=\u001b[39;49mleft_on,\n\u001b[0;32m  10096\u001b[0m         right_on\u001b[39m=\u001b[39;49mright_on,\n\u001b[0;32m  10097\u001b[0m         left_index\u001b[39m=\u001b[39;49mleft_index,\n\u001b[0;32m  10098\u001b[0m         right_index\u001b[39m=\u001b[39;49mright_index,\n\u001b[0;32m  10099\u001b[0m         sort\u001b[39m=\u001b[39;49msort,\n\u001b[0;32m  10100\u001b[0m         suffixes\u001b[39m=\u001b[39;49msuffixes,\n\u001b[0;32m  10101\u001b[0m         copy\u001b[39m=\u001b[39;49mcopy,\n\u001b[0;32m  10102\u001b[0m         indicator\u001b[39m=\u001b[39;49mindicator,\n\u001b[0;32m  10103\u001b[0m         validate\u001b[39m=\u001b[39;49mvalidate,\n\u001b[0;32m  10104\u001b[0m     )\n",
      "File \u001b[1;32mc:\\Users\\ima_n\\miniconda2\\envs\\ironhack\\lib\\site-packages\\pandas\\core\\reshape\\merge.py:110\u001b[0m, in \u001b[0;36mmerge\u001b[1;34m(left, right, how, on, left_on, right_on, left_index, right_index, sort, suffixes, copy, indicator, validate)\u001b[0m\n\u001b[0;32m     93\u001b[0m \u001b[39m@Substitution\u001b[39m(\u001b[39m\"\u001b[39m\u001b[39m\\n\u001b[39;00m\u001b[39mleft : DataFrame or named Series\u001b[39m\u001b[39m\"\u001b[39m)\n\u001b[0;32m     94\u001b[0m \u001b[39m@Appender\u001b[39m(_merge_doc, indents\u001b[39m=\u001b[39m\u001b[39m0\u001b[39m)\n\u001b[0;32m     95\u001b[0m \u001b[39mdef\u001b[39;00m \u001b[39mmerge\u001b[39m(\n\u001b[1;32m   (...)\u001b[0m\n\u001b[0;32m    108\u001b[0m     validate: \u001b[39mstr\u001b[39m \u001b[39m|\u001b[39m \u001b[39mNone\u001b[39;00m \u001b[39m=\u001b[39m \u001b[39mNone\u001b[39;00m,\n\u001b[0;32m    109\u001b[0m ) \u001b[39m-\u001b[39m\u001b[39m>\u001b[39m DataFrame:\n\u001b[1;32m--> 110\u001b[0m     op \u001b[39m=\u001b[39m _MergeOperation(\n\u001b[0;32m    111\u001b[0m         left,\n\u001b[0;32m    112\u001b[0m         right,\n\u001b[0;32m    113\u001b[0m         how\u001b[39m=\u001b[39;49mhow,\n\u001b[0;32m    114\u001b[0m         on\u001b[39m=\u001b[39;49mon,\n\u001b[0;32m    115\u001b[0m         left_on\u001b[39m=\u001b[39;49mleft_on,\n\u001b[0;32m    116\u001b[0m         right_on\u001b[39m=\u001b[39;49mright_on,\n\u001b[0;32m    117\u001b[0m         left_index\u001b[39m=\u001b[39;49mleft_index,\n\u001b[0;32m    118\u001b[0m         right_index\u001b[39m=\u001b[39;49mright_index,\n\u001b[0;32m    119\u001b[0m         sort\u001b[39m=\u001b[39;49msort,\n\u001b[0;32m    120\u001b[0m         suffixes\u001b[39m=\u001b[39;49msuffixes,\n\u001b[0;32m    121\u001b[0m         indicator\u001b[39m=\u001b[39;49mindicator,\n\u001b[0;32m    122\u001b[0m         validate\u001b[39m=\u001b[39;49mvalidate,\n\u001b[0;32m    123\u001b[0m     )\n\u001b[0;32m    124\u001b[0m     \u001b[39mreturn\u001b[39;00m op\u001b[39m.\u001b[39mget_result(copy\u001b[39m=\u001b[39mcopy)\n",
      "File \u001b[1;32mc:\\Users\\ima_n\\miniconda2\\envs\\ironhack\\lib\\site-packages\\pandas\\core\\reshape\\merge.py:685\u001b[0m, in \u001b[0;36m_MergeOperation.__init__\u001b[1;34m(self, left, right, how, on, left_on, right_on, axis, left_index, right_index, sort, suffixes, indicator, validate)\u001b[0m\n\u001b[0;32m    681\u001b[0m     \u001b[39m# stacklevel chosen to be correct when this is reached via pd.merge\u001b[39;00m\n\u001b[0;32m    682\u001b[0m     \u001b[39m# (and not DataFrame.join)\u001b[39;00m\n\u001b[0;32m    683\u001b[0m     warnings\u001b[39m.\u001b[39mwarn(msg, \u001b[39mFutureWarning\u001b[39;00m, stacklevel\u001b[39m=\u001b[39mfind_stack_level())\n\u001b[1;32m--> 685\u001b[0m \u001b[39mself\u001b[39m\u001b[39m.\u001b[39mleft_on, \u001b[39mself\u001b[39m\u001b[39m.\u001b[39mright_on \u001b[39m=\u001b[39m \u001b[39mself\u001b[39;49m\u001b[39m.\u001b[39;49m_validate_left_right_on(left_on, right_on)\n\u001b[0;32m    687\u001b[0m cross_col \u001b[39m=\u001b[39m \u001b[39mNone\u001b[39;00m\n\u001b[0;32m    688\u001b[0m \u001b[39mif\u001b[39;00m \u001b[39mself\u001b[39m\u001b[39m.\u001b[39mhow \u001b[39m==\u001b[39m \u001b[39m\"\u001b[39m\u001b[39mcross\u001b[39m\u001b[39m\"\u001b[39m:\n",
      "File \u001b[1;32mc:\\Users\\ima_n\\miniconda2\\envs\\ironhack\\lib\\site-packages\\pandas\\core\\reshape\\merge.py:1434\u001b[0m, in \u001b[0;36m_MergeOperation._validate_left_right_on\u001b[1;34m(self, left_on, right_on)\u001b[0m\n\u001b[0;32m   1432\u001b[0m common_cols \u001b[39m=\u001b[39m left_cols\u001b[39m.\u001b[39mintersection(right_cols)\n\u001b[0;32m   1433\u001b[0m \u001b[39mif\u001b[39;00m \u001b[39mlen\u001b[39m(common_cols) \u001b[39m==\u001b[39m \u001b[39m0\u001b[39m:\n\u001b[1;32m-> 1434\u001b[0m     \u001b[39mraise\u001b[39;00m MergeError(\n\u001b[0;32m   1435\u001b[0m         \u001b[39m\"\u001b[39m\u001b[39mNo common columns to perform merge on. \u001b[39m\u001b[39m\"\u001b[39m\n\u001b[0;32m   1436\u001b[0m         \u001b[39mf\u001b[39m\u001b[39m\"\u001b[39m\u001b[39mMerge options: left_on=\u001b[39m\u001b[39m{\u001b[39;00mleft_on\u001b[39m}\u001b[39;00m\u001b[39m, \u001b[39m\u001b[39m\"\u001b[39m\n\u001b[0;32m   1437\u001b[0m         \u001b[39mf\u001b[39m\u001b[39m\"\u001b[39m\u001b[39mright_on=\u001b[39m\u001b[39m{\u001b[39;00mright_on\u001b[39m}\u001b[39;00m\u001b[39m, \u001b[39m\u001b[39m\"\u001b[39m\n\u001b[0;32m   1438\u001b[0m         \u001b[39mf\u001b[39m\u001b[39m\"\u001b[39m\u001b[39mleft_index=\u001b[39m\u001b[39m{\u001b[39;00m\u001b[39mself\u001b[39m\u001b[39m.\u001b[39mleft_index\u001b[39m}\u001b[39;00m\u001b[39m, \u001b[39m\u001b[39m\"\u001b[39m\n\u001b[0;32m   1439\u001b[0m         \u001b[39mf\u001b[39m\u001b[39m\"\u001b[39m\u001b[39mright_index=\u001b[39m\u001b[39m{\u001b[39;00m\u001b[39mself\u001b[39m\u001b[39m.\u001b[39mright_index\u001b[39m}\u001b[39;00m\u001b[39m\"\u001b[39m\n\u001b[0;32m   1440\u001b[0m     )\n\u001b[0;32m   1441\u001b[0m \u001b[39mif\u001b[39;00m (\n\u001b[0;32m   1442\u001b[0m     \u001b[39mnot\u001b[39;00m left_cols\u001b[39m.\u001b[39mjoin(common_cols, how\u001b[39m=\u001b[39m\u001b[39m\"\u001b[39m\u001b[39minner\u001b[39m\u001b[39m\"\u001b[39m)\u001b[39m.\u001b[39mis_unique\n\u001b[0;32m   1443\u001b[0m     \u001b[39mor\u001b[39;00m \u001b[39mnot\u001b[39;00m right_cols\u001b[39m.\u001b[39mjoin(common_cols, how\u001b[39m=\u001b[39m\u001b[39m\"\u001b[39m\u001b[39minner\u001b[39m\u001b[39m\"\u001b[39m)\u001b[39m.\u001b[39mis_unique\n\u001b[0;32m   1444\u001b[0m ):\n\u001b[0;32m   1445\u001b[0m     \u001b[39mraise\u001b[39;00m MergeError(\u001b[39mf\u001b[39m\u001b[39m\"\u001b[39m\u001b[39mData columns not unique: \u001b[39m\u001b[39m{\u001b[39;00m\u001b[39mrepr\u001b[39m(common_cols)\u001b[39m}\u001b[39;00m\u001b[39m\"\u001b[39m)\n",
      "\u001b[1;31mMergeError\u001b[0m: No common columns to perform merge on. Merge options: left_on=None, right_on=None, left_index=False, right_index=False"
     ]
    }
   ],
   "source": [
    "# Merge all df from diferent years to production.\n",
    "area = pd.DataFrame.merge(area, df2010, how=\"left\")"
   ]
  },
  {
   "cell_type": "code",
   "execution_count": null,
   "metadata": {},
   "outputs": [],
   "source": [
    "area = pd.DataFrame.merge(area, df2011, how=\"left\")"
   ]
  },
  {
   "cell_type": "code",
   "execution_count": null,
   "metadata": {},
   "outputs": [],
   "source": [
    "area = pd.DataFrame.merge(area, df2012, how=\"left\")"
   ]
  },
  {
   "cell_type": "code",
   "execution_count": 30,
   "metadata": {},
   "outputs": [],
   "source": [
    "area = pd.DataFrame.merge(area, df2013, how=\"left\")"
   ]
  },
  {
   "cell_type": "code",
   "execution_count": 31,
   "metadata": {},
   "outputs": [],
   "source": [
    "area = pd.DataFrame.merge(area, df2014, how=\"left\")"
   ]
  },
  {
   "cell_type": "code",
   "execution_count": 32,
   "metadata": {},
   "outputs": [],
   "source": [
    "area = pd.DataFrame.merge(area, df2015, how=\"left\")"
   ]
  },
  {
   "cell_type": "code",
   "execution_count": 33,
   "metadata": {},
   "outputs": [],
   "source": [
    "area = pd.DataFrame.merge(area, df2016, how=\"left\")"
   ]
  },
  {
   "cell_type": "code",
   "execution_count": 34,
   "metadata": {},
   "outputs": [],
   "source": [
    "area = pd.DataFrame.merge(area, df2017, how=\"left\")"
   ]
  },
  {
   "cell_type": "code",
   "execution_count": 35,
   "metadata": {},
   "outputs": [],
   "source": [
    "area = pd.DataFrame.merge(area, df2018, how=\"left\")"
   ]
  },
  {
   "cell_type": "code",
   "execution_count": 36,
   "metadata": {},
   "outputs": [],
   "source": [
    "area = pd.DataFrame.merge(area, df2019, how=\"left\")"
   ]
  },
  {
   "cell_type": "code",
   "execution_count": 37,
   "metadata": {},
   "outputs": [],
   "source": [
    "area = pd.DataFrame.merge(area, df2020, how=\"left\")"
   ]
  },
  {
   "cell_type": "code",
   "execution_count": 38,
   "metadata": {},
   "outputs": [],
   "source": [
    "area = pd.DataFrame.merge(area, df2021, how=\"left\")"
   ]
  },
  {
   "cell_type": "code",
   "execution_count": 39,
   "metadata": {},
   "outputs": [],
   "source": [
    "# Drop duplicates from item and area columns.\n",
    "area = area.drop_duplicates(subset=[\"Item\", \"Area\"])"
   ]
  },
  {
   "cell_type": "code",
   "execution_count": 40,
   "metadata": {},
   "outputs": [
    {
     "data": {
      "text/html": [
       "<div>\n",
       "<style scoped>\n",
       "    .dataframe tbody tr th:only-of-type {\n",
       "        vertical-align: middle;\n",
       "    }\n",
       "\n",
       "    .dataframe tbody tr th {\n",
       "        vertical-align: top;\n",
       "    }\n",
       "\n",
       "    .dataframe thead th {\n",
       "        text-align: right;\n",
       "    }\n",
       "</style>\n",
       "<table border=\"1\" class=\"dataframe\">\n",
       "  <thead>\n",
       "    <tr style=\"text-align: right;\">\n",
       "      <th></th>\n",
       "      <th>Area</th>\n",
       "      <th>Item</th>\n",
       "      <th>2010</th>\n",
       "      <th>2011</th>\n",
       "      <th>2012</th>\n",
       "      <th>2013</th>\n",
       "      <th>2014</th>\n",
       "      <th>2015</th>\n",
       "      <th>2016</th>\n",
       "      <th>2017</th>\n",
       "      <th>2018</th>\n",
       "      <th>2019</th>\n",
       "      <th>2020</th>\n",
       "      <th>2021</th>\n",
       "    </tr>\n",
       "  </thead>\n",
       "  <tbody>\n",
       "    <tr>\n",
       "      <th>0</th>\n",
       "      <td>Afghanistan</td>\n",
       "      <td>Apples</td>\n",
       "      <td>8550.0</td>\n",
       "      <td>8863.0</td>\n",
       "      <td>9148.0</td>\n",
       "      <td>10341.0</td>\n",
       "      <td>12247.0</td>\n",
       "      <td>13038.0</td>\n",
       "      <td>19365.0</td>\n",
       "      <td>26847.0</td>\n",
       "      <td>28381.0</td>\n",
       "      <td>27559.0</td>\n",
       "      <td>25643.0</td>\n",
       "      <td>26540.0</td>\n",
       "    </tr>\n",
       "    <tr>\n",
       "      <th>1</th>\n",
       "      <td>Afghanistan</td>\n",
       "      <td>Barley</td>\n",
       "      <td>212000.0</td>\n",
       "      <td>190000.0</td>\n",
       "      <td>280000.0</td>\n",
       "      <td>278000.0</td>\n",
       "      <td>342472.0</td>\n",
       "      <td>282000.0</td>\n",
       "      <td>219208.0</td>\n",
       "      <td>68179.0</td>\n",
       "      <td>84147.0</td>\n",
       "      <td>84070.0</td>\n",
       "      <td>86099.0</td>\n",
       "      <td>84072.0</td>\n",
       "    </tr>\n",
       "    <tr>\n",
       "      <th>2</th>\n",
       "      <td>Afghanistan</td>\n",
       "      <td>Grapes</td>\n",
       "      <td>61132.0</td>\n",
       "      <td>61558.0</td>\n",
       "      <td>61690.0</td>\n",
       "      <td>62118.0</td>\n",
       "      <td>78405.0</td>\n",
       "      <td>78681.0</td>\n",
       "      <td>82450.0</td>\n",
       "      <td>87194.0</td>\n",
       "      <td>87517.0</td>\n",
       "      <td>89593.0</td>\n",
       "      <td>92584.0</td>\n",
       "      <td>96560.0</td>\n",
       "    </tr>\n",
       "    <tr>\n",
       "      <th>3</th>\n",
       "      <td>Afghanistan</td>\n",
       "      <td>Maize (corn)</td>\n",
       "      <td>183000.0</td>\n",
       "      <td>183000.0</td>\n",
       "      <td>141000.0</td>\n",
       "      <td>142000.0</td>\n",
       "      <td>127000.0</td>\n",
       "      <td>147273.0</td>\n",
       "      <td>151900.0</td>\n",
       "      <td>134225.0</td>\n",
       "      <td>72433.0</td>\n",
       "      <td>94910.0</td>\n",
       "      <td>140498.0</td>\n",
       "      <td>92144.0</td>\n",
       "    </tr>\n",
       "    <tr>\n",
       "      <th>4</th>\n",
       "      <td>Afghanistan</td>\n",
       "      <td>Other citrus fruit, n.e.c.</td>\n",
       "      <td>200.0</td>\n",
       "      <td>200.0</td>\n",
       "      <td>200.0</td>\n",
       "      <td>300.0</td>\n",
       "      <td>300.0</td>\n",
       "      <td>300.0</td>\n",
       "      <td>1662.0</td>\n",
       "      <td>1643.0</td>\n",
       "      <td>1700.0</td>\n",
       "      <td>3391.0</td>\n",
       "      <td>449.0</td>\n",
       "      <td>1403.0</td>\n",
       "    </tr>\n",
       "    <tr>\n",
       "      <th>...</th>\n",
       "      <td>...</td>\n",
       "      <td>...</td>\n",
       "      <td>...</td>\n",
       "      <td>...</td>\n",
       "      <td>...</td>\n",
       "      <td>...</td>\n",
       "      <td>...</td>\n",
       "      <td>...</td>\n",
       "      <td>...</td>\n",
       "      <td>...</td>\n",
       "      <td>...</td>\n",
       "      <td>...</td>\n",
       "      <td>...</td>\n",
       "      <td>...</td>\n",
       "    </tr>\n",
       "    <tr>\n",
       "      <th>2920</th>\n",
       "      <td>Zimbabwe</td>\n",
       "      <td>Rice</td>\n",
       "      <td>1543.0</td>\n",
       "      <td>1911.0</td>\n",
       "      <td>2833.0</td>\n",
       "      <td>2960.0</td>\n",
       "      <td>3755.0</td>\n",
       "      <td>4626.0</td>\n",
       "      <td>3780.0</td>\n",
       "      <td>3543.0</td>\n",
       "      <td>3371.0</td>\n",
       "      <td>2529.0</td>\n",
       "      <td>1260.0</td>\n",
       "      <td>3466.0</td>\n",
       "    </tr>\n",
       "    <tr>\n",
       "      <th>2921</th>\n",
       "      <td>Zimbabwe</td>\n",
       "      <td>Soya beans</td>\n",
       "      <td>42288.0</td>\n",
       "      <td>44672.0</td>\n",
       "      <td>50408.0</td>\n",
       "      <td>50785.0</td>\n",
       "      <td>60616.0</td>\n",
       "      <td>44155.0</td>\n",
       "      <td>39935.0</td>\n",
       "      <td>23515.0</td>\n",
       "      <td>37307.0</td>\n",
       "      <td>33136.0</td>\n",
       "      <td>32874.0</td>\n",
       "      <td>34648.0</td>\n",
       "    </tr>\n",
       "    <tr>\n",
       "      <th>2922</th>\n",
       "      <td>Zimbabwe</td>\n",
       "      <td>Sugar cane</td>\n",
       "      <td>40663.0</td>\n",
       "      <td>42828.0</td>\n",
       "      <td>53486.0</td>\n",
       "      <td>46605.0</td>\n",
       "      <td>43121.0</td>\n",
       "      <td>43094.0</td>\n",
       "      <td>43500.0</td>\n",
       "      <td>41000.0</td>\n",
       "      <td>45000.0</td>\n",
       "      <td>46000.0</td>\n",
       "      <td>47000.0</td>\n",
       "      <td>47000.0</td>\n",
       "    </tr>\n",
       "    <tr>\n",
       "      <th>2923</th>\n",
       "      <td>Zimbabwe</td>\n",
       "      <td>Tomatoes</td>\n",
       "      <td>3200.0</td>\n",
       "      <td>3146.0</td>\n",
       "      <td>3300.0</td>\n",
       "      <td>3300.0</td>\n",
       "      <td>3370.0</td>\n",
       "      <td>3508.0</td>\n",
       "      <td>3498.0</td>\n",
       "      <td>3481.0</td>\n",
       "      <td>3602.0</td>\n",
       "      <td>3607.0</td>\n",
       "      <td>3564.0</td>\n",
       "      <td>3591.0</td>\n",
       "    </tr>\n",
       "    <tr>\n",
       "      <th>2924</th>\n",
       "      <td>Zimbabwe</td>\n",
       "      <td>Wheat</td>\n",
       "      <td>6478.0</td>\n",
       "      <td>8645.0</td>\n",
       "      <td>21377.0</td>\n",
       "      <td>21753.0</td>\n",
       "      <td>18059.0</td>\n",
       "      <td>22114.0</td>\n",
       "      <td>22094.0</td>\n",
       "      <td>22070.0</td>\n",
       "      <td>16700.0</td>\n",
       "      <td>24186.0</td>\n",
       "      <td>44466.0</td>\n",
       "      <td>66434.0</td>\n",
       "    </tr>\n",
       "  </tbody>\n",
       "</table>\n",
       "<p>2925 rows × 14 columns</p>\n",
       "</div>"
      ],
      "text/plain": [
       "             Area                        Item      2010      2011      2012  \\\n",
       "0     Afghanistan                      Apples    8550.0    8863.0    9148.0   \n",
       "1     Afghanistan                      Barley  212000.0  190000.0  280000.0   \n",
       "2     Afghanistan                      Grapes   61132.0   61558.0   61690.0   \n",
       "3     Afghanistan                Maize (corn)  183000.0  183000.0  141000.0   \n",
       "4     Afghanistan  Other citrus fruit, n.e.c.     200.0     200.0     200.0   \n",
       "...           ...                         ...       ...       ...       ...   \n",
       "2920     Zimbabwe                        Rice    1543.0    1911.0    2833.0   \n",
       "2921     Zimbabwe                  Soya beans   42288.0   44672.0   50408.0   \n",
       "2922     Zimbabwe                  Sugar cane   40663.0   42828.0   53486.0   \n",
       "2923     Zimbabwe                    Tomatoes    3200.0    3146.0    3300.0   \n",
       "2924     Zimbabwe                       Wheat    6478.0    8645.0   21377.0   \n",
       "\n",
       "          2013      2014      2015      2016      2017     2018     2019  \\\n",
       "0      10341.0   12247.0   13038.0   19365.0   26847.0  28381.0  27559.0   \n",
       "1     278000.0  342472.0  282000.0  219208.0   68179.0  84147.0  84070.0   \n",
       "2      62118.0   78405.0   78681.0   82450.0   87194.0  87517.0  89593.0   \n",
       "3     142000.0  127000.0  147273.0  151900.0  134225.0  72433.0  94910.0   \n",
       "4        300.0     300.0     300.0    1662.0    1643.0   1700.0   3391.0   \n",
       "...        ...       ...       ...       ...       ...      ...      ...   \n",
       "2920    2960.0    3755.0    4626.0    3780.0    3543.0   3371.0   2529.0   \n",
       "2921   50785.0   60616.0   44155.0   39935.0   23515.0  37307.0  33136.0   \n",
       "2922   46605.0   43121.0   43094.0   43500.0   41000.0  45000.0  46000.0   \n",
       "2923    3300.0    3370.0    3508.0    3498.0    3481.0   3602.0   3607.0   \n",
       "2924   21753.0   18059.0   22114.0   22094.0   22070.0  16700.0  24186.0   \n",
       "\n",
       "          2020     2021  \n",
       "0      25643.0  26540.0  \n",
       "1      86099.0  84072.0  \n",
       "2      92584.0  96560.0  \n",
       "3     140498.0  92144.0  \n",
       "4        449.0   1403.0  \n",
       "...        ...      ...  \n",
       "2920    1260.0   3466.0  \n",
       "2921   32874.0  34648.0  \n",
       "2922   47000.0  47000.0  \n",
       "2923    3564.0   3591.0  \n",
       "2924   44466.0  66434.0  \n",
       "\n",
       "[2925 rows x 14 columns]"
      ]
     },
     "execution_count": 40,
     "metadata": {},
     "output_type": "execute_result"
    }
   ],
   "source": [
    "area"
   ]
  },
  {
   "attachments": {},
   "cell_type": "markdown",
   "metadata": {},
   "source": [
    "['Wheat & Rye (Bread)', 'Maize (Meal)', 'Barley (Beer)', 'Oatmeal', 'Rice', 'Potatoes', 'Cassava', 'Cane Sugar', 'Beet Sugar', 'Other Pulses', 'Peas', 'Nuts', 'Groundnuts', 'Soymilk', 'Tofu', 'Soybean Oil', 'Palm Oil', 'Sunflower Oil', 'Rapeseed Oil', 'Olive Oil', 'Tomatoes', 'Onions & Leeks', 'Root Vegetables', 'Brassicas', 'Other Vegetables', 'Citrus Fruit', 'Bananas', 'Apples', 'Berries & Grapes', 'Wine', 'Other Fruit', 'Coffee', 'Dark Chocolate', 'Beef (beef herd)', 'Beef (dairy herd)', 'Lamb & Mutton', 'Pig Meat', 'Poultry Meat', 'Milk', 'Cheese', 'Eggs', 'Fish (farmed)', 'Shrimps (farmed)']"
   ]
  },
  {
   "cell_type": "code",
   "execution_count": null,
   "metadata": {},
   "outputs": [],
   "source": []
  },
  {
   "attachments": {},
   "cell_type": "markdown",
   "metadata": {},
   "source": [
    "IMPORT quantity data set."
   ]
  },
  {
   "cell_type": "markdown",
   "metadata": {},
   "source": []
  },
  {
   "attachments": {},
   "cell_type": "markdown",
   "metadata": {},
   "source": [
    "IMPORT production."
   ]
  },
  {
   "cell_type": "code",
   "execution_count": 69,
   "metadata": {},
   "outputs": [
    {
     "data": {
      "text/html": [
       "<div>\n",
       "<style scoped>\n",
       "    .dataframe tbody tr th:only-of-type {\n",
       "        vertical-align: middle;\n",
       "    }\n",
       "\n",
       "    .dataframe tbody tr th {\n",
       "        vertical-align: top;\n",
       "    }\n",
       "\n",
       "    .dataframe thead th {\n",
       "        text-align: right;\n",
       "    }\n",
       "</style>\n",
       "<table border=\"1\" class=\"dataframe\">\n",
       "  <thead>\n",
       "    <tr style=\"text-align: right;\">\n",
       "      <th></th>\n",
       "      <th>Domain Code</th>\n",
       "      <th>Domain</th>\n",
       "      <th>Area Code (M49)</th>\n",
       "      <th>Area</th>\n",
       "      <th>Element Code</th>\n",
       "      <th>Element</th>\n",
       "      <th>Item Code (CPC)</th>\n",
       "      <th>Item</th>\n",
       "      <th>Year Code</th>\n",
       "      <th>Year</th>\n",
       "      <th>Months Code</th>\n",
       "      <th>Months</th>\n",
       "      <th>Unit</th>\n",
       "      <th>Value</th>\n",
       "      <th>Flag</th>\n",
       "      <th>Flag Description</th>\n",
       "    </tr>\n",
       "  </thead>\n",
       "  <tbody>\n",
       "    <tr>\n",
       "      <th>30431</th>\n",
       "      <td>PP</td>\n",
       "      <td>Producer Prices</td>\n",
       "      <td>670</td>\n",
       "      <td>Saint Vincent and the Grenadines</td>\n",
       "      <td>5532</td>\n",
       "      <td>Producer Price (USD/tonne)</td>\n",
       "      <td>0112</td>\n",
       "      <td>Maize (corn)</td>\n",
       "      <td>2008</td>\n",
       "      <td>2008</td>\n",
       "      <td>7021</td>\n",
       "      <td>Annual value</td>\n",
       "      <td>USD</td>\n",
       "      <td>1486.1</td>\n",
       "      <td>A</td>\n",
       "      <td>Official figure</td>\n",
       "    </tr>\n",
       "  </tbody>\n",
       "</table>\n",
       "</div>"
      ],
      "text/plain": [
       "      Domain Code           Domain  Area Code (M49)  \\\n",
       "30431          PP  Producer Prices              670   \n",
       "\n",
       "                                   Area  Element Code  \\\n",
       "30431  Saint Vincent and the Grenadines          5532   \n",
       "\n",
       "                          Element Item Code (CPC)          Item  Year Code  \\\n",
       "30431  Producer Price (USD/tonne)            0112  Maize (corn)       2008   \n",
       "\n",
       "       Year  Months Code        Months Unit   Value Flag Flag Description  \n",
       "30431  2008         7021  Annual value  USD  1486.1    A  Official figure  "
      ]
     },
     "execution_count": 69,
     "metadata": {},
     "output_type": "execute_result"
    }
   ],
   "source": [
    "price= pd.read_csv(\"D:\\ironhack\\proyectos\\_proy4\\csv\\\\producer_price.csv\")\n",
    "price.sample()"
   ]
  },
  {
   "cell_type": "code",
   "execution_count": null,
   "metadata": {},
   "outputs": [],
   "source": [
    "price.drop(columns= [\"Domain Code\", \"Domain\", ])"
   ]
  },
  {
   "cell_type": "code",
   "execution_count": null,
   "metadata": {},
   "outputs": [],
   "source": []
  }
 ],
 "metadata": {
  "kernelspec": {
   "display_name": "proy4",
   "language": "python",
   "name": "python3"
  },
  "language_info": {
   "codemirror_mode": {
    "name": "ipython",
    "version": 3
   },
   "file_extension": ".py",
   "mimetype": "text/x-python",
   "name": "python",
   "nbconvert_exporter": "python",
   "pygments_lexer": "ipython3",
   "version": "3.10.9"
  },
  "orig_nbformat": 4,
  "vscode": {
   "interpreter": {
    "hash": "b3dfe1283fda9364cc2362416e4bfe66337331c733e8ef7132f45b573e2561ec"
   }
  }
 },
 "nbformat": 4,
 "nbformat_minor": 2
}
