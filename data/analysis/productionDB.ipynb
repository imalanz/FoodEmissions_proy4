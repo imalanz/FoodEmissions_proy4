{
 "cells": [
  {
   "attachments": {},
   "cell_type": "markdown",
   "metadata": {},
   "source": [
    "# ANALYSIS.\n",
    "## Production DB."
   ]
  },
  {
   "cell_type": "code",
   "execution_count": 6,
   "metadata": {},
   "outputs": [
    {
     "ename": "ModuleNotFoundError",
     "evalue": "No module named 'src'",
     "output_type": "error",
     "traceback": [
      "\u001b[1;31m---------------------------------------------------------------------------\u001b[0m",
      "\u001b[1;31mModuleNotFoundError\u001b[0m                       Traceback (most recent call last)",
      "Cell \u001b[1;32mIn[6], line 7\u001b[0m\n\u001b[0;32m      4\u001b[0m warnings\u001b[39m.\u001b[39mfilterwarnings(\u001b[39m\"\u001b[39m\u001b[39mignore\u001b[39m\u001b[39m\"\u001b[39m)\n\u001b[0;32m      6\u001b[0m \u001b[39mimport\u001b[39;00m \u001b[39mimportlib\u001b[39;00m\n\u001b[1;32m----> 7\u001b[0m \u001b[39mimport\u001b[39;00m \u001b[39msrc\u001b[39;00m\u001b[39m.\u001b[39;00m\u001b[39manalysis\u001b[39;00m \u001b[39mas\u001b[39;00m \u001b[39man\u001b[39;00m\n\u001b[0;32m      8\u001b[0m \u001b[39mimport\u001b[39;00m \u001b[39msys\u001b[39;00m \n\u001b[0;32m      9\u001b[0m an \u001b[39m=\u001b[39m sys\u001b[39m.\u001b[39mpath\u001b[39m.\u001b[39mappend(\u001b[39m\"\u001b[39m\u001b[39m\\\u001b[39m\u001b[39msrc\u001b[39m\u001b[39m\\\\\u001b[39;00m\u001b[39manalysis.py\u001b[39m\u001b[39m\"\u001b[39m)\n",
      "\u001b[1;31mModuleNotFoundError\u001b[0m: No module named 'src'"
     ]
    }
   ],
   "source": [
    "import pandas as pd\n",
    "import re\n",
    "import warnings\n",
    "warnings.filterwarnings(\"ignore\")\n",
    "\n",
    "import importlib\n",
    "import src.analysis as an\n",
    "import sys \n",
    "an = sys.path.append(\"\\src\\\\analysis.py\")"
   ]
  },
  {
   "attachments": {},
   "cell_type": "markdown",
   "metadata": {},
   "source": [
    "IMPORT quantity data set."
   ]
  },
  {
   "cell_type": "code",
   "execution_count": 173,
   "metadata": {},
   "outputs": [],
   "source": [
    "production = pd.read_csv(\"D:\\ironhack\\proyectos\\_proy4\\csv\\\\production_quantity.csv\")\n"
   ]
  },
  {
   "cell_type": "code",
   "execution_count": 174,
   "metadata": {},
   "outputs": [],
   "source": [
    "# Drop columns.\n",
    "production.drop(columns=[\"Domain\", \"Domain Code\", \"Element Code\", \"Element\", \"Year Code\"],inplace=True)"
   ]
  },
  {
   "cell_type": "code",
   "execution_count": 175,
   "metadata": {},
   "outputs": [],
   "source": [
    "# Change names.\n",
    "production.rename(columns={\"Area Code (M49)\":\"Area Code\", \"Item Code (CPC)\": \"Item Code\"}, inplace= True)"
   ]
  },
  {
   "cell_type": "code",
   "execution_count": 176,
   "metadata": {},
   "outputs": [
    {
     "data": {
      "text/html": [
       "<div>\n",
       "<style scoped>\n",
       "    .dataframe tbody tr th:only-of-type {\n",
       "        vertical-align: middle;\n",
       "    }\n",
       "\n",
       "    .dataframe tbody tr th {\n",
       "        vertical-align: top;\n",
       "    }\n",
       "\n",
       "    .dataframe thead th {\n",
       "        text-align: right;\n",
       "    }\n",
       "</style>\n",
       "<table border=\"1\" class=\"dataframe\">\n",
       "  <thead>\n",
       "    <tr style=\"text-align: right;\">\n",
       "      <th></th>\n",
       "      <th>Area Code</th>\n",
       "      <th>Area</th>\n",
       "      <th>Item Code</th>\n",
       "      <th>Item</th>\n",
       "      <th>Year</th>\n",
       "      <th>Unit</th>\n",
       "      <th>Value</th>\n",
       "    </tr>\n",
       "  </thead>\n",
       "  <tbody>\n",
       "    <tr>\n",
       "      <th>52685</th>\n",
       "      <td>724</td>\n",
       "      <td>Spain</td>\n",
       "      <td>112.0</td>\n",
       "      <td>Maize (corn)</td>\n",
       "      <td>2019</td>\n",
       "      <td>tonnes</td>\n",
       "      <td>4184460.0</td>\n",
       "    </tr>\n",
       "  </tbody>\n",
       "</table>\n",
       "</div>"
      ],
      "text/plain": [
       "       Area Code   Area  Item Code          Item  Year    Unit      Value\n",
       "52685        724  Spain      112.0  Maize (corn)  2019  tonnes  4184460.0"
      ]
     },
     "execution_count": 176,
     "metadata": {},
     "output_type": "execute_result"
    }
   ],
   "source": [
    "production.sample()"
   ]
  },
  {
   "cell_type": "code",
   "execution_count": 177,
   "metadata": {},
   "outputs": [],
   "source": [
    "def iterate_column_years (year):\n",
    "    # iterate 2010\n",
    "    x = {index:[row[0],row[1],row[2],row[3],row[6]] for index, row in production.iterrows() if row[4] == year}\n",
    "    df = pd.DataFrame.from_dict(x, orient=\"index\")\n",
    "    df.rename(columns= {0: \"Area Code\", 1:\"Area\", 2:\"Item Code\", 3:\"Item\", 4:year}, inplace = True)\n",
    "    df[\"Item\"] = df[\"Item\"].astype(object)\n",
    "    df[\"Area\"] = df[\"Area\"].astype(object)\n",
    "    df[year] = df[year].astype(object)\n",
    "    \n",
    "    return df.drop_duplicates(subset=['Area Code', 'Item Code'], keep='last')"
   ]
  },
  {
   "attachments": {},
   "cell_type": "markdown",
   "metadata": {},
   "source": [
    "Iteration throw each year and create column with year."
   ]
  },
  {
   "cell_type": "code",
   "execution_count": 178,
   "metadata": {},
   "outputs": [],
   "source": [
    "# iterate 2010\n",
    "df2010 = iterate_column_years (2010)"
   ]
  },
  {
   "cell_type": "code",
   "execution_count": 179,
   "metadata": {},
   "outputs": [],
   "source": [
    "# iterate 2011\n",
    "df2011 = iterate_column_years (2011)"
   ]
  },
  {
   "cell_type": "code",
   "execution_count": 180,
   "metadata": {},
   "outputs": [],
   "source": [
    "# iterate 2012\n",
    "df2012 = iterate_column_years (2012)"
   ]
  },
  {
   "cell_type": "code",
   "execution_count": 181,
   "metadata": {},
   "outputs": [],
   "source": [
    "# iterate 2013\n",
    "df2013 = iterate_column_years (2013)"
   ]
  },
  {
   "cell_type": "code",
   "execution_count": 182,
   "metadata": {},
   "outputs": [],
   "source": [
    "# iterate 2014\n",
    "df2014 = iterate_column_years (2014)"
   ]
  },
  {
   "cell_type": "code",
   "execution_count": 183,
   "metadata": {},
   "outputs": [],
   "source": [
    "# iterate 2015\n",
    "df2015 = iterate_column_years (2015)"
   ]
  },
  {
   "cell_type": "code",
   "execution_count": 184,
   "metadata": {},
   "outputs": [],
   "source": [
    "# iterate 2016\n",
    "df2016 = iterate_column_years (2016)"
   ]
  },
  {
   "cell_type": "code",
   "execution_count": 185,
   "metadata": {},
   "outputs": [],
   "source": [
    "# iterate 2017\n",
    "df2017 = iterate_column_years (2017)"
   ]
  },
  {
   "cell_type": "code",
   "execution_count": 186,
   "metadata": {},
   "outputs": [],
   "source": [
    "# iterate 2018\n",
    "df2018 = iterate_column_years (2018)"
   ]
  },
  {
   "cell_type": "code",
   "execution_count": 187,
   "metadata": {},
   "outputs": [],
   "source": [
    "# iterate 2019\n",
    "df2019 = iterate_column_years (2019)"
   ]
  },
  {
   "cell_type": "code",
   "execution_count": 188,
   "metadata": {},
   "outputs": [],
   "source": [
    "# iterate 2020\n",
    "df2020 = iterate_column_years (2020)"
   ]
  },
  {
   "cell_type": "code",
   "execution_count": 189,
   "metadata": {},
   "outputs": [],
   "source": [
    "# iterate 2021\n",
    "df2021 = iterate_column_years (2021)"
   ]
  },
  {
   "attachments": {},
   "cell_type": "markdown",
   "metadata": {},
   "source": [
    "Drop columns of production and duplicates, and change types."
   ]
  },
  {
   "cell_type": "code",
   "execution_count": 190,
   "metadata": {},
   "outputs": [],
   "source": [
    "# Drop columns.\n",
    "production.drop(columns=[\"Year\", \"Value\", \"Unit\"],inplace=True)"
   ]
  },
  {
   "cell_type": "code",
   "execution_count": 191,
   "metadata": {},
   "outputs": [],
   "source": [
    "production[\"Item Code\"] = production[\"Item Code\"].astype(object)"
   ]
  },
  {
   "cell_type": "code",
   "execution_count": 192,
   "metadata": {},
   "outputs": [],
   "source": [
    "production[\"Area Code\"] = production[\"Area Code\"].astype(object)"
   ]
  },
  {
   "cell_type": "code",
   "execution_count": 193,
   "metadata": {},
   "outputs": [],
   "source": [
    "# drop duplicates.\n",
    "production.drop_duplicates(inplace=True)"
   ]
  },
  {
   "attachments": {},
   "cell_type": "markdown",
   "metadata": {},
   "source": [
    "Merge all data frames to 1."
   ]
  },
  {
   "cell_type": "code",
   "execution_count": 200,
   "metadata": {},
   "outputs": [],
   "source": [
    "def merging_production (df, df2010, df2011, df2012, df2013, df2014, df2015, df2016, df2017, df2018, df2019, df2020, df2021):\n",
    "    z = pd.merge(df, df2010, how=\"left\").merge(df2011, how=\"left\").merge(df2012, how=\"left\")\n",
    "    z = pd.merge(z, df2013, how=\"left\").merge(df2014, how=\"left\").merge(df2015, how=\"left\")\n",
    "    z = pd.merge(z, df2016, how=\"left\").merge(df2017, how=\"left\").merge(df2018, how=\"left\")        \n",
    "    z = pd.merge(z, df2019, how=\"left\").merge(df2020, how=\"left\").merge(df2021, how=\"left\")  \n",
    "    return z"
   ]
  },
  {
   "cell_type": "code",
   "execution_count": 201,
   "metadata": {},
   "outputs": [],
   "source": [
    "df = merging_production (production, df2010, df2011, df2012, df2013, df2014, df2015, df2016, df2017, df2018, df2019, df2020, df2021)"
   ]
  },
  {
   "cell_type": "code",
   "execution_count": 202,
   "metadata": {},
   "outputs": [
    {
     "data": {
      "text/html": [
       "<div>\n",
       "<style scoped>\n",
       "    .dataframe tbody tr th:only-of-type {\n",
       "        vertical-align: middle;\n",
       "    }\n",
       "\n",
       "    .dataframe tbody tr th {\n",
       "        vertical-align: top;\n",
       "    }\n",
       "\n",
       "    .dataframe thead th {\n",
       "        text-align: right;\n",
       "    }\n",
       "</style>\n",
       "<table border=\"1\" class=\"dataframe\">\n",
       "  <thead>\n",
       "    <tr style=\"text-align: right;\">\n",
       "      <th></th>\n",
       "      <th>Area Code</th>\n",
       "      <th>Area</th>\n",
       "      <th>Item Code</th>\n",
       "      <th>Item</th>\n",
       "      <th>2010</th>\n",
       "      <th>2011</th>\n",
       "      <th>2012</th>\n",
       "      <th>2013</th>\n",
       "      <th>2014</th>\n",
       "      <th>2015</th>\n",
       "      <th>2016</th>\n",
       "      <th>2017</th>\n",
       "      <th>2018</th>\n",
       "      <th>2019</th>\n",
       "      <th>2020</th>\n",
       "      <th>2021</th>\n",
       "    </tr>\n",
       "  </thead>\n",
       "  <tbody>\n",
       "    <tr>\n",
       "      <th>0</th>\n",
       "      <td>4</td>\n",
       "      <td>Afghanistan</td>\n",
       "      <td>1341.0</td>\n",
       "      <td>Apples</td>\n",
       "      <td>59850.0</td>\n",
       "      <td>62041.0</td>\n",
       "      <td>70000.0</td>\n",
       "      <td>78597.0</td>\n",
       "      <td>89403.0</td>\n",
       "      <td>89733.0</td>\n",
       "      <td>140903.0</td>\n",
       "      <td>170443.0</td>\n",
       "      <td>217192.0</td>\n",
       "      <td>250324.0</td>\n",
       "      <td>270857.0</td>\n",
       "      <td>292586.58</td>\n",
       "    </tr>\n",
       "    <tr>\n",
       "      <th>1</th>\n",
       "      <td>4</td>\n",
       "      <td>Afghanistan</td>\n",
       "      <td>115.0</td>\n",
       "      <td>Barley</td>\n",
       "      <td>437000.0</td>\n",
       "      <td>305900.0</td>\n",
       "      <td>504000.0</td>\n",
       "      <td>514000.0</td>\n",
       "      <td>521000.0</td>\n",
       "      <td>403000.0</td>\n",
       "      <td>301856.0</td>\n",
       "      <td>94995.0</td>\n",
       "      <td>56781.0</td>\n",
       "      <td>123576.0</td>\n",
       "      <td>127757.0</td>\n",
       "      <td>122692.77</td>\n",
       "    </tr>\n",
       "    <tr>\n",
       "      <th>2</th>\n",
       "      <td>4</td>\n",
       "      <td>Afghanistan</td>\n",
       "      <td>1330.0</td>\n",
       "      <td>Grapes</td>\n",
       "      <td>397000.0</td>\n",
       "      <td>492464.0</td>\n",
       "      <td>590065.0</td>\n",
       "      <td>610570.0</td>\n",
       "      <td>744847.0</td>\n",
       "      <td>805072.0</td>\n",
       "      <td>874541.0</td>\n",
       "      <td>923831.0</td>\n",
       "      <td>984081.0</td>\n",
       "      <td>1112927.0</td>\n",
       "      <td>993382.0</td>\n",
       "      <td>1036547.62</td>\n",
       "    </tr>\n",
       "    <tr>\n",
       "      <th>3</th>\n",
       "      <td>4</td>\n",
       "      <td>Afghanistan</td>\n",
       "      <td>231.0</td>\n",
       "      <td>Hen eggs in shell, fresh</td>\n",
       "      <td>326880.0</td>\n",
       "      <td>344200.0</td>\n",
       "      <td>360000.0</td>\n",
       "      <td>360000.0</td>\n",
       "      <td>370000.0</td>\n",
       "      <td>396660.0</td>\n",
       "      <td>397675.0</td>\n",
       "      <td>400000.0</td>\n",
       "      <td>398112.0</td>\n",
       "      <td>440804.0</td>\n",
       "      <td>440782.0</td>\n",
       "      <td>444975.0</td>\n",
       "    </tr>\n",
       "    <tr>\n",
       "      <th>4</th>\n",
       "      <td>4</td>\n",
       "      <td>Afghanistan</td>\n",
       "      <td>112.0</td>\n",
       "      <td>Maize (corn)</td>\n",
       "      <td>301000.0</td>\n",
       "      <td>300120.0</td>\n",
       "      <td>310000.0</td>\n",
       "      <td>312000.0</td>\n",
       "      <td>316000.0</td>\n",
       "      <td>316000.0</td>\n",
       "      <td>311646.0</td>\n",
       "      <td>173912.0</td>\n",
       "      <td>106670.0</td>\n",
       "      <td>184671.0</td>\n",
       "      <td>271776.0</td>\n",
       "      <td>180000.0</td>\n",
       "    </tr>\n",
       "    <tr>\n",
       "      <th>...</th>\n",
       "      <td>...</td>\n",
       "      <td>...</td>\n",
       "      <td>...</td>\n",
       "      <td>...</td>\n",
       "      <td>...</td>\n",
       "      <td>...</td>\n",
       "      <td>...</td>\n",
       "      <td>...</td>\n",
       "      <td>...</td>\n",
       "      <td>...</td>\n",
       "      <td>...</td>\n",
       "      <td>...</td>\n",
       "      <td>...</td>\n",
       "      <td>...</td>\n",
       "      <td>...</td>\n",
       "      <td>...</td>\n",
       "    </tr>\n",
       "    <tr>\n",
       "      <th>4536</th>\n",
       "      <td>716</td>\n",
       "      <td>Zimbabwe</td>\n",
       "      <td>1802.0</td>\n",
       "      <td>Sugar cane</td>\n",
       "      <td>2692000.0</td>\n",
       "      <td>3058000.0</td>\n",
       "      <td>3929056.0</td>\n",
       "      <td>3960000.0</td>\n",
       "      <td>3856000.0</td>\n",
       "      <td>3348000.0</td>\n",
       "      <td>3483000.0</td>\n",
       "      <td>3101000.0</td>\n",
       "      <td>3582994.0</td>\n",
       "      <td>3562000.0</td>\n",
       "      <td>3543771.0</td>\n",
       "      <td>3450000.0</td>\n",
       "    </tr>\n",
       "    <tr>\n",
       "      <th>4537</th>\n",
       "      <td>716</td>\n",
       "      <td>Zimbabwe</td>\n",
       "      <td>21631.01</td>\n",
       "      <td>Sunflower-seed oil, crude</td>\n",
       "      <td>3800.0</td>\n",
       "      <td>4600.0</td>\n",
       "      <td>5200.0</td>\n",
       "      <td>5200.0</td>\n",
       "      <td>5200.0</td>\n",
       "      <td>2000.0</td>\n",
       "      <td>1400.0</td>\n",
       "      <td>1500.0</td>\n",
       "      <td>1800.0</td>\n",
       "      <td>1900.0</td>\n",
       "      <td>4400.0</td>\n",
       "      <td>NaN</td>\n",
       "    </tr>\n",
       "    <tr>\n",
       "      <th>4538</th>\n",
       "      <td>716</td>\n",
       "      <td>Zimbabwe</td>\n",
       "      <td>1234.0</td>\n",
       "      <td>Tomatoes</td>\n",
       "      <td>25000.0</td>\n",
       "      <td>22500.0</td>\n",
       "      <td>23500.0</td>\n",
       "      <td>23500.0</td>\n",
       "      <td>24271.13</td>\n",
       "      <td>25322.84</td>\n",
       "      <td>25318.39</td>\n",
       "      <td>25278.36</td>\n",
       "      <td>25306.53</td>\n",
       "      <td>25301.09</td>\n",
       "      <td>25295.33</td>\n",
       "      <td>25300.98</td>\n",
       "    </tr>\n",
       "    <tr>\n",
       "      <th>4539</th>\n",
       "      <td>716</td>\n",
       "      <td>Zimbabwe</td>\n",
       "      <td>111.0</td>\n",
       "      <td>Wheat</td>\n",
       "      <td>18000.0</td>\n",
       "      <td>23000.0</td>\n",
       "      <td>53231.78</td>\n",
       "      <td>50966.05</td>\n",
       "      <td>40000.0</td>\n",
       "      <td>45302.0</td>\n",
       "      <td>42008.0</td>\n",
       "      <td>38715.0</td>\n",
       "      <td>45000.0</td>\n",
       "      <td>94685.0</td>\n",
       "      <td>212530.0</td>\n",
       "      <td>337212.0</td>\n",
       "    </tr>\n",
       "    <tr>\n",
       "      <th>4540</th>\n",
       "      <td>716</td>\n",
       "      <td>Zimbabwe</td>\n",
       "      <td>24212.02</td>\n",
       "      <td>Wine</td>\n",
       "      <td>1750.0</td>\n",
       "      <td>1750.0</td>\n",
       "      <td>1750.0</td>\n",
       "      <td>1750.0</td>\n",
       "      <td>NaN</td>\n",
       "      <td>NaN</td>\n",
       "      <td>NaN</td>\n",
       "      <td>NaN</td>\n",
       "      <td>NaN</td>\n",
       "      <td>NaN</td>\n",
       "      <td>NaN</td>\n",
       "      <td>NaN</td>\n",
       "    </tr>\n",
       "  </tbody>\n",
       "</table>\n",
       "<p>4541 rows × 16 columns</p>\n",
       "</div>"
      ],
      "text/plain": [
       "     Area Code         Area Item Code                       Item       2010  \\\n",
       "0            4  Afghanistan    1341.0                     Apples    59850.0   \n",
       "1            4  Afghanistan     115.0                     Barley   437000.0   \n",
       "2            4  Afghanistan    1330.0                     Grapes   397000.0   \n",
       "3            4  Afghanistan     231.0   Hen eggs in shell, fresh   326880.0   \n",
       "4            4  Afghanistan     112.0               Maize (corn)   301000.0   \n",
       "...        ...          ...       ...                        ...        ...   \n",
       "4536       716     Zimbabwe    1802.0                 Sugar cane  2692000.0   \n",
       "4537       716     Zimbabwe  21631.01  Sunflower-seed oil, crude     3800.0   \n",
       "4538       716     Zimbabwe    1234.0                   Tomatoes    25000.0   \n",
       "4539       716     Zimbabwe     111.0                      Wheat    18000.0   \n",
       "4540       716     Zimbabwe  24212.02                       Wine     1750.0   \n",
       "\n",
       "           2011       2012       2013       2014       2015       2016  \\\n",
       "0       62041.0    70000.0    78597.0    89403.0    89733.0   140903.0   \n",
       "1      305900.0   504000.0   514000.0   521000.0   403000.0   301856.0   \n",
       "2      492464.0   590065.0   610570.0   744847.0   805072.0   874541.0   \n",
       "3      344200.0   360000.0   360000.0   370000.0   396660.0   397675.0   \n",
       "4      300120.0   310000.0   312000.0   316000.0   316000.0   311646.0   \n",
       "...         ...        ...        ...        ...        ...        ...   \n",
       "4536  3058000.0  3929056.0  3960000.0  3856000.0  3348000.0  3483000.0   \n",
       "4537     4600.0     5200.0     5200.0     5200.0     2000.0     1400.0   \n",
       "4538    22500.0    23500.0    23500.0   24271.13   25322.84   25318.39   \n",
       "4539    23000.0   53231.78   50966.05    40000.0    45302.0    42008.0   \n",
       "4540     1750.0     1750.0     1750.0        NaN        NaN        NaN   \n",
       "\n",
       "           2017       2018       2019       2020        2021  \n",
       "0      170443.0   217192.0   250324.0   270857.0   292586.58  \n",
       "1       94995.0    56781.0   123576.0   127757.0   122692.77  \n",
       "2      923831.0   984081.0  1112927.0   993382.0  1036547.62  \n",
       "3      400000.0   398112.0   440804.0   440782.0    444975.0  \n",
       "4      173912.0   106670.0   184671.0   271776.0    180000.0  \n",
       "...         ...        ...        ...        ...         ...  \n",
       "4536  3101000.0  3582994.0  3562000.0  3543771.0   3450000.0  \n",
       "4537     1500.0     1800.0     1900.0     4400.0         NaN  \n",
       "4538   25278.36   25306.53   25301.09   25295.33    25300.98  \n",
       "4539    38715.0    45000.0    94685.0   212530.0    337212.0  \n",
       "4540        NaN        NaN        NaN        NaN         NaN  \n",
       "\n",
       "[4541 rows x 16 columns]"
      ]
     },
     "execution_count": 202,
     "metadata": {},
     "output_type": "execute_result"
    }
   ],
   "source": [
    "df"
   ]
  }
 ],
 "metadata": {
  "kernelspec": {
   "display_name": "proy4",
   "language": "python",
   "name": "python3"
  },
  "language_info": {
   "codemirror_mode": {
    "name": "ipython",
    "version": 3
   },
   "file_extension": ".py",
   "mimetype": "text/x-python",
   "name": "python",
   "nbconvert_exporter": "python",
   "pygments_lexer": "ipython3",
   "version": "3.10.9"
  },
  "orig_nbformat": 4,
  "vscode": {
   "interpreter": {
    "hash": "b3dfe1283fda9364cc2362416e4bfe66337331c733e8ef7132f45b573e2561ec"
   }
  }
 },
 "nbformat": 4,
 "nbformat_minor": 2
}
