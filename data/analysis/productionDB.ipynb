{
 "cells": [
  {
   "attachments": {},
   "cell_type": "markdown",
   "metadata": {},
   "source": [
    "# ANALYSIS.\n",
    "## Production DB."
   ]
  },
  {
   "cell_type": "code",
   "execution_count": 6,
   "metadata": {},
   "outputs": [
    {
     "ename": "ModuleNotFoundError",
     "evalue": "No module named 'src'",
     "output_type": "error",
     "traceback": [
      "\u001b[1;31m---------------------------------------------------------------------------\u001b[0m",
      "\u001b[1;31mModuleNotFoundError\u001b[0m                       Traceback (most recent call last)",
      "Cell \u001b[1;32mIn[6], line 7\u001b[0m\n\u001b[0;32m      4\u001b[0m warnings\u001b[39m.\u001b[39mfilterwarnings(\u001b[39m\"\u001b[39m\u001b[39mignore\u001b[39m\u001b[39m\"\u001b[39m)\n\u001b[0;32m      6\u001b[0m \u001b[39mimport\u001b[39;00m \u001b[39mimportlib\u001b[39;00m\n\u001b[1;32m----> 7\u001b[0m \u001b[39mimport\u001b[39;00m \u001b[39msrc\u001b[39;00m\u001b[39m.\u001b[39;00m\u001b[39manalysis\u001b[39;00m \u001b[39mas\u001b[39;00m \u001b[39man\u001b[39;00m\n\u001b[0;32m      8\u001b[0m \u001b[39mimport\u001b[39;00m \u001b[39msys\u001b[39;00m \n\u001b[0;32m      9\u001b[0m an \u001b[39m=\u001b[39m sys\u001b[39m.\u001b[39mpath\u001b[39m.\u001b[39mappend(\u001b[39m\"\u001b[39m\u001b[39m\\\u001b[39m\u001b[39msrc\u001b[39m\u001b[39m\\\\\u001b[39;00m\u001b[39manalysis.py\u001b[39m\u001b[39m\"\u001b[39m)\n",
      "\u001b[1;31mModuleNotFoundError\u001b[0m: No module named 'src'"
     ]
    }
   ],
   "source": [
    "import pandas as pd\n",
    "import re\n",
    "import warnings\n",
    "warnings.filterwarnings(\"ignore\")\n",
    "\n",
    "import importlib\n",
    "import src.analysis as an\n",
    "import sys \n",
    "an = sys.path.append(\"\\src\\\\analysis.py\")"
   ]
  },
  {
   "attachments": {},
   "cell_type": "markdown",
   "metadata": {},
   "source": [
    "IMPORT quantity data set."
   ]
  },
  {
   "cell_type": "code",
   "execution_count": 256,
   "metadata": {},
   "outputs": [],
   "source": [
    "production = pd.read_csv(\"D:\\ironhack\\proyectos\\_proy4\\csv\\\\food_production\\\\production_quantity.csv\")"
   ]
  },
  {
   "attachments": {},
   "cell_type": "markdown",
   "metadata": {},
   "source": [
    "Clean Data Base"
   ]
  },
  {
   "cell_type": "code",
   "execution_count": 212,
   "metadata": {},
   "outputs": [],
   "source": [
    "# Drop columns.\n",
    "production.drop(columns=[\"Domain\", \"Domain Code\", \"Element Code\", \"Element\", \"Year Code\"],inplace=True)"
   ]
  },
  {
   "cell_type": "code",
   "execution_count": 213,
   "metadata": {},
   "outputs": [],
   "source": [
    "# Change names.\n",
    "production.rename(columns={\"Area Code (M49)\":\"Area Code\", \"Item Code (CPC)\": \"Item Code\"}, inplace= True)"
   ]
  },
  {
   "cell_type": "code",
   "execution_count": 215,
   "metadata": {},
   "outputs": [
    {
     "name": "stdout",
     "output_type": "stream",
     "text": [
      "{'Walnuts, in shell', 'Potatoes', 'Gooseberries', 'Hen eggs in shell, fresh', 'Beer of barley, malted', 'Cow peas, dry', 'Other citrus fruit, n.e.c.', 'Cocoa beans', 'Cassava, fresh', 'Maize (corn)', 'Soya beans', 'Edible roots and tubers with high starch or inulin content, n.e.c., fresh', 'Raspberries', 'Wine', 'Sugar cane', 'Blueberries', 'Raw hides and skins of sheep or lambs', 'Oats', 'Wheat', 'Onions and shallots, green', 'Tomatoes', 'Strawberries', 'Cranberries', 'Rice', 'Palm oil', 'Hazelnuts, in shell', 'Raw milk of cattle', 'Apples', 'Meat of pig with the bone, fresh or chilled', 'Cheese from whole cow milk', 'Chick peas, dry', 'Sunflower-seed oil, crude', 'Other pulses n.e.c.', 'Coffee, green', 'Meat of chickens, fresh or chilled', 'Olive oil', 'Soya bean oil', 'Barley', 'Other vegetables, fresh n.e.c.', 'Meat of cattle with the bone, fresh or chilled', 'Bananas', 'Rapeseed or canola oil, crude', 'Groundnuts, excluding shelled', 'Peas, dry', 'Peas, green'}\n"
     ]
    }
   ],
   "source": [
    "print(set(production[\"Item\"]))"
   ]
  },
  {
   "cell_type": "code",
   "execution_count": 216,
   "metadata": {},
   "outputs": [
    {
     "data": {
      "text/html": [
       "<div>\n",
       "<style scoped>\n",
       "    .dataframe tbody tr th:only-of-type {\n",
       "        vertical-align: middle;\n",
       "    }\n",
       "\n",
       "    .dataframe tbody tr th {\n",
       "        vertical-align: top;\n",
       "    }\n",
       "\n",
       "    .dataframe thead th {\n",
       "        text-align: right;\n",
       "    }\n",
       "</style>\n",
       "<table border=\"1\" class=\"dataframe\">\n",
       "  <thead>\n",
       "    <tr style=\"text-align: right;\">\n",
       "      <th></th>\n",
       "      <th>Area Code</th>\n",
       "      <th>Area</th>\n",
       "      <th>Item Code</th>\n",
       "      <th>Item</th>\n",
       "      <th>Year</th>\n",
       "      <th>Unit</th>\n",
       "      <th>Value</th>\n",
       "    </tr>\n",
       "  </thead>\n",
       "  <tbody>\n",
       "    <tr>\n",
       "      <th>52940</th>\n",
       "      <td>798</td>\n",
       "      <td>Tuvalu</td>\n",
       "      <td>21121.0</td>\n",
       "      <td>Meat of chickens, fresh or chilled</td>\n",
       "      <td>2013</td>\n",
       "      <td>tonnes</td>\n",
       "      <td>55.45</td>\n",
       "    </tr>\n",
       "  </tbody>\n",
       "</table>\n",
       "</div>"
      ],
      "text/plain": [
       "       Area Code    Area  Item Code                                Item  Year  \\\n",
       "52940        798  Tuvalu    21121.0  Meat of chickens, fresh or chilled  2013   \n",
       "\n",
       "         Unit  Value  \n",
       "52940  tonnes  55.45  "
      ]
     },
     "execution_count": 216,
     "metadata": {},
     "output_type": "execute_result"
    }
   ],
   "source": [
    "production.sample()"
   ]
  },
  {
   "cell_type": "code",
   "execution_count": 217,
   "metadata": {},
   "outputs": [],
   "source": [
    "def iterate_column_years (df, year):\n",
    "    # iterate 2010\n",
    "    x = {index:[row[0],row[1],row[2],row[3],row[6]] for index, row in df.iterrows() if row[4] == year}\n",
    "    df = pd.DataFrame.from_dict(x, orient=\"index\")\n",
    "    df.rename(columns= {0: \"Area Code\", 1:\"Area\", 2:\"Item Code\", 3:\"Item\", 4:year}, inplace = True)\n",
    "    df[\"Item\"] = df[\"Item\"].astype(object)\n",
    "    df[\"Area\"] = df[\"Area\"].astype(object)\n",
    "    df[year] = df[year].astype(object)\n",
    "    \n",
    "    return df.drop_duplicates(subset=['Area Code', 'Item Code'], keep='last')"
   ]
  },
  {
   "attachments": {},
   "cell_type": "markdown",
   "metadata": {},
   "source": [
    "Iteration throw each year and create column with year."
   ]
  },
  {
   "cell_type": "code",
   "execution_count": 218,
   "metadata": {},
   "outputs": [],
   "source": [
    "# iterate 2010\n",
    "df2010 = iterate_column_years (production, 2010)"
   ]
  },
  {
   "cell_type": "code",
   "execution_count": 219,
   "metadata": {},
   "outputs": [],
   "source": [
    "# iterate 2011\n",
    "df2011 = iterate_column_years (production, 2011)"
   ]
  },
  {
   "cell_type": "code",
   "execution_count": 220,
   "metadata": {},
   "outputs": [],
   "source": [
    "# iterate 2012\n",
    "df2012 = iterate_column_years (production, 2012)"
   ]
  },
  {
   "cell_type": "code",
   "execution_count": 221,
   "metadata": {},
   "outputs": [],
   "source": [
    "# iterate 2013\n",
    "df2013 = iterate_column_years (production, 2013)"
   ]
  },
  {
   "cell_type": "code",
   "execution_count": 222,
   "metadata": {},
   "outputs": [],
   "source": [
    "# iterate 2014\n",
    "df2014 = iterate_column_years (production, 2014)"
   ]
  },
  {
   "cell_type": "code",
   "execution_count": 223,
   "metadata": {},
   "outputs": [],
   "source": [
    "# iterate 2015\n",
    "df2015 = iterate_column_years (production, 2015)"
   ]
  },
  {
   "cell_type": "code",
   "execution_count": 224,
   "metadata": {},
   "outputs": [],
   "source": [
    "# iterate 2016\n",
    "df2016 = iterate_column_years (production, 2016)"
   ]
  },
  {
   "cell_type": "code",
   "execution_count": 225,
   "metadata": {},
   "outputs": [],
   "source": [
    "# iterate 2017\n",
    "df2017 = iterate_column_years (production, 2017)"
   ]
  },
  {
   "cell_type": "code",
   "execution_count": 226,
   "metadata": {},
   "outputs": [],
   "source": [
    "# iterate 2018\n",
    "df2018 = iterate_column_years (production, 2018)"
   ]
  },
  {
   "cell_type": "code",
   "execution_count": 227,
   "metadata": {},
   "outputs": [],
   "source": [
    "# iterate 2019\n",
    "df2019 = iterate_column_years (production, 2019)"
   ]
  },
  {
   "cell_type": "code",
   "execution_count": 228,
   "metadata": {},
   "outputs": [],
   "source": [
    "# iterate 2020\n",
    "df2020 = iterate_column_years (production, 2020)"
   ]
  },
  {
   "cell_type": "code",
   "execution_count": 229,
   "metadata": {},
   "outputs": [],
   "source": [
    "# iterate 2021\n",
    "df2021 = iterate_column_years (production, 2021)"
   ]
  },
  {
   "attachments": {},
   "cell_type": "markdown",
   "metadata": {},
   "source": [
    "Drop columns of production and duplicates, and change types."
   ]
  },
  {
   "cell_type": "code",
   "execution_count": 230,
   "metadata": {},
   "outputs": [],
   "source": [
    "def clean2_df (df):\n",
    "    df.drop(columns=[\"Year\", \"Value\", \"Unit\"],inplace=True)\n",
    "    df[\"Item Code\"] = df[\"Item Code\"].astype(object)\n",
    "    df[\"Area Code\"] = df[\"Area Code\"].astype(object)\n",
    "    # drop duplicates.\n",
    "    df.drop_duplicates(inplace=True)\n",
    "    return df"
   ]
  },
  {
   "cell_type": "code",
   "execution_count": 231,
   "metadata": {},
   "outputs": [
    {
     "data": {
      "text/html": [
       "<div>\n",
       "<style scoped>\n",
       "    .dataframe tbody tr th:only-of-type {\n",
       "        vertical-align: middle;\n",
       "    }\n",
       "\n",
       "    .dataframe tbody tr th {\n",
       "        vertical-align: top;\n",
       "    }\n",
       "\n",
       "    .dataframe thead th {\n",
       "        text-align: right;\n",
       "    }\n",
       "</style>\n",
       "<table border=\"1\" class=\"dataframe\">\n",
       "  <thead>\n",
       "    <tr style=\"text-align: right;\">\n",
       "      <th></th>\n",
       "      <th>Area Code</th>\n",
       "      <th>Area</th>\n",
       "      <th>Item Code</th>\n",
       "      <th>Item</th>\n",
       "    </tr>\n",
       "  </thead>\n",
       "  <tbody>\n",
       "    <tr>\n",
       "      <th>0</th>\n",
       "      <td>4</td>\n",
       "      <td>Afghanistan</td>\n",
       "      <td>1341.0</td>\n",
       "      <td>Apples</td>\n",
       "    </tr>\n",
       "    <tr>\n",
       "      <th>12</th>\n",
       "      <td>4</td>\n",
       "      <td>Afghanistan</td>\n",
       "      <td>115.0</td>\n",
       "      <td>Barley</td>\n",
       "    </tr>\n",
       "    <tr>\n",
       "      <th>24</th>\n",
       "      <td>4</td>\n",
       "      <td>Afghanistan</td>\n",
       "      <td>231.0</td>\n",
       "      <td>Hen eggs in shell, fresh</td>\n",
       "    </tr>\n",
       "    <tr>\n",
       "      <th>48</th>\n",
       "      <td>4</td>\n",
       "      <td>Afghanistan</td>\n",
       "      <td>112.0</td>\n",
       "      <td>Maize (corn)</td>\n",
       "    </tr>\n",
       "    <tr>\n",
       "      <th>60</th>\n",
       "      <td>4</td>\n",
       "      <td>Afghanistan</td>\n",
       "      <td>21111.01</td>\n",
       "      <td>Meat of cattle with the bone, fresh or chilled</td>\n",
       "    </tr>\n",
       "    <tr>\n",
       "      <th>...</th>\n",
       "      <td>...</td>\n",
       "      <td>...</td>\n",
       "      <td>...</td>\n",
       "      <td>...</td>\n",
       "    </tr>\n",
       "    <tr>\n",
       "      <th>57506</th>\n",
       "      <td>716</td>\n",
       "      <td>Zimbabwe</td>\n",
       "      <td>1802.0</td>\n",
       "      <td>Sugar cane</td>\n",
       "    </tr>\n",
       "    <tr>\n",
       "      <th>57518</th>\n",
       "      <td>716</td>\n",
       "      <td>Zimbabwe</td>\n",
       "      <td>21631.01</td>\n",
       "      <td>Sunflower-seed oil, crude</td>\n",
       "    </tr>\n",
       "    <tr>\n",
       "      <th>57529</th>\n",
       "      <td>716</td>\n",
       "      <td>Zimbabwe</td>\n",
       "      <td>1234.0</td>\n",
       "      <td>Tomatoes</td>\n",
       "    </tr>\n",
       "    <tr>\n",
       "      <th>57541</th>\n",
       "      <td>716</td>\n",
       "      <td>Zimbabwe</td>\n",
       "      <td>111.0</td>\n",
       "      <td>Wheat</td>\n",
       "    </tr>\n",
       "    <tr>\n",
       "      <th>57553</th>\n",
       "      <td>716</td>\n",
       "      <td>Zimbabwe</td>\n",
       "      <td>24212.02</td>\n",
       "      <td>Wine</td>\n",
       "    </tr>\n",
       "  </tbody>\n",
       "</table>\n",
       "<p>4843 rows × 4 columns</p>\n",
       "</div>"
      ],
      "text/plain": [
       "      Area Code         Area Item Code  \\\n",
       "0             4  Afghanistan    1341.0   \n",
       "12            4  Afghanistan     115.0   \n",
       "24            4  Afghanistan     231.0   \n",
       "48            4  Afghanistan     112.0   \n",
       "60            4  Afghanistan  21111.01   \n",
       "...         ...          ...       ...   \n",
       "57506       716     Zimbabwe    1802.0   \n",
       "57518       716     Zimbabwe  21631.01   \n",
       "57529       716     Zimbabwe    1234.0   \n",
       "57541       716     Zimbabwe     111.0   \n",
       "57553       716     Zimbabwe  24212.02   \n",
       "\n",
       "                                                 Item  \n",
       "0                                              Apples  \n",
       "12                                             Barley  \n",
       "24                           Hen eggs in shell, fresh  \n",
       "48                                       Maize (corn)  \n",
       "60     Meat of cattle with the bone, fresh or chilled  \n",
       "...                                               ...  \n",
       "57506                                      Sugar cane  \n",
       "57518                       Sunflower-seed oil, crude  \n",
       "57529                                        Tomatoes  \n",
       "57541                                           Wheat  \n",
       "57553                                            Wine  \n",
       "\n",
       "[4843 rows x 4 columns]"
      ]
     },
     "execution_count": 231,
     "metadata": {},
     "output_type": "execute_result"
    }
   ],
   "source": [
    "clean2_df (production)"
   ]
  },
  {
   "attachments": {},
   "cell_type": "markdown",
   "metadata": {},
   "source": [
    "Merge all data frames to 1."
   ]
  },
  {
   "cell_type": "code",
   "execution_count": 234,
   "metadata": {},
   "outputs": [],
   "source": [
    "def merging_production_area (df, df2010, df2011, df2012, df2013, df2014, df2015, df2016, df2017, df2018, df2019, df2020, df2021):\n",
    "    z = pd.merge(df, df2010, how=\"left\").merge(df2011, how=\"left\").merge(df2012, how=\"left\")\n",
    "    z = pd.merge(z, df2013, how=\"left\").merge(df2014, how=\"left\").merge(df2015, how=\"left\")\n",
    "    z = pd.merge(z, df2016, how=\"left\").merge(df2017, how=\"left\").merge(df2018, how=\"left\")        \n",
    "    z = pd.merge(z, df2019, how=\"left\").merge(df2020, how=\"left\").merge(df2021, how=\"left\")  \n",
    "    return z"
   ]
  },
  {
   "cell_type": "code",
   "execution_count": 235,
   "metadata": {},
   "outputs": [],
   "source": [
    "df = merging_production (production, df2010, df2011, df2012, df2013, df2014, df2015, df2016, df2017, df2018, df2019, df2020, df2021)"
   ]
  },
  {
   "cell_type": "code",
   "execution_count": 254,
   "metadata": {},
   "outputs": [],
   "source": [
    "def replace_items (df):\n",
    "    import re\n",
    "    # Clean with regex column \"Items\" to match other Data Frames.\n",
    "    df[\"Item\"] = df[\"Item\"].str.replace(\"n\\.e\\.c\\.\", \"\", regex=True)\n",
    "    df[\"Item\"] = df[\"Item\"].str.replace(\".*Other berries and fruits of the genus vaccinium.*\", 'Berries & Grapes', regex=True)\n",
    "    df[\"Item\"] = df[\"Item\"].str.replace('.*Onions and shallots, green*.', 'Onions & Leeks', regex=True)\n",
    "    df[\"Item\"] = df[\"Item\"].str.replace(\".*Beer of barley, malted*.\", 'Beer', regex=True)\n",
    "    df[\"Item\"] = df[\"Item\"].str.replace(\".*Barley*.\", 'Beer', regex=True)\n",
    "    df[\"Item\"] = df[\"Item\"].str.replace('.*Brazil nuts, in shell*.', \"Nuts\", regex=True)\n",
    "    df[\"Item\"] = df[\"Item\"].str.replace(\".*Cocoa beans*.\", \"Chocolate\", regex=True)\n",
    "    df[\"Item\"] = df[\"Item\"].str.replace('.*Coffee, green*.', \"Coffee\", regex=True)\n",
    "    df[\"Item\"] = df[\"Item\"].str.replace('.*Groundnuts, excluding shelled*.', \"Groundnuts\", regex=True)\n",
    "    df[\"Item\"] = df[\"Item\"].str.replace('.*Edible roots and tubers with high starch or inulin content, , fresh*.', 'Root Vegetables', regex=True)\n",
    "    df[\"Item\"] = df[\"Item\"].str.replace('.*Oats*.', \"Oatmeal\", regex=True)\n",
    "    df[\"Item\"] = df[\"Item\"].str.replace('.*Other citrus fruit,*.', 'Citrus Fruit', regex=True)\n",
    "    df[\"Item\"] = df[\"Item\"].str.replace('.*Other fruits*.', 'Other Fruit', regex=True)\n",
    "    df[\"Item\"] = df[\"Item\"].str.replace('.*Meat of pig with the bome, fresh or chilled', \"Pig\", regex=True)\n",
    "    df[\"Item\"] = df[\"Item\"].str.replace('.*Meat of cattle with the bone, fresh or chilled', 'Beef', regex=True)\n",
    "    df[\"Item\"] = df[\"Item\"].str.replace('.*Walnuts, in shell*.', 'Nuts', regex=True)\n",
    "    df[\"Item\"] = df[\"Item\"].str.replace('.*Hazelnuts, in shell*.', 'Nuts', regex=True)\n",
    "    df[\"Item\"] = df[\"Item\"].str.replace('.*Peas, dry*.', 'Peas', regex=True)\n",
    "    df[\"Item\"] = df[\"Item\"].str.replace('.*Sugar beet*.', 'Beet Sugar', regex=True)\n",
    "    df[\"Item\"] = df[\"Item\"].str.replace('.*Soya beans*.', 'Beet Sugar', regex=True)\n",
    "    df[\"Item\"] = df[\"Item\"].str.replace('.*Other vegetables, fresh *.', 'Other Vegetables', regex=True)\n",
    "    df[\"Item\"] = df[\"Item\"].str.replace('.*Hen eggs in shell, fresh*.', 'Eggs', regex=True)\n",
    "    df[\"Item\"] = df[\"Item\"].str.replace('.*Gooseberries*.', 'Berries & Grapes', regex=True)\n",
    "    df[\"Item\"] = df[\"Item\"].str.replace('.*Raw hides and skins of sheep or lambs*.', 'Lamb & Mutton', regex=True)\n",
    "    df[\"Item\"] = df[\"Item\"].str.replace('.*Strawberries*.', 'Berries & Grapes', regex=True)\n",
    "    df[\"Item\"] = df[\"Item\"].str.replace('.*Cranberries*.', 'Berries & Grapes', regex=True)\n",
    "    df[\"Item\"] = df[\"Item\"].str.replace('.*Raw milk of cattle*.', 'Milk', regex=True)\n",
    "    df[\"Item\"] = df[\"Item\"].str.replace('.*Cassava, fresh*.', 'Cassava', regex=True)\n",
    "    df[\"Item\"] = df[\"Item\"].str.replace('.*Meat of pig with the bone, fresh or chilled*.', 'Pig Meat', regex=True)\n",
    "    df[\"Item\"] = df[\"Item\"].str.replace('.*Chick peas, dry*.', 'Peas', regex=True)\n",
    "    df[\"Item\"] = df[\"Item\"].str.replace('.*Sunflower-seed oil, crude*.', 'Sunflower Oil', regex=True)\n",
    "    df[\"Item\"] = df[\"Item\"].str.replace('.*Meat of chickens, fresh or chilled*.', 'Poultry Meat', regex=True)\n",
    "    df[\"Item\"] = df[\"Item\"].str.replace('.*Rapeseed or canola oil, crude*.', 'Rapeseed Oil', regex=True)\n",
    "    df[\"Item\"] = df[\"Item\"].str.replace('.*Peas, green*.', 'Peas', regex=True)\n",
    "    df[\"Item\"] = df[\"Item\"].str.replace('.*Cow peas, dry*.', 'Peas', regex=True)\n",
    "    df[\"Item\"] = df[\"Item\"].str.replace('.*Raspberries*.', 'Berries & Grapes', regex=True)\n",
    "    df[\"Item\"] = df[\"Item\"].str.replace('.*Blueberries*.', 'Berries & Grapes', regex=True)\n",
    "    df[\"Item\"] = df[\"Item\"].str.replace('.*Cheese from whole cow milk*.', 'Cheese', regex=True)\n",
    "    df[\"Item\"] = df[\"Item\"].str.title()\n",
    "    df[\"Item\"] = df[\"Item\"].str.strip()\n",
    "    return df"
   ]
  },
  {
   "cell_type": "code",
   "execution_count": 255,
   "metadata": {},
   "outputs": [
    {
     "name": "stdout",
     "output_type": "stream",
     "text": [
      "{'Maize (Corn)', 'Potatoes', 'Other Vegetables', 'Cassava', 'Beet Sugaroil', 'Berries & Grapes', 'Lamb & Mutton', 'Palm Oil', 'Citrus Fruit', 'Beef', 'Onions & Leeks', 'Nuts', 'Beet Sugar', 'Wine', 'Pig Meat', 'Peas', 'Tomatoes', 'Wheat', 'Strawberries', 'Rice', 'Oatmealealealeal', 'Root Vegetables', 'Apples', 'Sunflower Oil', 'Groundnuts', 'Rapeseed Oil', 'Coffee', 'Other Pulses ', 'Chocolate', 'Cheese', 'Eggs', 'Poultry Meat', 'Milk', 'Sugar Cane', 'Bananas', 'Olive Oil', 'Beer'}\n"
     ]
    }
   ],
   "source": [
    "print(set(df[\"Item\"]))"
   ]
  },
  {
   "attachments": {},
   "cell_type": "markdown",
   "metadata": {},
   "source": [
    "Export to csv."
   ]
  },
  {
   "cell_type": "code",
   "execution_count": 261,
   "metadata": {},
   "outputs": [],
   "source": [
    "df.to_csv(\"D:\\ironhack\\proyectos\\_proy4\\csv\\csv_from_python\\production_quantity.csv\", index=False)"
   ]
  },
  {
   "cell_type": "code",
   "execution_count": null,
   "metadata": {},
   "outputs": [],
   "source": []
  }
 ],
 "metadata": {
  "kernelspec": {
   "display_name": "proy4",
   "language": "python",
   "name": "python3"
  },
  "language_info": {
   "codemirror_mode": {
    "name": "ipython",
    "version": 3
   },
   "file_extension": ".py",
   "mimetype": "text/x-python",
   "name": "python",
   "nbconvert_exporter": "python",
   "pygments_lexer": "ipython3",
   "version": "3.10.9"
  },
  "orig_nbformat": 4,
  "vscode": {
   "interpreter": {
    "hash": "b3dfe1283fda9364cc2362416e4bfe66337331c733e8ef7132f45b573e2561ec"
   }
  }
 },
 "nbformat": 4,
 "nbformat_minor": 2
}
