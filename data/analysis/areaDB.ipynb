{
 "cells": [
  {
   "attachments": {},
   "cell_type": "markdown",
   "metadata": {},
   "source": [
    "# ANALYSIS.\n",
    "## Area DB."
   ]
  },
  {
   "cell_type": "code",
   "execution_count": 122,
   "metadata": {},
   "outputs": [
    {
     "ename": "ModuleNotFoundError",
     "evalue": "No module named 'src'",
     "output_type": "error",
     "traceback": [
      "\u001b[1;31m---------------------------------------------------------------------------\u001b[0m",
      "\u001b[1;31mModuleNotFoundError\u001b[0m                       Traceback (most recent call last)",
      "Cell \u001b[1;32mIn[122], line 7\u001b[0m\n\u001b[0;32m      4\u001b[0m warnings\u001b[39m.\u001b[39mfilterwarnings(\u001b[39m\"\u001b[39m\u001b[39mignore\u001b[39m\u001b[39m\"\u001b[39m)\n\u001b[0;32m      6\u001b[0m \u001b[39mimport\u001b[39;00m \u001b[39mimportlib\u001b[39;00m\n\u001b[1;32m----> 7\u001b[0m \u001b[39mimport\u001b[39;00m \u001b[39msrc\u001b[39;00m\u001b[39m.\u001b[39;00m\u001b[39manalysis\u001b[39;00m \u001b[39mas\u001b[39;00m \u001b[39man\u001b[39;00m\n\u001b[0;32m      8\u001b[0m \u001b[39mimport\u001b[39;00m \u001b[39msys\u001b[39;00m \n\u001b[0;32m      9\u001b[0m an \u001b[39m=\u001b[39m sys\u001b[39m.\u001b[39mpath\u001b[39m.\u001b[39mappend(\u001b[39m\"\u001b[39m\u001b[39m\\\u001b[39m\u001b[39msrc\u001b[39m\u001b[39m\\\\\u001b[39;00m\u001b[39manalysis.py\u001b[39m\u001b[39m\"\u001b[39m)\n",
      "\u001b[1;31mModuleNotFoundError\u001b[0m: No module named 'src'"
     ]
    }
   ],
   "source": [
    "import pandas as pd\n",
    "import regex\n",
    "import warnings\n",
    "warnings.filterwarnings(\"ignore\")\n",
    "\n",
    "import importlib\n",
    "import src.analysis as an\n",
    "import sys \n",
    "an = sys.path.append(\"\\src\\\\analysis.py\")"
   ]
  },
  {
   "attachments": {},
   "cell_type": "markdown",
   "metadata": {},
   "source": [
    "IMPORT Area data set."
   ]
  },
  {
   "cell_type": "code",
   "execution_count": 189,
   "metadata": {},
   "outputs": [
    {
     "data": {
      "text/html": [
       "<div>\n",
       "<style scoped>\n",
       "    .dataframe tbody tr th:only-of-type {\n",
       "        vertical-align: middle;\n",
       "    }\n",
       "\n",
       "    .dataframe tbody tr th {\n",
       "        vertical-align: top;\n",
       "    }\n",
       "\n",
       "    .dataframe thead th {\n",
       "        text-align: right;\n",
       "    }\n",
       "</style>\n",
       "<table border=\"1\" class=\"dataframe\">\n",
       "  <thead>\n",
       "    <tr style=\"text-align: right;\">\n",
       "      <th></th>\n",
       "      <th>Domain Code</th>\n",
       "      <th>Domain</th>\n",
       "      <th>Area Code (M49)</th>\n",
       "      <th>Area</th>\n",
       "      <th>Element Code</th>\n",
       "      <th>Element</th>\n",
       "      <th>Item Code (CPC)</th>\n",
       "      <th>Item</th>\n",
       "      <th>Year Code</th>\n",
       "      <th>Year</th>\n",
       "      <th>Unit</th>\n",
       "      <th>Value</th>\n",
       "    </tr>\n",
       "  </thead>\n",
       "  <tbody>\n",
       "    <tr>\n",
       "      <th>5852</th>\n",
       "      <td>QCL</td>\n",
       "      <td>Crops and livestock products</td>\n",
       "      <td>159</td>\n",
       "      <td>China</td>\n",
       "      <td>5312</td>\n",
       "      <td>Area harvested</td>\n",
       "      <td>1599.1</td>\n",
       "      <td>Edible roots and tubers with high starch or in...</td>\n",
       "      <td>2015</td>\n",
       "      <td>2015</td>\n",
       "      <td>ha</td>\n",
       "      <td>3500</td>\n",
       "    </tr>\n",
       "  </tbody>\n",
       "</table>\n",
       "</div>"
      ],
      "text/plain": [
       "     Domain Code                        Domain  Area Code (M49)   Area  \\\n",
       "5852         QCL  Crops and livestock products              159  China   \n",
       "\n",
       "      Element Code         Element  Item Code (CPC)  \\\n",
       "5852          5312  Area harvested           1599.1   \n",
       "\n",
       "                                                   Item  Year Code  Year Unit  \\\n",
       "5852  Edible roots and tubers with high starch or in...       2015  2015   ha   \n",
       "\n",
       "      Value  \n",
       "5852   3500  "
      ]
     },
     "execution_count": 189,
     "metadata": {},
     "output_type": "execute_result"
    }
   ],
   "source": [
    "area = pd.read_csv(\"D:\\ironhack\\proyectos\\_proy4\\csv\\\\food_production\\\\area_harvested.csv\")\n",
    "area.sample()"
   ]
  },
  {
   "cell_type": "code",
   "execution_count": 157,
   "metadata": {},
   "outputs": [
    {
     "name": "stdout",
     "output_type": "stream",
     "text": [
      "{'Wheat', 'Other vegetables, fresh n.e.c.', 'Barley', 'Onions and shallots, green', 'Potatoes', 'Gooseberries', 'Hazelnuts, in shell', 'Strawberries', 'Peas, dry', 'Cassava, fresh', 'Soya beans', 'Blueberries', 'Other pulses n.e.c.', 'Rice', 'Bananas', 'Other citrus fruit, n.e.c.', 'Peas, green', 'Cocoa beans', 'Tomatoes', 'Sugar cane', 'Chick peas, dry', 'Groundnuts, excluding shelled', 'Oats', 'Raspberries', 'Walnuts, in shell', 'Cranberries', 'Cow peas, dry', 'Edible roots and tubers with high starch or inulin content, n.e.c., fresh', 'Maize (corn)', 'Coffee, green', 'Apples'}\n"
     ]
    }
   ],
   "source": [
    "print(set(area[\"Item\"]))"
   ]
  },
  {
   "attachments": {},
   "cell_type": "markdown",
   "metadata": {},
   "source": [
    "Clean Data Base."
   ]
  },
  {
   "cell_type": "code",
   "execution_count": 158,
   "metadata": {},
   "outputs": [],
   "source": [
    "# Drop columns.\n",
    "area.drop(columns=[\"Domain\", \"Domain Code\", \"Element Code\", \"Element\", \"Year Code\"],inplace=True)"
   ]
  },
  {
   "cell_type": "code",
   "execution_count": 159,
   "metadata": {},
   "outputs": [],
   "source": [
    "# Change names.\n",
    "area.rename(columns={\"Area Code (M49)\":\"Area Code\", \"Item Code (CPC)\": \"Item Code\"}, inplace= True)"
   ]
  },
  {
   "cell_type": "code",
   "execution_count": 160,
   "metadata": {},
   "outputs": [
    {
     "data": {
      "text/html": [
       "<div>\n",
       "<style scoped>\n",
       "    .dataframe tbody tr th:only-of-type {\n",
       "        vertical-align: middle;\n",
       "    }\n",
       "\n",
       "    .dataframe tbody tr th {\n",
       "        vertical-align: top;\n",
       "    }\n",
       "\n",
       "    .dataframe thead th {\n",
       "        text-align: right;\n",
       "    }\n",
       "</style>\n",
       "<table border=\"1\" class=\"dataframe\">\n",
       "  <thead>\n",
       "    <tr style=\"text-align: right;\">\n",
       "      <th></th>\n",
       "      <th>Area Code</th>\n",
       "      <th>Area</th>\n",
       "      <th>Item Code</th>\n",
       "      <th>Item</th>\n",
       "      <th>Year</th>\n",
       "      <th>Unit</th>\n",
       "      <th>Value</th>\n",
       "    </tr>\n",
       "  </thead>\n",
       "  <tbody>\n",
       "    <tr>\n",
       "      <th>0</th>\n",
       "      <td>4</td>\n",
       "      <td>Afghanistan</td>\n",
       "      <td>1341.0</td>\n",
       "      <td>Apples</td>\n",
       "      <td>2010</td>\n",
       "      <td>ha</td>\n",
       "      <td>8550</td>\n",
       "    </tr>\n",
       "    <tr>\n",
       "      <th>1</th>\n",
       "      <td>4</td>\n",
       "      <td>Afghanistan</td>\n",
       "      <td>1341.0</td>\n",
       "      <td>Apples</td>\n",
       "      <td>2011</td>\n",
       "      <td>ha</td>\n",
       "      <td>8863</td>\n",
       "    </tr>\n",
       "    <tr>\n",
       "      <th>2</th>\n",
       "      <td>4</td>\n",
       "      <td>Afghanistan</td>\n",
       "      <td>1341.0</td>\n",
       "      <td>Apples</td>\n",
       "      <td>2012</td>\n",
       "      <td>ha</td>\n",
       "      <td>9148</td>\n",
       "    </tr>\n",
       "    <tr>\n",
       "      <th>3</th>\n",
       "      <td>4</td>\n",
       "      <td>Afghanistan</td>\n",
       "      <td>1341.0</td>\n",
       "      <td>Apples</td>\n",
       "      <td>2013</td>\n",
       "      <td>ha</td>\n",
       "      <td>10341</td>\n",
       "    </tr>\n",
       "    <tr>\n",
       "      <th>4</th>\n",
       "      <td>4</td>\n",
       "      <td>Afghanistan</td>\n",
       "      <td>1341.0</td>\n",
       "      <td>Apples</td>\n",
       "      <td>2014</td>\n",
       "      <td>ha</td>\n",
       "      <td>12247</td>\n",
       "    </tr>\n",
       "    <tr>\n",
       "      <th>...</th>\n",
       "      <td>...</td>\n",
       "      <td>...</td>\n",
       "      <td>...</td>\n",
       "      <td>...</td>\n",
       "      <td>...</td>\n",
       "      <td>...</td>\n",
       "      <td>...</td>\n",
       "    </tr>\n",
       "    <tr>\n",
       "      <th>34355</th>\n",
       "      <td>716</td>\n",
       "      <td>Zimbabwe</td>\n",
       "      <td>111.0</td>\n",
       "      <td>Wheat</td>\n",
       "      <td>2017</td>\n",
       "      <td>ha</td>\n",
       "      <td>22070</td>\n",
       "    </tr>\n",
       "    <tr>\n",
       "      <th>34356</th>\n",
       "      <td>716</td>\n",
       "      <td>Zimbabwe</td>\n",
       "      <td>111.0</td>\n",
       "      <td>Wheat</td>\n",
       "      <td>2018</td>\n",
       "      <td>ha</td>\n",
       "      <td>16700</td>\n",
       "    </tr>\n",
       "    <tr>\n",
       "      <th>34357</th>\n",
       "      <td>716</td>\n",
       "      <td>Zimbabwe</td>\n",
       "      <td>111.0</td>\n",
       "      <td>Wheat</td>\n",
       "      <td>2019</td>\n",
       "      <td>ha</td>\n",
       "      <td>24186</td>\n",
       "    </tr>\n",
       "    <tr>\n",
       "      <th>34358</th>\n",
       "      <td>716</td>\n",
       "      <td>Zimbabwe</td>\n",
       "      <td>111.0</td>\n",
       "      <td>Wheat</td>\n",
       "      <td>2020</td>\n",
       "      <td>ha</td>\n",
       "      <td>44466</td>\n",
       "    </tr>\n",
       "    <tr>\n",
       "      <th>34359</th>\n",
       "      <td>716</td>\n",
       "      <td>Zimbabwe</td>\n",
       "      <td>111.0</td>\n",
       "      <td>Wheat</td>\n",
       "      <td>2021</td>\n",
       "      <td>ha</td>\n",
       "      <td>66434</td>\n",
       "    </tr>\n",
       "  </tbody>\n",
       "</table>\n",
       "<p>34360 rows × 7 columns</p>\n",
       "</div>"
      ],
      "text/plain": [
       "       Area Code         Area  Item Code    Item  Year Unit  Value\n",
       "0              4  Afghanistan     1341.0  Apples  2010   ha   8550\n",
       "1              4  Afghanistan     1341.0  Apples  2011   ha   8863\n",
       "2              4  Afghanistan     1341.0  Apples  2012   ha   9148\n",
       "3              4  Afghanistan     1341.0  Apples  2013   ha  10341\n",
       "4              4  Afghanistan     1341.0  Apples  2014   ha  12247\n",
       "...          ...          ...        ...     ...   ...  ...    ...\n",
       "34355        716     Zimbabwe      111.0   Wheat  2017   ha  22070\n",
       "34356        716     Zimbabwe      111.0   Wheat  2018   ha  16700\n",
       "34357        716     Zimbabwe      111.0   Wheat  2019   ha  24186\n",
       "34358        716     Zimbabwe      111.0   Wheat  2020   ha  44466\n",
       "34359        716     Zimbabwe      111.0   Wheat  2021   ha  66434\n",
       "\n",
       "[34360 rows x 7 columns]"
      ]
     },
     "execution_count": 160,
     "metadata": {},
     "output_type": "execute_result"
    }
   ],
   "source": [
    "area"
   ]
  },
  {
   "cell_type": "code",
   "execution_count": 161,
   "metadata": {},
   "outputs": [],
   "source": [
    "def iterate_column_years (year):\n",
    "    # iterate 2010\n",
    "    x = {index:[row[0],row[1],row[2],row[3],row[6]] for index, row in area.iterrows() if row[4] == year}\n",
    "    df = pd.DataFrame.from_dict(x, orient=\"index\")\n",
    "    df.rename(columns= {0: \"Area Code\", 1:\"Area\", 2:\"Item Code\", 3:\"Item\", 4:year}, inplace = True)\n",
    "    df[\"Item\"] = df[\"Item\"].astype(object)\n",
    "    df[\"Area\"] = df[\"Area\"].astype(object)\n",
    "    df[year] = df[year].astype(object)\n",
    "    \n",
    "    return df.drop_duplicates(subset=['Area Code', 'Item Code'], keep='last')"
   ]
  },
  {
   "attachments": {},
   "cell_type": "markdown",
   "metadata": {},
   "source": [
    "Iteration throw each year and create column with year."
   ]
  },
  {
   "cell_type": "code",
   "execution_count": 162,
   "metadata": {},
   "outputs": [],
   "source": [
    "# iterate 2010\n",
    "df2010 = iterate_column_years (2010)"
   ]
  },
  {
   "cell_type": "code",
   "execution_count": 163,
   "metadata": {},
   "outputs": [],
   "source": [
    "# iterate 2011\n",
    "df2011 = iterate_column_years (2011)"
   ]
  },
  {
   "cell_type": "code",
   "execution_count": 164,
   "metadata": {},
   "outputs": [],
   "source": [
    "# iterate 2012\n",
    "df2012 = iterate_column_years (2012)"
   ]
  },
  {
   "cell_type": "code",
   "execution_count": 165,
   "metadata": {},
   "outputs": [],
   "source": [
    "# iterate 2013\n",
    "df2013 = iterate_column_years (2013)"
   ]
  },
  {
   "cell_type": "code",
   "execution_count": 166,
   "metadata": {},
   "outputs": [],
   "source": [
    "# iterate 2014\n",
    "df2014 = iterate_column_years (2014)"
   ]
  },
  {
   "cell_type": "code",
   "execution_count": 167,
   "metadata": {},
   "outputs": [],
   "source": [
    "# iterate 2015\n",
    "df2015 = iterate_column_years (2015)"
   ]
  },
  {
   "cell_type": "code",
   "execution_count": 168,
   "metadata": {},
   "outputs": [],
   "source": [
    "# iterate 2016\n",
    "df2016 = iterate_column_years (2016)"
   ]
  },
  {
   "cell_type": "code",
   "execution_count": 169,
   "metadata": {},
   "outputs": [],
   "source": [
    "# iterate 2017\n",
    "df2017 = iterate_column_years (2017)"
   ]
  },
  {
   "cell_type": "code",
   "execution_count": 170,
   "metadata": {},
   "outputs": [],
   "source": [
    "# iterate 2018\n",
    "df2018 = iterate_column_years (2018)"
   ]
  },
  {
   "cell_type": "code",
   "execution_count": 171,
   "metadata": {},
   "outputs": [],
   "source": [
    "# iterate 2019\n",
    "df2019 = iterate_column_years (2019)"
   ]
  },
  {
   "cell_type": "code",
   "execution_count": 172,
   "metadata": {},
   "outputs": [],
   "source": [
    "# iterate 2020\n",
    "df2020 = iterate_column_years (2020)"
   ]
  },
  {
   "cell_type": "code",
   "execution_count": 173,
   "metadata": {},
   "outputs": [],
   "source": [
    "# iterate 2021\n",
    "df2021 = iterate_column_years (2021)"
   ]
  },
  {
   "attachments": {},
   "cell_type": "markdown",
   "metadata": {},
   "source": [
    "Drop columns of production and duplicates, and change types."
   ]
  },
  {
   "cell_type": "code",
   "execution_count": 174,
   "metadata": {},
   "outputs": [],
   "source": [
    "def clean2_df (df):\n",
    "    df.drop(columns=[\"Year\", \"Value\", \"Unit\"],inplace=True)\n",
    "    df[\"Item Code\"] = df[\"Item Code\"].astype(object)\n",
    "    df[\"Area Code\"] = df[\"Area Code\"].astype(object)\n",
    "    # drop duplicates.\n",
    "    df.drop_duplicates(inplace=True)\n",
    "    return df"
   ]
  },
  {
   "cell_type": "code",
   "execution_count": 175,
   "metadata": {},
   "outputs": [],
   "source": [
    "area = clean2_df (area)"
   ]
  },
  {
   "attachments": {},
   "cell_type": "markdown",
   "metadata": {},
   "source": [
    "Merge all data frames to 1."
   ]
  },
  {
   "cell_type": "code",
   "execution_count": 176,
   "metadata": {},
   "outputs": [],
   "source": [
    "def merging_production_area (df, df2010, df2011, df2012, df2013, df2014, df2015, df2016, df2017, df2018, df2019, df2020, df2021):\n",
    "    z = pd.merge(df, df2010, how=\"left\").merge(df2011, how=\"left\").merge(df2012, how=\"left\")\n",
    "    z = pd.merge(z, df2013, how=\"left\").merge(df2014, how=\"left\").merge(df2015, how=\"left\")\n",
    "    z = pd.merge(z, df2016, how=\"left\").merge(df2017, how=\"left\").merge(df2018, how=\"left\")        \n",
    "    z = pd.merge(z, df2019, how=\"left\").merge(df2020, how=\"left\").merge(df2021, how=\"left\")  \n",
    "    return z"
   ]
  },
  {
   "cell_type": "code",
   "execution_count": 177,
   "metadata": {},
   "outputs": [],
   "source": [
    "df = merging_production (area, df2010, df2011, df2012, df2013, df2014, df2015, df2016, df2017, df2018, df2019, df2020, df2021)"
   ]
  },
  {
   "cell_type": "code",
   "execution_count": 178,
   "metadata": {},
   "outputs": [
    {
     "data": {
      "text/html": [
       "<div>\n",
       "<style scoped>\n",
       "    .dataframe tbody tr th:only-of-type {\n",
       "        vertical-align: middle;\n",
       "    }\n",
       "\n",
       "    .dataframe tbody tr th {\n",
       "        vertical-align: top;\n",
       "    }\n",
       "\n",
       "    .dataframe thead th {\n",
       "        text-align: right;\n",
       "    }\n",
       "</style>\n",
       "<table border=\"1\" class=\"dataframe\">\n",
       "  <thead>\n",
       "    <tr style=\"text-align: right;\">\n",
       "      <th></th>\n",
       "      <th>Area Code</th>\n",
       "      <th>Area</th>\n",
       "      <th>Item Code</th>\n",
       "      <th>Item</th>\n",
       "      <th>2010</th>\n",
       "      <th>2011</th>\n",
       "      <th>2012</th>\n",
       "      <th>2013</th>\n",
       "      <th>2014</th>\n",
       "      <th>2015</th>\n",
       "      <th>2016</th>\n",
       "      <th>2017</th>\n",
       "      <th>2018</th>\n",
       "      <th>2019</th>\n",
       "      <th>2020</th>\n",
       "      <th>2021</th>\n",
       "    </tr>\n",
       "  </thead>\n",
       "  <tbody>\n",
       "    <tr>\n",
       "      <th>0</th>\n",
       "      <td>4</td>\n",
       "      <td>Afghanistan</td>\n",
       "      <td>1341.0</td>\n",
       "      <td>Apples</td>\n",
       "      <td>8550</td>\n",
       "      <td>8863</td>\n",
       "      <td>9148</td>\n",
       "      <td>10341</td>\n",
       "      <td>12247</td>\n",
       "      <td>13038</td>\n",
       "      <td>19365</td>\n",
       "      <td>26847</td>\n",
       "      <td>28381</td>\n",
       "      <td>27559</td>\n",
       "      <td>25643</td>\n",
       "      <td>26540</td>\n",
       "    </tr>\n",
       "    <tr>\n",
       "      <th>1</th>\n",
       "      <td>4</td>\n",
       "      <td>Afghanistan</td>\n",
       "      <td>115.0</td>\n",
       "      <td>Barley</td>\n",
       "      <td>212000</td>\n",
       "      <td>190000</td>\n",
       "      <td>280000</td>\n",
       "      <td>278000</td>\n",
       "      <td>342472</td>\n",
       "      <td>282000</td>\n",
       "      <td>219208</td>\n",
       "      <td>68179</td>\n",
       "      <td>84147</td>\n",
       "      <td>84070</td>\n",
       "      <td>86099</td>\n",
       "      <td>84072</td>\n",
       "    </tr>\n",
       "    <tr>\n",
       "      <th>2</th>\n",
       "      <td>4</td>\n",
       "      <td>Afghanistan</td>\n",
       "      <td>112.0</td>\n",
       "      <td>Maize (corn)</td>\n",
       "      <td>183000</td>\n",
       "      <td>183000</td>\n",
       "      <td>141000</td>\n",
       "      <td>142000</td>\n",
       "      <td>127000</td>\n",
       "      <td>147273</td>\n",
       "      <td>151900</td>\n",
       "      <td>134225</td>\n",
       "      <td>72433</td>\n",
       "      <td>94910</td>\n",
       "      <td>140498</td>\n",
       "      <td>92144</td>\n",
       "    </tr>\n",
       "    <tr>\n",
       "      <th>3</th>\n",
       "      <td>4</td>\n",
       "      <td>Afghanistan</td>\n",
       "      <td>1329.0</td>\n",
       "      <td>Other citrus fruit, n.e.c.</td>\n",
       "      <td>200</td>\n",
       "      <td>200</td>\n",
       "      <td>200</td>\n",
       "      <td>300</td>\n",
       "      <td>300</td>\n",
       "      <td>300</td>\n",
       "      <td>1662</td>\n",
       "      <td>1643</td>\n",
       "      <td>1700</td>\n",
       "      <td>3391</td>\n",
       "      <td>449</td>\n",
       "      <td>1403</td>\n",
       "    </tr>\n",
       "    <tr>\n",
       "      <th>4</th>\n",
       "      <td>4</td>\n",
       "      <td>Afghanistan</td>\n",
       "      <td>1709.9</td>\n",
       "      <td>Other pulses n.e.c.</td>\n",
       "      <td>71700</td>\n",
       "      <td>81000</td>\n",
       "      <td>86368</td>\n",
       "      <td>74113</td>\n",
       "      <td>79746</td>\n",
       "      <td>143555</td>\n",
       "      <td>111894</td>\n",
       "      <td>52243</td>\n",
       "      <td>61166</td>\n",
       "      <td>67114</td>\n",
       "      <td>69104</td>\n",
       "      <td>77466</td>\n",
       "    </tr>\n",
       "    <tr>\n",
       "      <th>...</th>\n",
       "      <td>...</td>\n",
       "      <td>...</td>\n",
       "      <td>...</td>\n",
       "      <td>...</td>\n",
       "      <td>...</td>\n",
       "      <td>...</td>\n",
       "      <td>...</td>\n",
       "      <td>...</td>\n",
       "      <td>...</td>\n",
       "      <td>...</td>\n",
       "      <td>...</td>\n",
       "      <td>...</td>\n",
       "      <td>...</td>\n",
       "      <td>...</td>\n",
       "      <td>...</td>\n",
       "      <td>...</td>\n",
       "    </tr>\n",
       "    <tr>\n",
       "      <th>2993</th>\n",
       "      <td>716</td>\n",
       "      <td>Zimbabwe</td>\n",
       "      <td>141.0</td>\n",
       "      <td>Soya beans</td>\n",
       "      <td>42288</td>\n",
       "      <td>44672</td>\n",
       "      <td>50408</td>\n",
       "      <td>50785</td>\n",
       "      <td>60616</td>\n",
       "      <td>44155</td>\n",
       "      <td>39935</td>\n",
       "      <td>23515</td>\n",
       "      <td>37307</td>\n",
       "      <td>33136</td>\n",
       "      <td>32874</td>\n",
       "      <td>34648</td>\n",
       "    </tr>\n",
       "    <tr>\n",
       "      <th>2994</th>\n",
       "      <td>716</td>\n",
       "      <td>Zimbabwe</td>\n",
       "      <td>1354.0</td>\n",
       "      <td>Strawberries</td>\n",
       "      <td>51</td>\n",
       "      <td>51</td>\n",
       "      <td>50</td>\n",
       "      <td>50</td>\n",
       "      <td>51</td>\n",
       "      <td>51</td>\n",
       "      <td>51</td>\n",
       "      <td>51</td>\n",
       "      <td>51</td>\n",
       "      <td>50</td>\n",
       "      <td>50</td>\n",
       "      <td>50</td>\n",
       "    </tr>\n",
       "    <tr>\n",
       "      <th>2995</th>\n",
       "      <td>716</td>\n",
       "      <td>Zimbabwe</td>\n",
       "      <td>1802.0</td>\n",
       "      <td>Sugar cane</td>\n",
       "      <td>40663</td>\n",
       "      <td>42828</td>\n",
       "      <td>53486</td>\n",
       "      <td>46605</td>\n",
       "      <td>43121</td>\n",
       "      <td>43094</td>\n",
       "      <td>43500</td>\n",
       "      <td>41000</td>\n",
       "      <td>45000</td>\n",
       "      <td>46000</td>\n",
       "      <td>47000</td>\n",
       "      <td>47000</td>\n",
       "    </tr>\n",
       "    <tr>\n",
       "      <th>2996</th>\n",
       "      <td>716</td>\n",
       "      <td>Zimbabwe</td>\n",
       "      <td>1234.0</td>\n",
       "      <td>Tomatoes</td>\n",
       "      <td>3200</td>\n",
       "      <td>3146</td>\n",
       "      <td>3300</td>\n",
       "      <td>3300</td>\n",
       "      <td>3370</td>\n",
       "      <td>3508</td>\n",
       "      <td>3498</td>\n",
       "      <td>3481</td>\n",
       "      <td>3602</td>\n",
       "      <td>3607</td>\n",
       "      <td>3564</td>\n",
       "      <td>3591</td>\n",
       "    </tr>\n",
       "    <tr>\n",
       "      <th>2997</th>\n",
       "      <td>716</td>\n",
       "      <td>Zimbabwe</td>\n",
       "      <td>111.0</td>\n",
       "      <td>Wheat</td>\n",
       "      <td>6478</td>\n",
       "      <td>8645</td>\n",
       "      <td>21377</td>\n",
       "      <td>21753</td>\n",
       "      <td>18059</td>\n",
       "      <td>22114</td>\n",
       "      <td>22094</td>\n",
       "      <td>22070</td>\n",
       "      <td>16700</td>\n",
       "      <td>24186</td>\n",
       "      <td>44466</td>\n",
       "      <td>66434</td>\n",
       "    </tr>\n",
       "  </tbody>\n",
       "</table>\n",
       "<p>2998 rows × 16 columns</p>\n",
       "</div>"
      ],
      "text/plain": [
       "     Area Code         Area Item Code                        Item    2010  \\\n",
       "0            4  Afghanistan    1341.0                      Apples    8550   \n",
       "1            4  Afghanistan     115.0                      Barley  212000   \n",
       "2            4  Afghanistan     112.0                Maize (corn)  183000   \n",
       "3            4  Afghanistan    1329.0  Other citrus fruit, n.e.c.     200   \n",
       "4            4  Afghanistan    1709.9         Other pulses n.e.c.   71700   \n",
       "...        ...          ...       ...                         ...     ...   \n",
       "2993       716     Zimbabwe     141.0                  Soya beans   42288   \n",
       "2994       716     Zimbabwe    1354.0                Strawberries      51   \n",
       "2995       716     Zimbabwe    1802.0                  Sugar cane   40663   \n",
       "2996       716     Zimbabwe    1234.0                    Tomatoes    3200   \n",
       "2997       716     Zimbabwe     111.0                       Wheat    6478   \n",
       "\n",
       "        2011    2012    2013    2014    2015    2016    2017   2018   2019  \\\n",
       "0       8863    9148   10341   12247   13038   19365   26847  28381  27559   \n",
       "1     190000  280000  278000  342472  282000  219208   68179  84147  84070   \n",
       "2     183000  141000  142000  127000  147273  151900  134225  72433  94910   \n",
       "3        200     200     300     300     300    1662    1643   1700   3391   \n",
       "4      81000   86368   74113   79746  143555  111894   52243  61166  67114   \n",
       "...      ...     ...     ...     ...     ...     ...     ...    ...    ...   \n",
       "2993   44672   50408   50785   60616   44155   39935   23515  37307  33136   \n",
       "2994      51      50      50      51      51      51      51     51     50   \n",
       "2995   42828   53486   46605   43121   43094   43500   41000  45000  46000   \n",
       "2996    3146    3300    3300    3370    3508    3498    3481   3602   3607   \n",
       "2997    8645   21377   21753   18059   22114   22094   22070  16700  24186   \n",
       "\n",
       "        2020   2021  \n",
       "0      25643  26540  \n",
       "1      86099  84072  \n",
       "2     140498  92144  \n",
       "3        449   1403  \n",
       "4      69104  77466  \n",
       "...      ...    ...  \n",
       "2993   32874  34648  \n",
       "2994      50     50  \n",
       "2995   47000  47000  \n",
       "2996    3564   3591  \n",
       "2997   44466  66434  \n",
       "\n",
       "[2998 rows x 16 columns]"
      ]
     },
     "execution_count": 178,
     "metadata": {},
     "output_type": "execute_result"
    }
   ],
   "source": [
    "df"
   ]
  },
  {
   "cell_type": "code",
   "execution_count": 186,
   "metadata": {},
   "outputs": [],
   "source": [
    "def replace_items (df):\n",
    "    import re\n",
    "    # Clean with regex column \"Items\" to match other Data Frames.\n",
    "    df[\"Item\"] = df[\"Item\"].str.replace(\"n\\.e\\.c\\.\", \"\", regex=True)\n",
    "    df[\"Item\"] = df[\"Item\"].str.replace(\".*Other berries and fruits of the genus vaccinium.*\", 'Berries & Grapes', regex=True)\n",
    "    df[\"Item\"] = df[\"Item\"].str.replace('.*Onions and shallots, green*.', 'Onions & Leeks', regex=True)\n",
    "    df[\"Item\"] = df[\"Item\"].str.replace(\".*Beer of barley, malted*.\", 'Beer', regex=True)\n",
    "    df[\"Item\"] = df[\"Item\"].str.replace(\".*Barley*.\", 'Beer', regex=True)\n",
    "    df[\"Item\"] = df[\"Item\"].str.replace('.*Brazil nuts, in shell*.', \"Nuts\", regex=True)\n",
    "    df[\"Item\"] = df[\"Item\"].str.replace(\".*Cocoa beans*.\", \"Chocolate\", regex=True)\n",
    "    df[\"Item\"] = df[\"Item\"].str.replace('.*Coffee, green*.', \"Coffee\", regex=True)\n",
    "    df[\"Item\"] = df[\"Item\"].str.replace('.*Groundnuts, excluding shelled*.', \"Groundnuts\", regex=True)\n",
    "    df[\"Item\"] = df[\"Item\"].str.replace('.*Edible roots and tubers with high starch or inulin content, , fresh*.', 'Root Vegetables', regex=True)\n",
    "    df[\"Item\"] = df[\"Item\"].str.replace('.*Oats*.', \"Oatmeal\", regex=True)\n",
    "    df[\"Item\"] = df[\"Item\"].str.replace('.*Other citrus fruit,*.', 'Citrus Fruit', regex=True)\n",
    "    df[\"Item\"] = df[\"Item\"].str.replace('.*Other fruits*.', 'Other Fruit', regex=True)\n",
    "    df[\"Item\"] = df[\"Item\"].str.replace('.*Meat of pig with the bome, fresh or chilled', \"Pig\", regex=True)\n",
    "    df[\"Item\"] = df[\"Item\"].str.replace('.*Meat of cattle with the bone, fresh or chilled', 'Beef', regex=True)\n",
    "    df[\"Item\"] = df[\"Item\"].str.replace('.*Walnuts, in shell*.', 'Nuts', regex=True)\n",
    "    df[\"Item\"] = df[\"Item\"].str.replace('.*Hazelnuts, in shell*.', 'Nuts', regex=True)\n",
    "    df[\"Item\"] = df[\"Item\"].str.replace('.*Peas, dry*.', 'Peas', regex=True)\n",
    "    df[\"Item\"] = df[\"Item\"].str.replace('.*Sugar beet*.', 'Beet Sugar', regex=True)\n",
    "    df[\"Item\"] = df[\"Item\"].str.replace('.*Soya beans*.', 'Beet Sugar', regex=True)\n",
    "    df[\"Item\"] = df[\"Item\"].str.replace('.*Other vegetables, fresh *.', 'Other Vegetables', regex=True)\n",
    "    df[\"Item\"] = df[\"Item\"].str.replace('.*Hen eggs in shell, fresh*.', 'Eggs', regex=True)\n",
    "    df[\"Item\"] = df[\"Item\"].str.replace('.*Gooseberries*.', 'Berries & Grapes', regex=True)\n",
    "    df[\"Item\"] = df[\"Item\"].str.replace('.*Raw hides and skins of sheep or lambs*.', 'Lamb & Mutton', regex=True)\n",
    "    df[\"Item\"] = df[\"Item\"].str.replace('.*Strawberries*.', 'Berries & Grapes', regex=True)\n",
    "    df[\"Item\"] = df[\"Item\"].str.replace('.*Cranberries*.', 'Berries & Grapes', regex=True)\n",
    "    df[\"Item\"] = df[\"Item\"].str.replace('.*Raw milk of cattle*.', 'Milk', regex=True)\n",
    "    df[\"Item\"] = df[\"Item\"].str.replace('.*Cassava, fresh*.', 'Cassava', regex=True)\n",
    "    df[\"Item\"] = df[\"Item\"].str.replace('.*Meat of pig with the bone, fresh or chilled*.', 'Pig Meat', regex=True)\n",
    "    df[\"Item\"] = df[\"Item\"].str.replace('.*Chick peas, dry*.', 'Peas', regex=True)\n",
    "    df[\"Item\"] = df[\"Item\"].str.replace('.*Sunflower-seed oil, crude*.', 'Sunflower Oil', regex=True)\n",
    "    df[\"Item\"] = df[\"Item\"].str.replace('.*Meat of chickens, fresh or chilled*.', 'Poultry Meat', regex=True)\n",
    "    df[\"Item\"] = df[\"Item\"].str.replace('.*Rapeseed or canola oil, crude*.', 'Rapeseed Oil', regex=True)\n",
    "    df[\"Item\"] = df[\"Item\"].str.replace('.*Peas, green*.', 'Peas', regex=True)\n",
    "    df[\"Item\"] = df[\"Item\"].str.replace('.*Cow peas, dry*.', 'Peas', regex=True)\n",
    "    df[\"Item\"] = df[\"Item\"].str.replace('.*Raspberries*.', 'Berries & Grapes', regex=True)\n",
    "    df[\"Item\"] = df[\"Item\"].str.replace('.*Blueberries*.', 'Berries & Grapes', regex=True)\n",
    "    df[\"Item\"] = df[\"Item\"].str.replace('.*Cheese from whole cow milk*.', 'Cheese', regex=True)\n",
    "    df[\"Item\"] = df[\"Item\"].str.title()\n",
    "    df[\"Item\"] = df[\"Item\"].str.strip()\n",
    "    return df"
   ]
  },
  {
   "cell_type": "code",
   "execution_count": 187,
   "metadata": {},
   "outputs": [],
   "source": [
    "df = replace_items (df)"
   ]
  },
  {
   "cell_type": "code",
   "execution_count": 185,
   "metadata": {},
   "outputs": [
    {
     "name": "stdout",
     "output_type": "stream",
     "text": [
      "{'Wheat', 'Potatoes', 'Cassava', 'Onions & Leeks', 'Citrus Fruit', 'Oatmealeal', 'Root Vegetables', 'Berries & Grapes', 'Maize (Corn)', 'Groundnuts', 'Peas', 'Beet Sugar', 'Rice', 'Chocolate', 'Bananas', 'Tomatoes', 'Nuts', 'Beer', 'Other Vegetables', 'Sugar Cane', 'Coffee', 'Other Pulses ', 'Apples'}\n"
     ]
    }
   ],
   "source": [
    "print(set(df[\"Item\"]))"
   ]
  },
  {
   "attachments": {},
   "cell_type": "markdown",
   "metadata": {},
   "source": [
    "Export to csv."
   ]
  },
  {
   "cell_type": "code",
   "execution_count": 190,
   "metadata": {},
   "outputs": [],
   "source": [
    "df.to_csv(\"D:\\ironhack\\proyectos\\_proy4\\csv\\csv_from_python\\\\area_harvested.csv\", index=False)"
   ]
  },
  {
   "cell_type": "code",
   "execution_count": null,
   "metadata": {},
   "outputs": [],
   "source": []
  }
 ],
 "metadata": {
  "kernelspec": {
   "display_name": "proy4",
   "language": "python",
   "name": "python3"
  },
  "language_info": {
   "codemirror_mode": {
    "name": "ipython",
    "version": 3
   },
   "file_extension": ".py",
   "mimetype": "text/x-python",
   "name": "python",
   "nbconvert_exporter": "python",
   "pygments_lexer": "ipython3",
   "version": "3.10.9"
  },
  "orig_nbformat": 4,
  "vscode": {
   "interpreter": {
    "hash": "b3dfe1283fda9364cc2362416e4bfe66337331c733e8ef7132f45b573e2561ec"
   }
  }
 },
 "nbformat": 4,
 "nbformat_minor": 2
}
