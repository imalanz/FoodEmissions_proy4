{
 "cells": [
  {
   "attachments": {},
   "cell_type": "markdown",
   "metadata": {},
   "source": [
    "# ANALYSIS.\n",
    "## Area DB."
   ]
  },
  {
   "cell_type": "code",
   "execution_count": 122,
   "metadata": {},
   "outputs": [
    {
     "ename": "ModuleNotFoundError",
     "evalue": "No module named 'src'",
     "output_type": "error",
     "traceback": [
      "\u001b[1;31m---------------------------------------------------------------------------\u001b[0m",
      "\u001b[1;31mModuleNotFoundError\u001b[0m                       Traceback (most recent call last)",
      "Cell \u001b[1;32mIn[122], line 7\u001b[0m\n\u001b[0;32m      4\u001b[0m warnings\u001b[39m.\u001b[39mfilterwarnings(\u001b[39m\"\u001b[39m\u001b[39mignore\u001b[39m\u001b[39m\"\u001b[39m)\n\u001b[0;32m      6\u001b[0m \u001b[39mimport\u001b[39;00m \u001b[39mimportlib\u001b[39;00m\n\u001b[1;32m----> 7\u001b[0m \u001b[39mimport\u001b[39;00m \u001b[39msrc\u001b[39;00m\u001b[39m.\u001b[39;00m\u001b[39manalysis\u001b[39;00m \u001b[39mas\u001b[39;00m \u001b[39man\u001b[39;00m\n\u001b[0;32m      8\u001b[0m \u001b[39mimport\u001b[39;00m \u001b[39msys\u001b[39;00m \n\u001b[0;32m      9\u001b[0m an \u001b[39m=\u001b[39m sys\u001b[39m.\u001b[39mpath\u001b[39m.\u001b[39mappend(\u001b[39m\"\u001b[39m\u001b[39m\\\u001b[39m\u001b[39msrc\u001b[39m\u001b[39m\\\\\u001b[39;00m\u001b[39manalysis.py\u001b[39m\u001b[39m\"\u001b[39m)\n",
      "\u001b[1;31mModuleNotFoundError\u001b[0m: No module named 'src'"
     ]
    }
   ],
   "source": [
    "import pandas as pd\n",
    "import regex\n",
    "import warnings\n",
    "warnings.filterwarnings(\"ignore\")\n",
    "\n",
    "import importlib\n",
    "import src.analysis as an\n",
    "import sys \n",
    "an = sys.path.append(\"\\src\\\\analysis.py\")"
   ]
  },
  {
   "attachments": {},
   "cell_type": "markdown",
   "metadata": {},
   "source": [
    "IMPORT Area data set."
   ]
  },
  {
   "cell_type": "code",
   "execution_count": 146,
   "metadata": {},
   "outputs": [
    {
     "data": {
      "text/html": [
       "<div>\n",
       "<style scoped>\n",
       "    .dataframe tbody tr th:only-of-type {\n",
       "        vertical-align: middle;\n",
       "    }\n",
       "\n",
       "    .dataframe tbody tr th {\n",
       "        vertical-align: top;\n",
       "    }\n",
       "\n",
       "    .dataframe thead th {\n",
       "        text-align: right;\n",
       "    }\n",
       "</style>\n",
       "<table border=\"1\" class=\"dataframe\">\n",
       "  <thead>\n",
       "    <tr style=\"text-align: right;\">\n",
       "      <th></th>\n",
       "      <th>Domain Code</th>\n",
       "      <th>Domain</th>\n",
       "      <th>Area Code (M49)</th>\n",
       "      <th>Area</th>\n",
       "      <th>Element Code</th>\n",
       "      <th>Element</th>\n",
       "      <th>Item Code (CPC)</th>\n",
       "      <th>Item</th>\n",
       "      <th>Year Code</th>\n",
       "      <th>Year</th>\n",
       "      <th>Unit</th>\n",
       "      <th>Value</th>\n",
       "    </tr>\n",
       "  </thead>\n",
       "  <tbody>\n",
       "    <tr>\n",
       "      <th>29250</th>\n",
       "      <td>QCL</td>\n",
       "      <td>Crops and livestock products</td>\n",
       "      <td>670</td>\n",
       "      <td>Saint Vincent and the Grenadines</td>\n",
       "      <td>5312</td>\n",
       "      <td>Area harvested</td>\n",
       "      <td>1359.9</td>\n",
       "      <td>Other fruits, n.e.c.</td>\n",
       "      <td>2021</td>\n",
       "      <td>2021</td>\n",
       "      <td>ha</td>\n",
       "      <td>233</td>\n",
       "    </tr>\n",
       "  </tbody>\n",
       "</table>\n",
       "</div>"
      ],
      "text/plain": [
       "      Domain Code                        Domain  Area Code (M49)  \\\n",
       "29250         QCL  Crops and livestock products              670   \n",
       "\n",
       "                                   Area  Element Code         Element  \\\n",
       "29250  Saint Vincent and the Grenadines          5312  Area harvested   \n",
       "\n",
       "       Item Code (CPC)                  Item  Year Code  Year Unit  Value  \n",
       "29250           1359.9  Other fruits, n.e.c.       2021  2021   ha    233  "
      ]
     },
     "execution_count": 146,
     "metadata": {},
     "output_type": "execute_result"
    }
   ],
   "source": [
    "area = pd.read_csv(\"D:\\ironhack\\proyectos\\_proy4\\csv\\\\area_harvested.csv\", engine=\"python\", error_bad_lines=False)\n",
    "area.sample()"
   ]
  },
  {
   "cell_type": "code",
   "execution_count": 147,
   "metadata": {},
   "outputs": [
    {
     "name": "stdout",
     "output_type": "stream",
     "text": [
      "{'Wheat', 'Other vegetables, fresh n.e.c.', 'Barley', 'Onions and shallots, green', 'Potatoes', 'Hazelnuts, in shell', 'Other fruits, n.e.c.', 'Peas, dry', 'Sugar beet', 'Soya beans', 'Other pulses n.e.c.', 'Rice', 'Bananas', 'Other citrus fruit, n.e.c.', 'Cocoa beans', 'Tomatoes', 'Sugar cane', 'Groundnuts, excluding shelled', 'Oats', 'Walnuts, in shell', 'Grapes', 'Edible roots and tubers with high starch or inulin content, n.e.c., fresh', 'Maize (corn)', 'Coffee, green', 'Apples'}\n"
     ]
    }
   ],
   "source": [
    "print(set(area[\"Item\"]))"
   ]
  },
  {
   "attachments": {},
   "cell_type": "markdown",
   "metadata": {},
   "source": [
    "Clean Data Base."
   ]
  },
  {
   "cell_type": "code",
   "execution_count": 124,
   "metadata": {},
   "outputs": [],
   "source": [
    "# Drop columns.\n",
    "area.drop(columns=[\"Domain\", \"Domain Code\", \"Element Code\", \"Element\", \"Year Code\"],inplace=True)"
   ]
  },
  {
   "cell_type": "code",
   "execution_count": 125,
   "metadata": {},
   "outputs": [],
   "source": [
    "# Change names.\n",
    "area.rename(columns={\"Area Code (M49)\":\"Area Code\", \"Item Code (CPC)\": \"Item Code\"}, inplace= True)"
   ]
  },
  {
   "cell_type": "code",
   "execution_count": 126,
   "metadata": {},
   "outputs": [
    {
     "data": {
      "text/html": [
       "<div>\n",
       "<style scoped>\n",
       "    .dataframe tbody tr th:only-of-type {\n",
       "        vertical-align: middle;\n",
       "    }\n",
       "\n",
       "    .dataframe tbody tr th {\n",
       "        vertical-align: top;\n",
       "    }\n",
       "\n",
       "    .dataframe thead th {\n",
       "        text-align: right;\n",
       "    }\n",
       "</style>\n",
       "<table border=\"1\" class=\"dataframe\">\n",
       "  <thead>\n",
       "    <tr style=\"text-align: right;\">\n",
       "      <th></th>\n",
       "      <th>Area Code</th>\n",
       "      <th>Area</th>\n",
       "      <th>Item Code</th>\n",
       "      <th>Item</th>\n",
       "      <th>Year</th>\n",
       "      <th>Unit</th>\n",
       "      <th>Value</th>\n",
       "    </tr>\n",
       "  </thead>\n",
       "  <tbody>\n",
       "    <tr>\n",
       "      <th>0</th>\n",
       "      <td>4</td>\n",
       "      <td>Afghanistan</td>\n",
       "      <td>1341.0</td>\n",
       "      <td>Apples</td>\n",
       "      <td>2008</td>\n",
       "      <td>ha</td>\n",
       "      <td>7000</td>\n",
       "    </tr>\n",
       "    <tr>\n",
       "      <th>1</th>\n",
       "      <td>4</td>\n",
       "      <td>Afghanistan</td>\n",
       "      <td>1341.0</td>\n",
       "      <td>Apples</td>\n",
       "      <td>2009</td>\n",
       "      <td>ha</td>\n",
       "      <td>8550</td>\n",
       "    </tr>\n",
       "    <tr>\n",
       "      <th>2</th>\n",
       "      <td>4</td>\n",
       "      <td>Afghanistan</td>\n",
       "      <td>1341.0</td>\n",
       "      <td>Apples</td>\n",
       "      <td>2010</td>\n",
       "      <td>ha</td>\n",
       "      <td>8550</td>\n",
       "    </tr>\n",
       "    <tr>\n",
       "      <th>3</th>\n",
       "      <td>4</td>\n",
       "      <td>Afghanistan</td>\n",
       "      <td>1341.0</td>\n",
       "      <td>Apples</td>\n",
       "      <td>2011</td>\n",
       "      <td>ha</td>\n",
       "      <td>8863</td>\n",
       "    </tr>\n",
       "    <tr>\n",
       "      <th>4</th>\n",
       "      <td>4</td>\n",
       "      <td>Afghanistan</td>\n",
       "      <td>1341.0</td>\n",
       "      <td>Apples</td>\n",
       "      <td>2012</td>\n",
       "      <td>ha</td>\n",
       "      <td>9148</td>\n",
       "    </tr>\n",
       "    <tr>\n",
       "      <th>...</th>\n",
       "      <td>...</td>\n",
       "      <td>...</td>\n",
       "      <td>...</td>\n",
       "      <td>...</td>\n",
       "      <td>...</td>\n",
       "      <td>...</td>\n",
       "      <td>...</td>\n",
       "    </tr>\n",
       "    <tr>\n",
       "      <th>37831</th>\n",
       "      <td>716</td>\n",
       "      <td>Zimbabwe</td>\n",
       "      <td>111.0</td>\n",
       "      <td>Wheat</td>\n",
       "      <td>2017</td>\n",
       "      <td>ha</td>\n",
       "      <td>22070</td>\n",
       "    </tr>\n",
       "    <tr>\n",
       "      <th>37832</th>\n",
       "      <td>716</td>\n",
       "      <td>Zimbabwe</td>\n",
       "      <td>111.0</td>\n",
       "      <td>Wheat</td>\n",
       "      <td>2018</td>\n",
       "      <td>ha</td>\n",
       "      <td>16700</td>\n",
       "    </tr>\n",
       "    <tr>\n",
       "      <th>37833</th>\n",
       "      <td>716</td>\n",
       "      <td>Zimbabwe</td>\n",
       "      <td>111.0</td>\n",
       "      <td>Wheat</td>\n",
       "      <td>2019</td>\n",
       "      <td>ha</td>\n",
       "      <td>24186</td>\n",
       "    </tr>\n",
       "    <tr>\n",
       "      <th>37834</th>\n",
       "      <td>716</td>\n",
       "      <td>Zimbabwe</td>\n",
       "      <td>111.0</td>\n",
       "      <td>Wheat</td>\n",
       "      <td>2020</td>\n",
       "      <td>ha</td>\n",
       "      <td>44466</td>\n",
       "    </tr>\n",
       "    <tr>\n",
       "      <th>37835</th>\n",
       "      <td>716</td>\n",
       "      <td>Zimbabwe</td>\n",
       "      <td>111.0</td>\n",
       "      <td>Wheat</td>\n",
       "      <td>2021</td>\n",
       "      <td>ha</td>\n",
       "      <td>66434</td>\n",
       "    </tr>\n",
       "  </tbody>\n",
       "</table>\n",
       "<p>37836 rows × 7 columns</p>\n",
       "</div>"
      ],
      "text/plain": [
       "       Area Code         Area  Item Code    Item  Year Unit  Value\n",
       "0              4  Afghanistan     1341.0  Apples  2008   ha   7000\n",
       "1              4  Afghanistan     1341.0  Apples  2009   ha   8550\n",
       "2              4  Afghanistan     1341.0  Apples  2010   ha   8550\n",
       "3              4  Afghanistan     1341.0  Apples  2011   ha   8863\n",
       "4              4  Afghanistan     1341.0  Apples  2012   ha   9148\n",
       "...          ...          ...        ...     ...   ...  ...    ...\n",
       "37831        716     Zimbabwe      111.0   Wheat  2017   ha  22070\n",
       "37832        716     Zimbabwe      111.0   Wheat  2018   ha  16700\n",
       "37833        716     Zimbabwe      111.0   Wheat  2019   ha  24186\n",
       "37834        716     Zimbabwe      111.0   Wheat  2020   ha  44466\n",
       "37835        716     Zimbabwe      111.0   Wheat  2021   ha  66434\n",
       "\n",
       "[37836 rows x 7 columns]"
      ]
     },
     "execution_count": 126,
     "metadata": {},
     "output_type": "execute_result"
    }
   ],
   "source": [
    "area"
   ]
  },
  {
   "cell_type": "code",
   "execution_count": 127,
   "metadata": {},
   "outputs": [],
   "source": [
    "def iterate_column_years (year):\n",
    "    # iterate 2010\n",
    "    x = {index:[row[0],row[1],row[2],row[3],row[6]] for index, row in area.iterrows() if row[4] == year}\n",
    "    df = pd.DataFrame.from_dict(x, orient=\"index\")\n",
    "    df.rename(columns= {0: \"Area Code\", 1:\"Area\", 2:\"Item Code\", 3:\"Item\", 4:year}, inplace = True)\n",
    "    df[\"Item\"] = df[\"Item\"].astype(object)\n",
    "    df[\"Area\"] = df[\"Area\"].astype(object)\n",
    "    df[year] = df[year].astype(object)\n",
    "    \n",
    "    return df.drop_duplicates(subset=['Area Code', 'Item Code'], keep='last')"
   ]
  },
  {
   "attachments": {},
   "cell_type": "markdown",
   "metadata": {},
   "source": [
    "Iteration throw each year and create column with year."
   ]
  },
  {
   "cell_type": "code",
   "execution_count": 128,
   "metadata": {},
   "outputs": [],
   "source": [
    "# iterate 2010\n",
    "df2010 = iterate_column_years (2010)"
   ]
  },
  {
   "cell_type": "code",
   "execution_count": 129,
   "metadata": {},
   "outputs": [],
   "source": [
    "# iterate 2011\n",
    "df2011 = iterate_column_years (2011)"
   ]
  },
  {
   "cell_type": "code",
   "execution_count": 130,
   "metadata": {},
   "outputs": [],
   "source": [
    "# iterate 2012\n",
    "df2012 = iterate_column_years (2012)"
   ]
  },
  {
   "cell_type": "code",
   "execution_count": 131,
   "metadata": {},
   "outputs": [],
   "source": [
    "# iterate 2013\n",
    "df2013 = iterate_column_years (2013)"
   ]
  },
  {
   "cell_type": "code",
   "execution_count": 132,
   "metadata": {},
   "outputs": [],
   "source": [
    "# iterate 2014\n",
    "df2014 = iterate_column_years (2014)"
   ]
  },
  {
   "cell_type": "code",
   "execution_count": 133,
   "metadata": {},
   "outputs": [],
   "source": [
    "# iterate 2015\n",
    "df2015 = iterate_column_years (2015)"
   ]
  },
  {
   "cell_type": "code",
   "execution_count": 134,
   "metadata": {},
   "outputs": [],
   "source": [
    "# iterate 2016\n",
    "df2016 = iterate_column_years (2016)"
   ]
  },
  {
   "cell_type": "code",
   "execution_count": 135,
   "metadata": {},
   "outputs": [],
   "source": [
    "# iterate 2017\n",
    "df2017 = iterate_column_years (2017)"
   ]
  },
  {
   "cell_type": "code",
   "execution_count": 136,
   "metadata": {},
   "outputs": [],
   "source": [
    "# iterate 2018\n",
    "df2018 = iterate_column_years (2018)"
   ]
  },
  {
   "cell_type": "code",
   "execution_count": 137,
   "metadata": {},
   "outputs": [],
   "source": [
    "# iterate 2019\n",
    "df2019 = iterate_column_years (2019)"
   ]
  },
  {
   "cell_type": "code",
   "execution_count": 138,
   "metadata": {},
   "outputs": [],
   "source": [
    "# iterate 2020\n",
    "df2020 = iterate_column_years (2020)"
   ]
  },
  {
   "cell_type": "code",
   "execution_count": 139,
   "metadata": {},
   "outputs": [],
   "source": [
    "# iterate 2021\n",
    "df2021 = iterate_column_years (2021)"
   ]
  },
  {
   "attachments": {},
   "cell_type": "markdown",
   "metadata": {},
   "source": [
    "Drop columns of production and duplicates, and change types."
   ]
  },
  {
   "cell_type": "code",
   "execution_count": 140,
   "metadata": {},
   "outputs": [],
   "source": [
    "def clean2_df (df):\n",
    "    df.drop(columns=[\"Year\", \"Value\", \"Unit\"],inplace=True)\n",
    "    df[\"Item Code\"] = df[\"Item Code\"].astype(object)\n",
    "    df[\"Area Code\"] = df[\"Area Code\"].astype(object)\n",
    "    # drop duplicates.\n",
    "    df.drop_duplicates(inplace=True)\n",
    "    return df"
   ]
  },
  {
   "cell_type": "code",
   "execution_count": 141,
   "metadata": {},
   "outputs": [],
   "source": [
    "area = clean2_df (area)"
   ]
  },
  {
   "attachments": {},
   "cell_type": "markdown",
   "metadata": {},
   "source": [
    "Merge all data frames to 1."
   ]
  },
  {
   "cell_type": "code",
   "execution_count": 142,
   "metadata": {},
   "outputs": [],
   "source": [
    "def merging_production_area (df, df2010, df2011, df2012, df2013, df2014, df2015, df2016, df2017, df2018, df2019, df2020, df2021):\n",
    "    z = pd.merge(df, df2010, how=\"left\").merge(df2011, how=\"left\").merge(df2012, how=\"left\")\n",
    "    z = pd.merge(z, df2013, how=\"left\").merge(df2014, how=\"left\").merge(df2015, how=\"left\")\n",
    "    z = pd.merge(z, df2016, how=\"left\").merge(df2017, how=\"left\").merge(df2018, how=\"left\")        \n",
    "    z = pd.merge(z, df2019, how=\"left\").merge(df2020, how=\"left\").merge(df2021, how=\"left\")  \n",
    "    return z"
   ]
  },
  {
   "cell_type": "code",
   "execution_count": 143,
   "metadata": {},
   "outputs": [],
   "source": [
    "df = merging_production (area, df2010, df2011, df2012, df2013, df2014, df2015, df2016, df2017, df2018, df2019, df2020, df2021)"
   ]
  },
  {
   "cell_type": "code",
   "execution_count": 144,
   "metadata": {},
   "outputs": [
    {
     "data": {
      "text/html": [
       "<div>\n",
       "<style scoped>\n",
       "    .dataframe tbody tr th:only-of-type {\n",
       "        vertical-align: middle;\n",
       "    }\n",
       "\n",
       "    .dataframe tbody tr th {\n",
       "        vertical-align: top;\n",
       "    }\n",
       "\n",
       "    .dataframe thead th {\n",
       "        text-align: right;\n",
       "    }\n",
       "</style>\n",
       "<table border=\"1\" class=\"dataframe\">\n",
       "  <thead>\n",
       "    <tr style=\"text-align: right;\">\n",
       "      <th></th>\n",
       "      <th>Area Code</th>\n",
       "      <th>Area</th>\n",
       "      <th>Item Code</th>\n",
       "      <th>Item</th>\n",
       "      <th>2010</th>\n",
       "      <th>2011</th>\n",
       "      <th>2012</th>\n",
       "      <th>2013</th>\n",
       "      <th>2014</th>\n",
       "      <th>2015</th>\n",
       "      <th>2016</th>\n",
       "      <th>2017</th>\n",
       "      <th>2018</th>\n",
       "      <th>2019</th>\n",
       "      <th>2020</th>\n",
       "      <th>2021</th>\n",
       "    </tr>\n",
       "  </thead>\n",
       "  <tbody>\n",
       "    <tr>\n",
       "      <th>0</th>\n",
       "      <td>4</td>\n",
       "      <td>Afghanistan</td>\n",
       "      <td>1341.0</td>\n",
       "      <td>Apples</td>\n",
       "      <td>8550</td>\n",
       "      <td>8863</td>\n",
       "      <td>9148</td>\n",
       "      <td>10341</td>\n",
       "      <td>12247</td>\n",
       "      <td>13038</td>\n",
       "      <td>19365</td>\n",
       "      <td>26847</td>\n",
       "      <td>28381</td>\n",
       "      <td>27559</td>\n",
       "      <td>25643</td>\n",
       "      <td>26540</td>\n",
       "    </tr>\n",
       "    <tr>\n",
       "      <th>1</th>\n",
       "      <td>4</td>\n",
       "      <td>Afghanistan</td>\n",
       "      <td>115.0</td>\n",
       "      <td>Barley</td>\n",
       "      <td>212000</td>\n",
       "      <td>190000</td>\n",
       "      <td>280000</td>\n",
       "      <td>278000</td>\n",
       "      <td>342472</td>\n",
       "      <td>282000</td>\n",
       "      <td>219208</td>\n",
       "      <td>68179</td>\n",
       "      <td>84147</td>\n",
       "      <td>84070</td>\n",
       "      <td>86099</td>\n",
       "      <td>84072</td>\n",
       "    </tr>\n",
       "    <tr>\n",
       "      <th>2</th>\n",
       "      <td>4</td>\n",
       "      <td>Afghanistan</td>\n",
       "      <td>1330.0</td>\n",
       "      <td>Grapes</td>\n",
       "      <td>61132</td>\n",
       "      <td>61558</td>\n",
       "      <td>61690</td>\n",
       "      <td>62118</td>\n",
       "      <td>78405</td>\n",
       "      <td>78681</td>\n",
       "      <td>82450</td>\n",
       "      <td>87194</td>\n",
       "      <td>87517</td>\n",
       "      <td>89593</td>\n",
       "      <td>92584</td>\n",
       "      <td>96560</td>\n",
       "    </tr>\n",
       "    <tr>\n",
       "      <th>3</th>\n",
       "      <td>4</td>\n",
       "      <td>Afghanistan</td>\n",
       "      <td>112.0</td>\n",
       "      <td>Maize (corn)</td>\n",
       "      <td>183000</td>\n",
       "      <td>183000</td>\n",
       "      <td>141000</td>\n",
       "      <td>142000</td>\n",
       "      <td>127000</td>\n",
       "      <td>147273</td>\n",
       "      <td>151900</td>\n",
       "      <td>134225</td>\n",
       "      <td>72433</td>\n",
       "      <td>94910</td>\n",
       "      <td>140498</td>\n",
       "      <td>92144</td>\n",
       "    </tr>\n",
       "    <tr>\n",
       "      <th>4</th>\n",
       "      <td>4</td>\n",
       "      <td>Afghanistan</td>\n",
       "      <td>1329.0</td>\n",
       "      <td>Other citrus fruit, n.e.c.</td>\n",
       "      <td>200</td>\n",
       "      <td>200</td>\n",
       "      <td>200</td>\n",
       "      <td>300</td>\n",
       "      <td>300</td>\n",
       "      <td>300</td>\n",
       "      <td>1662</td>\n",
       "      <td>1643</td>\n",
       "      <td>1700</td>\n",
       "      <td>3391</td>\n",
       "      <td>449</td>\n",
       "      <td>1403</td>\n",
       "    </tr>\n",
       "    <tr>\n",
       "      <th>...</th>\n",
       "      <td>...</td>\n",
       "      <td>...</td>\n",
       "      <td>...</td>\n",
       "      <td>...</td>\n",
       "      <td>...</td>\n",
       "      <td>...</td>\n",
       "      <td>...</td>\n",
       "      <td>...</td>\n",
       "      <td>...</td>\n",
       "      <td>...</td>\n",
       "      <td>...</td>\n",
       "      <td>...</td>\n",
       "      <td>...</td>\n",
       "      <td>...</td>\n",
       "      <td>...</td>\n",
       "      <td>...</td>\n",
       "    </tr>\n",
       "    <tr>\n",
       "      <th>2820</th>\n",
       "      <td>716</td>\n",
       "      <td>Zimbabwe</td>\n",
       "      <td>113.0</td>\n",
       "      <td>Rice</td>\n",
       "      <td>1543</td>\n",
       "      <td>1911</td>\n",
       "      <td>2833</td>\n",
       "      <td>2960</td>\n",
       "      <td>3755</td>\n",
       "      <td>4626</td>\n",
       "      <td>3780</td>\n",
       "      <td>3543</td>\n",
       "      <td>3371</td>\n",
       "      <td>2529</td>\n",
       "      <td>1260</td>\n",
       "      <td>3466</td>\n",
       "    </tr>\n",
       "    <tr>\n",
       "      <th>2821</th>\n",
       "      <td>716</td>\n",
       "      <td>Zimbabwe</td>\n",
       "      <td>141.0</td>\n",
       "      <td>Soya beans</td>\n",
       "      <td>42288</td>\n",
       "      <td>44672</td>\n",
       "      <td>50408</td>\n",
       "      <td>50785</td>\n",
       "      <td>60616</td>\n",
       "      <td>44155</td>\n",
       "      <td>39935</td>\n",
       "      <td>23515</td>\n",
       "      <td>37307</td>\n",
       "      <td>33136</td>\n",
       "      <td>32874</td>\n",
       "      <td>34648</td>\n",
       "    </tr>\n",
       "    <tr>\n",
       "      <th>2822</th>\n",
       "      <td>716</td>\n",
       "      <td>Zimbabwe</td>\n",
       "      <td>1802.0</td>\n",
       "      <td>Sugar cane</td>\n",
       "      <td>40663</td>\n",
       "      <td>42828</td>\n",
       "      <td>53486</td>\n",
       "      <td>46605</td>\n",
       "      <td>43121</td>\n",
       "      <td>43094</td>\n",
       "      <td>43500</td>\n",
       "      <td>41000</td>\n",
       "      <td>45000</td>\n",
       "      <td>46000</td>\n",
       "      <td>47000</td>\n",
       "      <td>47000</td>\n",
       "    </tr>\n",
       "    <tr>\n",
       "      <th>2823</th>\n",
       "      <td>716</td>\n",
       "      <td>Zimbabwe</td>\n",
       "      <td>1234.0</td>\n",
       "      <td>Tomatoes</td>\n",
       "      <td>3200</td>\n",
       "      <td>3146</td>\n",
       "      <td>3300</td>\n",
       "      <td>3300</td>\n",
       "      <td>3370</td>\n",
       "      <td>3508</td>\n",
       "      <td>3498</td>\n",
       "      <td>3481</td>\n",
       "      <td>3602</td>\n",
       "      <td>3607</td>\n",
       "      <td>3564</td>\n",
       "      <td>3591</td>\n",
       "    </tr>\n",
       "    <tr>\n",
       "      <th>2824</th>\n",
       "      <td>716</td>\n",
       "      <td>Zimbabwe</td>\n",
       "      <td>111.0</td>\n",
       "      <td>Wheat</td>\n",
       "      <td>6478</td>\n",
       "      <td>8645</td>\n",
       "      <td>21377</td>\n",
       "      <td>21753</td>\n",
       "      <td>18059</td>\n",
       "      <td>22114</td>\n",
       "      <td>22094</td>\n",
       "      <td>22070</td>\n",
       "      <td>16700</td>\n",
       "      <td>24186</td>\n",
       "      <td>44466</td>\n",
       "      <td>66434</td>\n",
       "    </tr>\n",
       "  </tbody>\n",
       "</table>\n",
       "<p>2825 rows × 16 columns</p>\n",
       "</div>"
      ],
      "text/plain": [
       "     Area Code         Area Item Code                        Item    2010  \\\n",
       "0            4  Afghanistan    1341.0                      Apples    8550   \n",
       "1            4  Afghanistan     115.0                      Barley  212000   \n",
       "2            4  Afghanistan    1330.0                      Grapes   61132   \n",
       "3            4  Afghanistan     112.0                Maize (corn)  183000   \n",
       "4            4  Afghanistan    1329.0  Other citrus fruit, n.e.c.     200   \n",
       "...        ...          ...       ...                         ...     ...   \n",
       "2820       716     Zimbabwe     113.0                        Rice    1543   \n",
       "2821       716     Zimbabwe     141.0                  Soya beans   42288   \n",
       "2822       716     Zimbabwe    1802.0                  Sugar cane   40663   \n",
       "2823       716     Zimbabwe    1234.0                    Tomatoes    3200   \n",
       "2824       716     Zimbabwe     111.0                       Wheat    6478   \n",
       "\n",
       "        2011    2012    2013    2014    2015    2016    2017   2018   2019  \\\n",
       "0       8863    9148   10341   12247   13038   19365   26847  28381  27559   \n",
       "1     190000  280000  278000  342472  282000  219208   68179  84147  84070   \n",
       "2      61558   61690   62118   78405   78681   82450   87194  87517  89593   \n",
       "3     183000  141000  142000  127000  147273  151900  134225  72433  94910   \n",
       "4        200     200     300     300     300    1662    1643   1700   3391   \n",
       "...      ...     ...     ...     ...     ...     ...     ...    ...    ...   \n",
       "2820    1911    2833    2960    3755    4626    3780    3543   3371   2529   \n",
       "2821   44672   50408   50785   60616   44155   39935   23515  37307  33136   \n",
       "2822   42828   53486   46605   43121   43094   43500   41000  45000  46000   \n",
       "2823    3146    3300    3300    3370    3508    3498    3481   3602   3607   \n",
       "2824    8645   21377   21753   18059   22114   22094   22070  16700  24186   \n",
       "\n",
       "        2020   2021  \n",
       "0      25643  26540  \n",
       "1      86099  84072  \n",
       "2      92584  96560  \n",
       "3     140498  92144  \n",
       "4        449   1403  \n",
       "...      ...    ...  \n",
       "2820    1260   3466  \n",
       "2821   32874  34648  \n",
       "2822   47000  47000  \n",
       "2823    3564   3591  \n",
       "2824   44466  66434  \n",
       "\n",
       "[2825 rows x 16 columns]"
      ]
     },
     "execution_count": 144,
     "metadata": {},
     "output_type": "execute_result"
    }
   ],
   "source": [
    "df"
   ]
  },
  {
   "cell_type": "code",
   "execution_count": 152,
   "metadata": {},
   "outputs": [],
   "source": [
    "import re\n",
    "# Clean with regex column \"Items\" to match other Data Frames.\n",
    "df[\"Item\"] = df[\"Item\"].str.replace(\"n\\.e\\.c\\.\", \"\", regex=True)\n",
    "df[\"Item\"] = df[\"Item\"].str.replace(\".*Other berries and fruits of the genus vaccinium.*\", 'Berries & Grapes', regex=True)\n",
    "df[\"Item\"] = df[\"Item\"].str.replace('.*Onions and shallots, green*.', 'Onions & Leeks', regex=True)\n",
    "df[\"Item\"] = df[\"Item\"].str.replace(\".*Beer of barley, malted*.\", 'Beer', regex=True)\n",
    "df[\"Item\"] = df[\"Item\"].str.replace(\".*Barley*.\", 'Beer', regex=True)\n",
    "df[\"Item\"] = df[\"Item\"].str.replace('.*Brazil nuts, in shell*.', \"Nuts\", regex=True)\n",
    "df[\"Item\"] = df[\"Item\"].str.replace(\".*Cocoa beans*.\", \"Chocolate\", regex=True)\n",
    "df[\"Item\"] = df[\"Item\"].str.replace('.*Coffee, green*.', \"Coffee\", regex=True)\n",
    "df[\"Item\"] = df[\"Item\"].str.replace('.*Groundnuts, excluding shelled*.', \"Groundnuts\", regex=True)\n",
    "df[\"Item\"] = df[\"Item\"].str.replace('.*Edible roots and tubers with high starch or inulin content, , fresh*.', 'Root Vegetables', regex=True)\n",
    "df[\"Item\"] = df[\"Item\"].str.replace('.*Oats*.', \"Oatmeal\", regex=True)\n",
    "df[\"Item\"] = df[\"Item\"].str.replace('.*Other citrus fruit,*.', 'Citrus Fruit', regex=True)\n",
    "df[\"Item\"] = df[\"Item\"].str.replace('.*Other fruits*.', 'Other Fruit', regex=True)\n",
    "df[\"Item\"] = df[\"Item\"].str.replace('.*Meat of pig with the bome, fresh or chilled', \"Pig\", regex=True)\n",
    "df[\"Item\"] = df[\"Item\"].str.replace('.*Meat of cattle with the bone, fresh or chilled', 'Beef', regex=True)\n",
    "df[\"Item\"] = df[\"Item\"].str.replace('.*Walnuts, in shell*.', 'Nuts', regex=True)\n",
    "df[\"Item\"] = df[\"Item\"].str.replace('.*Hazelnuts, in shell*.', 'Nuts', regex=True)\n",
    "df[\"Item\"] = df[\"Item\"].str.replace('.*Peas, dry*.', 'Peas', regex=True)\n",
    "df[\"Item\"] = df[\"Item\"].str.replace('.*Sugar beet*.', 'Beet Sugar', regex=True)\n",
    "df[\"Item\"] = df[\"Item\"].str.replace('.*Soya beans*.', 'Beet Sugar', regex=True)\n",
    "df[\"Item\"] = df[\"Item\"].str.replace('.*Other vegetables, fresh *.', 'Other Vegetables', regex=True)\n"
   ]
  },
  {
   "cell_type": "code",
   "execution_count": 153,
   "metadata": {},
   "outputs": [
    {
     "name": "stdout",
     "output_type": "stream",
     "text": [
      "{'Wheat', 'Potatoes', 'Oatmealealeal', 'Onions & Leeks', 'Citrus Fruit', 'Root Vegetables', 'Groundnuts', 'Peas', 'Beet Sugar', 'Rice', 'Other Fruit ', 'Chocolate', 'Bananas', 'Tomatoes', 'Sugar cane', 'Nuts', 'Beer', 'Grapes', 'Other pulses ', 'Other Vegetables', 'Coffee', 'Maize (corn)', 'Apples'}\n"
     ]
    }
   ],
   "source": [
    "print(set(df[\"Item\"]))"
   ]
  },
  {
   "attachments": {},
   "cell_type": "markdown",
   "metadata": {},
   "source": [
    "{'Wheat', 'Other vegetables, fresh n.e.c.', 'Barley', 'Onions and shallots, green', 'Potatoes', 'Hazelnuts, in shell', 'Other fruits, n.e.c.', 'Peas, dry', 'Sugar beet', 'Soya beans', 'Other pulses n.e.c.', 'Rice', 'Bananas', 'Other citrus fruit, n.e.c.', 'Cocoa beans', 'Tomatoes', 'Sugar cane', 'Groundnuts, excluding shelled', 'Oats', 'Walnuts, in shell', 'Grapes', 'Edible roots and tubers with high starch or inulin content, n.e.c., fresh', 'Maize (corn)', 'Coffee, green', 'Apples'}"
   ]
  },
  {
   "cell_type": "code",
   "execution_count": null,
   "metadata": {},
   "outputs": [],
   "source": []
  }
 ],
 "metadata": {
  "kernelspec": {
   "display_name": "proy4",
   "language": "python",
   "name": "python3"
  },
  "language_info": {
   "codemirror_mode": {
    "name": "ipython",
    "version": 3
   },
   "file_extension": ".py",
   "mimetype": "text/x-python",
   "name": "python",
   "nbconvert_exporter": "python",
   "pygments_lexer": "ipython3",
   "version": "3.10.9"
  },
  "orig_nbformat": 4,
  "vscode": {
   "interpreter": {
    "hash": "b3dfe1283fda9364cc2362416e4bfe66337331c733e8ef7132f45b573e2561ec"
   }
  }
 },
 "nbformat": 4,
 "nbformat_minor": 2
}
