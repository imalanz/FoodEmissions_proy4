{
 "cells": [
  {
   "attachments": {},
   "cell_type": "markdown",
   "metadata": {},
   "source": [
    "# ANALYSIS.\n",
    "## Producer price DB."
   ]
  },
  {
   "cell_type": "code",
   "execution_count": 2,
   "metadata": {},
   "outputs": [
    {
     "ename": "ModuleNotFoundError",
     "evalue": "No module named 'src'",
     "output_type": "error",
     "traceback": [
      "\u001b[1;31m---------------------------------------------------------------------------\u001b[0m",
      "\u001b[1;31mModuleNotFoundError\u001b[0m                       Traceback (most recent call last)",
      "Cell \u001b[1;32mIn[2], line 7\u001b[0m\n\u001b[0;32m      4\u001b[0m warnings\u001b[39m.\u001b[39mfilterwarnings(\u001b[39m\"\u001b[39m\u001b[39mignore\u001b[39m\u001b[39m\"\u001b[39m)\n\u001b[0;32m      6\u001b[0m \u001b[39mimport\u001b[39;00m \u001b[39mimportlib\u001b[39;00m\n\u001b[1;32m----> 7\u001b[0m \u001b[39mimport\u001b[39;00m \u001b[39msrc\u001b[39;00m\u001b[39m.\u001b[39;00m\u001b[39manalysis\u001b[39;00m \u001b[39mas\u001b[39;00m \u001b[39man\u001b[39;00m\n\u001b[0;32m      8\u001b[0m \u001b[39mimport\u001b[39;00m \u001b[39msys\u001b[39;00m \n\u001b[0;32m      9\u001b[0m an \u001b[39m=\u001b[39m sys\u001b[39m.\u001b[39mpath\u001b[39m.\u001b[39mappend(\u001b[39m\"\u001b[39m\u001b[39m\\\u001b[39m\u001b[39msrc\u001b[39m\u001b[39m\\\\\u001b[39;00m\u001b[39manalysis.py\u001b[39m\u001b[39m\"\u001b[39m)\n",
      "\u001b[1;31mModuleNotFoundError\u001b[0m: No module named 'src'"
     ]
    }
   ],
   "source": [
    "import pandas as pd\n",
    "import re\n",
    "import warnings\n",
    "warnings.filterwarnings(\"ignore\")\n",
    "\n",
    "import importlib\n",
    "import src.analysis as an\n",
    "import sys \n",
    "an = sys.path.append(\"\\src\\\\analysis.py\")"
   ]
  },
  {
   "attachments": {},
   "cell_type": "markdown",
   "metadata": {},
   "source": [
    "IMPORT roducer price data set."
   ]
  },
  {
   "cell_type": "code",
   "execution_count": 34,
   "metadata": {},
   "outputs": [
    {
     "data": {
      "text/html": [
       "<div>\n",
       "<style scoped>\n",
       "    .dataframe tbody tr th:only-of-type {\n",
       "        vertical-align: middle;\n",
       "    }\n",
       "\n",
       "    .dataframe tbody tr th {\n",
       "        vertical-align: top;\n",
       "    }\n",
       "\n",
       "    .dataframe thead th {\n",
       "        text-align: right;\n",
       "    }\n",
       "</style>\n",
       "<table border=\"1\" class=\"dataframe\">\n",
       "  <thead>\n",
       "    <tr style=\"text-align: right;\">\n",
       "      <th></th>\n",
       "      <th>Domain Code</th>\n",
       "      <th>Domain</th>\n",
       "      <th>Area Code (M49)</th>\n",
       "      <th>Area</th>\n",
       "      <th>Element Code</th>\n",
       "      <th>Element</th>\n",
       "      <th>Item Code (CPC)</th>\n",
       "      <th>Item</th>\n",
       "      <th>Year Code</th>\n",
       "      <th>Year</th>\n",
       "      <th>Months Code</th>\n",
       "      <th>Months</th>\n",
       "      <th>Unit</th>\n",
       "      <th>Value</th>\n",
       "    </tr>\n",
       "  </thead>\n",
       "  <tbody>\n",
       "    <tr>\n",
       "      <th>10879</th>\n",
       "      <td>PP</td>\n",
       "      <td>Producer Prices</td>\n",
       "      <td>504</td>\n",
       "      <td>Morocco</td>\n",
       "      <td>5532</td>\n",
       "      <td>Producer Price (USD/tonne)</td>\n",
       "      <td>1354.0</td>\n",
       "      <td>Strawberries</td>\n",
       "      <td>2014</td>\n",
       "      <td>2014</td>\n",
       "      <td>7021</td>\n",
       "      <td>Annual value</td>\n",
       "      <td>USD</td>\n",
       "      <td>1025.4</td>\n",
       "    </tr>\n",
       "  </tbody>\n",
       "</table>\n",
       "</div>"
      ],
      "text/plain": [
       "      Domain Code           Domain  Area Code (M49)     Area  Element Code  \\\n",
       "10879          PP  Producer Prices              504  Morocco          5532   \n",
       "\n",
       "                          Element  Item Code (CPC)          Item  Year Code  \\\n",
       "10879  Producer Price (USD/tonne)           1354.0  Strawberries       2014   \n",
       "\n",
       "       Year  Months Code        Months Unit   Value  \n",
       "10879  2014         7021  Annual value  USD  1025.4  "
      ]
     },
     "execution_count": 34,
     "metadata": {},
     "output_type": "execute_result"
    }
   ],
   "source": [
    "price= pd.read_csv(\"D:\\ironhack\\proyectos\\_proy4\\csv\\\\food_production\\producer_price.csv\")\n",
    "price.sample()"
   ]
  },
  {
   "attachments": {},
   "cell_type": "markdown",
   "metadata": {},
   "source": [
    "Clean Data Base."
   ]
  },
  {
   "cell_type": "code",
   "execution_count": 7,
   "metadata": {},
   "outputs": [],
   "source": [
    "# Drop columns.\n",
    "price.drop(columns=[\"Domain\", \"Domain Code\", \"Element Code\", \"Element\", \"Year Code\", \"Months\", \"Months Code\"],inplace=True)"
   ]
  },
  {
   "cell_type": "code",
   "execution_count": 8,
   "metadata": {},
   "outputs": [],
   "source": [
    "# Change names.\n",
    "price.rename(columns={\"Area Code (M49)\":\"Area Code\", \"Item Code (CPC)\": \"Item Code\"}, inplace= True)"
   ]
  },
  {
   "cell_type": "code",
   "execution_count": 9,
   "metadata": {},
   "outputs": [],
   "source": [
    "def iterate_column_years (df, year):\n",
    "    # iterate 2010\n",
    "    x = {index:[row[0],row[1],row[2],row[3],row[6]] for index, row in df.iterrows() if row[4] == year}\n",
    "    df = pd.DataFrame.from_dict(x, orient=\"index\")\n",
    "    df.rename(columns= {0: \"Area Code\", 1:\"Area\", 2:\"Item Code\", 3:\"Item\", 4:year}, inplace = True)\n",
    "    df[\"Item\"] = df[\"Item\"].astype(object)\n",
    "    df[\"Area\"] = df[\"Area\"].astype(object)\n",
    "    df[year] = df[year].astype(object)\n",
    "    \n",
    "    return df.drop_duplicates(subset=['Area Code', 'Item Code'], keep='last')"
   ]
  },
  {
   "attachments": {},
   "cell_type": "markdown",
   "metadata": {},
   "source": [
    "Iteration throw each year and create column with year."
   ]
  },
  {
   "cell_type": "code",
   "execution_count": 10,
   "metadata": {},
   "outputs": [],
   "source": [
    "# iterate 2010\n",
    "df2010 = iterate_column_years (price, 2010)"
   ]
  },
  {
   "cell_type": "code",
   "execution_count": 11,
   "metadata": {},
   "outputs": [],
   "source": [
    "# iterate 2011\n",
    "df2011 = iterate_column_years (price, 2011)"
   ]
  },
  {
   "cell_type": "code",
   "execution_count": 12,
   "metadata": {},
   "outputs": [],
   "source": [
    "# iterate 2012\n",
    "df2012 = iterate_column_years (price, 2012)"
   ]
  },
  {
   "cell_type": "code",
   "execution_count": 13,
   "metadata": {},
   "outputs": [],
   "source": [
    "# iterate 2013\n",
    "df2013 = iterate_column_years (price, 2013)"
   ]
  },
  {
   "cell_type": "code",
   "execution_count": 14,
   "metadata": {},
   "outputs": [],
   "source": [
    "# iterate 2014\n",
    "df2014 = iterate_column_years (price, 2014)"
   ]
  },
  {
   "cell_type": "code",
   "execution_count": 15,
   "metadata": {},
   "outputs": [],
   "source": [
    "# iterate 2015\n",
    "df2015 = iterate_column_years (price, 2015)"
   ]
  },
  {
   "cell_type": "code",
   "execution_count": 16,
   "metadata": {},
   "outputs": [],
   "source": [
    "# iterate 2016\n",
    "df2016 = iterate_column_years (price, 2016)"
   ]
  },
  {
   "cell_type": "code",
   "execution_count": 17,
   "metadata": {},
   "outputs": [],
   "source": [
    "# iterate 2017\n",
    "df2017 = iterate_column_years (price, 2017)"
   ]
  },
  {
   "cell_type": "code",
   "execution_count": 18,
   "metadata": {},
   "outputs": [],
   "source": [
    "# iterate 2018\n",
    "df2018 = iterate_column_years (price, 2018)"
   ]
  },
  {
   "cell_type": "code",
   "execution_count": 19,
   "metadata": {},
   "outputs": [],
   "source": [
    "# iterate 2019\n",
    "df2019 = iterate_column_years (price, 2019)"
   ]
  },
  {
   "cell_type": "code",
   "execution_count": 20,
   "metadata": {},
   "outputs": [],
   "source": [
    "# iterate 2020\n",
    "df2020 = iterate_column_years (price, 2020)"
   ]
  },
  {
   "attachments": {},
   "cell_type": "markdown",
   "metadata": {},
   "source": [
    "Drop columns of production and duplicates, and change types."
   ]
  },
  {
   "cell_type": "code",
   "execution_count": 21,
   "metadata": {},
   "outputs": [],
   "source": [
    "def clean2_df (df):\n",
    "    df.drop(columns=[\"Year\", \"Value\", \"Unit\"],inplace=True)\n",
    "    df[\"Item Code\"] = df[\"Item Code\"].astype(object)\n",
    "    df[\"Area Code\"] = df[\"Area Code\"].astype(object)\n",
    "    # drop duplicates.\n",
    "    df.drop_duplicates(inplace=True)\n",
    "    return df"
   ]
  },
  {
   "cell_type": "code",
   "execution_count": 22,
   "metadata": {},
   "outputs": [
    {
     "data": {
      "text/html": [
       "<div>\n",
       "<style scoped>\n",
       "    .dataframe tbody tr th:only-of-type {\n",
       "        vertical-align: middle;\n",
       "    }\n",
       "\n",
       "    .dataframe tbody tr th {\n",
       "        vertical-align: top;\n",
       "    }\n",
       "\n",
       "    .dataframe thead th {\n",
       "        text-align: right;\n",
       "    }\n",
       "</style>\n",
       "<table border=\"1\" class=\"dataframe\">\n",
       "  <thead>\n",
       "    <tr style=\"text-align: right;\">\n",
       "      <th></th>\n",
       "      <th>Area Code</th>\n",
       "      <th>Area</th>\n",
       "      <th>Item Code</th>\n",
       "      <th>Item</th>\n",
       "    </tr>\n",
       "  </thead>\n",
       "  <tbody>\n",
       "    <tr>\n",
       "      <th>0</th>\n",
       "      <td>8</td>\n",
       "      <td>Albania</td>\n",
       "      <td>1341.0</td>\n",
       "      <td>Apples</td>\n",
       "    </tr>\n",
       "    <tr>\n",
       "      <th>11</th>\n",
       "      <td>8</td>\n",
       "      <td>Albania</td>\n",
       "      <td>115.0</td>\n",
       "      <td>Barley</td>\n",
       "    </tr>\n",
       "    <tr>\n",
       "      <th>22</th>\n",
       "      <td>8</td>\n",
       "      <td>Albania</td>\n",
       "      <td>231.0</td>\n",
       "      <td>Hen eggs in shell, fresh</td>\n",
       "    </tr>\n",
       "    <tr>\n",
       "      <th>33</th>\n",
       "      <td>8</td>\n",
       "      <td>Albania</td>\n",
       "      <td>112.0</td>\n",
       "      <td>Maize (corn)</td>\n",
       "    </tr>\n",
       "    <tr>\n",
       "      <th>44</th>\n",
       "      <td>8</td>\n",
       "      <td>Albania</td>\n",
       "      <td>21111.01</td>\n",
       "      <td>Meat of cattle with the bone, fresh or chilled</td>\n",
       "    </tr>\n",
       "    <tr>\n",
       "      <th>...</th>\n",
       "      <td>...</td>\n",
       "      <td>...</td>\n",
       "      <td>...</td>\n",
       "      <td>...</td>\n",
       "    </tr>\n",
       "    <tr>\n",
       "      <th>18189</th>\n",
       "      <td>716</td>\n",
       "      <td>Zimbabwe</td>\n",
       "      <td>1510.0</td>\n",
       "      <td>Potatoes</td>\n",
       "    </tr>\n",
       "    <tr>\n",
       "      <th>18192</th>\n",
       "      <td>716</td>\n",
       "      <td>Zimbabwe</td>\n",
       "      <td>2211.0</td>\n",
       "      <td>Raw milk of cattle</td>\n",
       "    </tr>\n",
       "    <tr>\n",
       "      <th>18193</th>\n",
       "      <td>716</td>\n",
       "      <td>Zimbabwe</td>\n",
       "      <td>1802.0</td>\n",
       "      <td>Sugar cane</td>\n",
       "    </tr>\n",
       "    <tr>\n",
       "      <th>18196</th>\n",
       "      <td>716</td>\n",
       "      <td>Zimbabwe</td>\n",
       "      <td>1234.0</td>\n",
       "      <td>Tomatoes</td>\n",
       "    </tr>\n",
       "    <tr>\n",
       "      <th>18199</th>\n",
       "      <td>716</td>\n",
       "      <td>Zimbabwe</td>\n",
       "      <td>111.0</td>\n",
       "      <td>Wheat</td>\n",
       "    </tr>\n",
       "  </tbody>\n",
       "</table>\n",
       "<p>2155 rows × 4 columns</p>\n",
       "</div>"
      ],
      "text/plain": [
       "      Area Code      Area Item Code  \\\n",
       "0             8   Albania    1341.0   \n",
       "11            8   Albania     115.0   \n",
       "22            8   Albania     231.0   \n",
       "33            8   Albania     112.0   \n",
       "44            8   Albania  21111.01   \n",
       "...         ...       ...       ...   \n",
       "18189       716  Zimbabwe    1510.0   \n",
       "18192       716  Zimbabwe    2211.0   \n",
       "18193       716  Zimbabwe    1802.0   \n",
       "18196       716  Zimbabwe    1234.0   \n",
       "18199       716  Zimbabwe     111.0   \n",
       "\n",
       "                                                 Item  \n",
       "0                                              Apples  \n",
       "11                                             Barley  \n",
       "22                           Hen eggs in shell, fresh  \n",
       "33                                       Maize (corn)  \n",
       "44     Meat of cattle with the bone, fresh or chilled  \n",
       "...                                               ...  \n",
       "18189                                        Potatoes  \n",
       "18192                              Raw milk of cattle  \n",
       "18193                                      Sugar cane  \n",
       "18196                                        Tomatoes  \n",
       "18199                                           Wheat  \n",
       "\n",
       "[2155 rows x 4 columns]"
      ]
     },
     "execution_count": 22,
     "metadata": {},
     "output_type": "execute_result"
    }
   ],
   "source": [
    "clean2_df (price)"
   ]
  },
  {
   "attachments": {},
   "cell_type": "markdown",
   "metadata": {},
   "source": [
    "Merge all data frames to 1."
   ]
  },
  {
   "cell_type": "code",
   "execution_count": 23,
   "metadata": {},
   "outputs": [],
   "source": [
    "def merging_price (df, df2010, df2011, df2012, df2013, df2014, df2015, df2016, df2017, df2018, df2019, df2020):\n",
    "    z = pd.merge(df, df2010, how=\"left\").merge(df2011, how=\"left\").merge(df2012, how=\"left\")\n",
    "    z = pd.merge(z, df2013, how=\"left\").merge(df2014, how=\"left\").merge(df2015, how=\"left\")\n",
    "    z = pd.merge(z, df2016, how=\"left\").merge(df2017, how=\"left\").merge(df2018, how=\"left\")        \n",
    "    z = pd.merge(z, df2019, how=\"left\").merge(df2020, how=\"left\") \n",
    "    return z"
   ]
  },
  {
   "cell_type": "code",
   "execution_count": 24,
   "metadata": {},
   "outputs": [],
   "source": [
    "df = merging_price (price, df2010, df2011, df2012, df2013, df2014, df2015, df2016, df2017, df2018, df2019, df2020)"
   ]
  },
  {
   "cell_type": "code",
   "execution_count": 31,
   "metadata": {},
   "outputs": [],
   "source": [
    "def replace_items (df):\n",
    "    import re\n",
    "    # Clean with regex column \"Items\" to match other Data Frames.\n",
    "    df[\"Item\"] = df[\"Item\"].str.replace(\"n\\.e\\.c\\.\", \"\", regex=True)\n",
    "    df[\"Item\"] = df[\"Item\"].str.replace(\".*Other berries and fruits of the genus vaccinium.*\", 'Berries & Grapes', regex=True)\n",
    "    df[\"Item\"] = df[\"Item\"].str.replace('.*Onions and shallots, green*.', 'Onions & Leeks', regex=True)\n",
    "    df[\"Item\"] = df[\"Item\"].str.replace(\".*Beer of barley, malted*.\", 'Beer', regex=True)\n",
    "    df[\"Item\"] = df[\"Item\"].str.replace(\".*Barley*.\", 'Beer', regex=True)\n",
    "    df[\"Item\"] = df[\"Item\"].str.replace('.*Brazil nuts, in shell*.', \"Nuts\", regex=True)\n",
    "    df[\"Item\"] = df[\"Item\"].str.replace(\".*Cocoa beans*.\", \"Chocolate\", regex=True)\n",
    "    df[\"Item\"] = df[\"Item\"].str.replace('.*Coffee, green*.', \"Coffee\", regex=True)\n",
    "    df[\"Item\"] = df[\"Item\"].str.replace('.*Groundnuts, excluding shelled*.', \"Groundnuts\", regex=True)\n",
    "    df[\"Item\"] = df[\"Item\"].str.replace('.*Edible roots and tubers with high starch or inulin content, , fresh*.', 'Root Vegetables', regex=True)\n",
    "    df[\"Item\"] = df[\"Item\"].str.replace('.*Oats*.', \"Oatmeal\", regex=True)\n",
    "    df[\"Item\"] = df[\"Item\"].str.replace('.*Other citrus fruit,*.', 'Citrus Fruit', regex=True)\n",
    "    df[\"Item\"] = df[\"Item\"].str.replace('.*Other fruits*.', 'Other Fruit', regex=True)\n",
    "    df[\"Item\"] = df[\"Item\"].str.replace('.*Meat of pig with the bome, fresh or chilled', \"Pig\", regex=True)\n",
    "    df[\"Item\"] = df[\"Item\"].str.replace('.*Meat of cattle with the bone, fresh or chilled', 'Beef', regex=True)\n",
    "    df[\"Item\"] = df[\"Item\"].str.replace('.*Walnuts, in shell*.', 'Nuts', regex=True)\n",
    "    df[\"Item\"] = df[\"Item\"].str.replace('.*Hazelnuts, in shell*.', 'Nuts', regex=True)\n",
    "    df[\"Item\"] = df[\"Item\"].str.replace('.*Peas, dry*.', 'Peas', regex=True)\n",
    "    df[\"Item\"] = df[\"Item\"].str.replace('.*Sugar beet*.', 'Beet Sugar', regex=True)\n",
    "    df[\"Item\"] = df[\"Item\"].str.replace('.*Soya beans*.', 'Beet Sugar', regex=True)\n",
    "    df[\"Item\"] = df[\"Item\"].str.replace('.*Other vegetables, fresh *.', 'Other Vegetables', regex=True)\n",
    "    df[\"Item\"] = df[\"Item\"].str.replace('.*Hen eggs in shell, fresh*.', 'Eggs', regex=True)\n",
    "    df[\"Item\"] = df[\"Item\"].str.replace('.*Gooseberries*.', 'Berries & Grapes', regex=True)\n",
    "    df[\"Item\"] = df[\"Item\"].str.replace('.*Raw hides and skins of sheep or lambs*.', 'Lamb & Mutton', regex=True)\n",
    "    df[\"Item\"] = df[\"Item\"].str.replace('.*Strawberries*.', 'Berries & Grapes', regex=True)\n",
    "    df[\"Item\"] = df[\"Item\"].str.replace('.*Cranberries*.', 'Berries & Grapes', regex=True)\n",
    "    df[\"Item\"] = df[\"Item\"].str.replace('.*Raw milk of cattle*.', 'Milk', regex=True)\n",
    "    df[\"Item\"] = df[\"Item\"].str.replace('.*Cassava, fresh*.', 'Cassava', regex=True)\n",
    "    df[\"Item\"] = df[\"Item\"].str.replace('.*Meat of pig with the bone, fresh or chilled*.', 'Pig Meat', regex=True)\n",
    "    df[\"Item\"] = df[\"Item\"].str.replace('.*Chick peas, dry*.', 'Peas', regex=True)\n",
    "    df[\"Item\"] = df[\"Item\"].str.replace('.*Sunflower-seed oil, crude*.', 'Sunflower Oil', regex=True)\n",
    "    df[\"Item\"] = df[\"Item\"].str.replace('.*Meat of chickens, fresh or chilled*.', 'Poultry Meat', regex=True)\n",
    "    df[\"Item\"] = df[\"Item\"].str.replace('.*Rapeseed or canola oil, crude*.', 'Rapeseed Oil', regex=True)\n",
    "    df[\"Item\"] = df[\"Item\"].str.replace('.*Peas, green*.', 'Peas', regex=True)\n",
    "    df[\"Item\"] = df[\"Item\"].str.replace('.*Cow peas, dry*.', 'Peas', regex=True)\n",
    "    df[\"Item\"] = df[\"Item\"].str.replace('.*Raspberries*.', 'Berries & Grapes', regex=True)\n",
    "    df[\"Item\"] = df[\"Item\"].str.replace('.*Blueberries*.', 'Berries & Grapes', regex=True)\n",
    "    df[\"Item\"] = df[\"Item\"].str.replace('.*Cheese from whole cow milk*.', 'Cheese', regex=True)\n",
    "    df[\"Item\"] = df[\"Item\"].str.title()\n",
    "    df[\"Item\"] = df[\"Item\"].str.strip()\n",
    "    return df"
   ]
  },
  {
   "cell_type": "code",
   "execution_count": 32,
   "metadata": {},
   "outputs": [],
   "source": [
    "df = replace_items (df)"
   ]
  },
  {
   "cell_type": "code",
   "execution_count": 33,
   "metadata": {},
   "outputs": [
    {
     "name": "stdout",
     "output_type": "stream",
     "text": [
      "{'Chocolate', 'Beer', 'Wheat', 'Nuts', 'Oatmealealeal', 'Peas', 'Cassava', 'Beet Sugar', 'Milk', 'Potatoes', 'Rice', 'Tomatoes', 'Groundnuts', 'Poultry Meat', 'Other Fruit', 'Berries & Grapes', 'Bananas', 'Sunflower Seed', 'Palm Oil', 'Other Pulses', 'Cashew Nuts, In Shell', 'Coffee', 'Onions & Leeks', 'Apples', 'Citrus Fruit', 'Maize (Corn)', 'Eggs', 'Sugar Cane', 'Other Oil Seeds,', 'Almonds, In Shell', 'Other Vegetables', 'Root Vegetables', 'Beef', 'Pig Meat'}\n"
     ]
    }
   ],
   "source": [
    "print(set(df[\"Item\"]))"
   ]
  },
  {
   "attachments": {},
   "cell_type": "markdown",
   "metadata": {},
   "source": [
    "Export to csv."
   ]
  },
  {
   "cell_type": "code",
   "execution_count": 36,
   "metadata": {},
   "outputs": [],
   "source": [
    "df.to_csv(\"D:\\ironhack\\proyectos\\_proy4\\csv\\csv_from_python\\producer_price.csv\", index=False)"
   ]
  },
  {
   "cell_type": "code",
   "execution_count": null,
   "metadata": {},
   "outputs": [],
   "source": []
  }
 ],
 "metadata": {
  "kernelspec": {
   "display_name": "proy4",
   "language": "python",
   "name": "python3"
  },
  "language_info": {
   "codemirror_mode": {
    "name": "ipython",
    "version": 3
   },
   "file_extension": ".py",
   "mimetype": "text/x-python",
   "name": "python",
   "nbconvert_exporter": "python",
   "pygments_lexer": "ipython3",
   "version": "3.10.9"
  },
  "orig_nbformat": 4,
  "vscode": {
   "interpreter": {
    "hash": "b3dfe1283fda9364cc2362416e4bfe66337331c733e8ef7132f45b573e2561ec"
   }
  }
 },
 "nbformat": 4,
 "nbformat_minor": 2
}
