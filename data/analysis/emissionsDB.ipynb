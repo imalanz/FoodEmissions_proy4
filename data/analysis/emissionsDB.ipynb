{
 "cells": [
  {
   "attachments": {},
   "cell_type": "markdown",
   "metadata": {},
   "source": [
    "# ANALYSIS.\n",
    "## Emissions DB."
   ]
  },
  {
   "cell_type": "code",
   "execution_count": 1,
   "metadata": {},
   "outputs": [
    {
     "ename": "ModuleNotFoundError",
     "evalue": "No module named 'src'",
     "output_type": "error",
     "traceback": [
      "\u001b[1;31m---------------------------------------------------------------------------\u001b[0m",
      "\u001b[1;31mModuleNotFoundError\u001b[0m                       Traceback (most recent call last)",
      "Cell \u001b[1;32mIn[1], line 7\u001b[0m\n\u001b[0;32m      4\u001b[0m warnings\u001b[39m.\u001b[39mfilterwarnings(\u001b[39m\"\u001b[39m\u001b[39mignore\u001b[39m\u001b[39m\"\u001b[39m)\n\u001b[0;32m      6\u001b[0m \u001b[39mimport\u001b[39;00m \u001b[39mimportlib\u001b[39;00m\n\u001b[1;32m----> 7\u001b[0m \u001b[39mimport\u001b[39;00m \u001b[39msrc\u001b[39;00m\u001b[39m.\u001b[39;00m\u001b[39manalysis\u001b[39;00m \u001b[39mas\u001b[39;00m \u001b[39man\u001b[39;00m\n\u001b[0;32m      8\u001b[0m \u001b[39mimport\u001b[39;00m \u001b[39msys\u001b[39;00m \n\u001b[0;32m      9\u001b[0m an \u001b[39m=\u001b[39m sys\u001b[39m.\u001b[39mpath\u001b[39m.\u001b[39mappend(\u001b[39m\"\u001b[39m\u001b[39m\\\u001b[39m\u001b[39msrc\u001b[39m\u001b[39m\\\\\u001b[39;00m\u001b[39manalysis.py\u001b[39m\u001b[39m\"\u001b[39m)\n",
      "\u001b[1;31mModuleNotFoundError\u001b[0m: No module named 'src'"
     ]
    }
   ],
   "source": [
    "import pandas as pd\n",
    "import re\n",
    "import warnings\n",
    "warnings.filterwarnings(\"ignore\")\n",
    "\n",
    "import importlib\n",
    "import src.analysis as an\n",
    "import sys \n",
    "an = sys.path.append(\"\\src\\\\analysis.py\")"
   ]
  },
  {
   "attachments": {},
   "cell_type": "markdown",
   "metadata": {},
   "source": [
    "IMPORT emissions data set."
   ]
  },
  {
   "cell_type": "code",
   "execution_count": 5,
   "metadata": {},
   "outputs": [],
   "source": [
    "food_emisions = pd.read_csv(\"D:\\ironhack\\proyectos\\_proy4\\csv\\\\Food_emissions.csv\")\n"
   ]
  },
  {
   "cell_type": "code",
   "execution_count": 6,
   "metadata": {},
   "outputs": [
    {
     "data": {
      "text/html": [
       "<div>\n",
       "<style scoped>\n",
       "    .dataframe tbody tr th:only-of-type {\n",
       "        vertical-align: middle;\n",
       "    }\n",
       "\n",
       "    .dataframe tbody tr th {\n",
       "        vertical-align: top;\n",
       "    }\n",
       "\n",
       "    .dataframe thead th {\n",
       "        text-align: right;\n",
       "    }\n",
       "</style>\n",
       "<table border=\"1\" class=\"dataframe\">\n",
       "  <thead>\n",
       "    <tr style=\"text-align: right;\">\n",
       "      <th></th>\n",
       "      <th>Food product</th>\n",
       "      <th>Land use change</th>\n",
       "      <th>Animal Feed</th>\n",
       "      <th>Farm</th>\n",
       "      <th>Processing</th>\n",
       "      <th>Transport</th>\n",
       "      <th>Packging</th>\n",
       "      <th>Retail</th>\n",
       "      <th>Total_emissions</th>\n",
       "      <th>Eutrophying emissions per kilogram (gPO₄eq per kilogram)</th>\n",
       "      <th>Freshwater withdrawals per kilogram (liters per kilogram)</th>\n",
       "      <th>Greenhouse gas emissions per 1000kcal (kgCO₂eq per 1000kcal)</th>\n",
       "      <th>Land use per kilogram (m² per kilogram)</th>\n",
       "      <th>Scarcity-weighted water use per kilogram (liters per kilogram)</th>\n",
       "    </tr>\n",
       "  </thead>\n",
       "  <tbody>\n",
       "    <tr>\n",
       "      <th>8</th>\n",
       "      <td>Beet Sugar</td>\n",
       "      <td>0.0</td>\n",
       "      <td>0.0</td>\n",
       "      <td>0.5</td>\n",
       "      <td>0.2</td>\n",
       "      <td>0.6</td>\n",
       "      <td>0.1</td>\n",
       "      <td>0.0</td>\n",
       "      <td>1.4</td>\n",
       "      <td>5.41</td>\n",
       "      <td>217.7</td>\n",
       "      <td>0.51567</td>\n",
       "      <td>1.83</td>\n",
       "      <td>9493.3</td>\n",
       "    </tr>\n",
       "  </tbody>\n",
       "</table>\n",
       "</div>"
      ],
      "text/plain": [
       "  Food product  Land use change  Animal Feed  Farm  Processing  Transport  \\\n",
       "8   Beet Sugar              0.0          0.0   0.5         0.2        0.6   \n",
       "\n",
       "   Packging  Retail  Total_emissions  \\\n",
       "8       0.1     0.0              1.4   \n",
       "\n",
       "   Eutrophying emissions per kilogram (gPO₄eq per kilogram)  \\\n",
       "8                                               5.41          \n",
       "\n",
       "   Freshwater withdrawals per kilogram (liters per kilogram)  \\\n",
       "8                                              217.7           \n",
       "\n",
       "   Greenhouse gas emissions per 1000kcal (kgCO₂eq per 1000kcal)  \\\n",
       "8                                            0.51567              \n",
       "\n",
       "   Land use per kilogram (m² per kilogram)  \\\n",
       "8                                     1.83   \n",
       "\n",
       "   Scarcity-weighted water use per kilogram (liters per kilogram)  \n",
       "8                                             9493.3               "
      ]
     },
     "execution_count": 6,
     "metadata": {},
     "output_type": "execute_result"
    }
   ],
   "source": [
    "# Drop not necesary columns. \n",
    "food_emisions = food_emisions.drop(columns=[\"Eutrophying emissions per 1000kcal (gPO₄eq per 1000kcal)\", \"Eutrophying emissions per 100g protein (gPO₄eq per 100 grams protein)\",\n",
    "\"Freshwater withdrawals per 1000kcal (liters per 1000kcal)\", \"Freshwater withdrawals per 100g protein (liters per 100g protein)\",\n",
    "\"Greenhouse gas emissions per 100g protein (kgCO₂eq per 100g protein)\", \"Land use per 1000kcal (m² per 1000kcal)\", \"Land use per 100g protein (m² per 100g protein)\",\n",
    "\"Scarcity-weighted water use per 100g protein (liters per 100g protein)\", \"Scarcity-weighted water use per 1000kcal (liters per 1000 kilocalories)\"])\n",
    "food_emisions.sample()"
   ]
  },
  {
   "cell_type": "code",
   "execution_count": 7,
   "metadata": {},
   "outputs": [],
   "source": [
    "#Change names of columns.\n",
    "food_emisions.rename(columns= {\"Eutrophying emissions per 1000kcal (gPO₄eq per 1000kcal)\": \"Eutrophying emissions (gPO₄eq per 1000kcal)\", \n",
    "                               \"Freshwater withdrawals per kilogram (liters per kilogram)\":\"Freshwater withdrawals (liters per kilogram)\", \n",
    "                               \"Greenhouse gas emissions per 1000kcal (kgCO₂eq per 1000kcal)\":\"Greenhouse gas emissions (kgCO₂eq per 1000kcal)\",\n",
    "                               \"Land use per kilogram (m² per kilogram)\":\"Land use (m² per kilogram)\", \n",
    "                               \"Scarcity-weighted water use per kilogram (liters per kilogram)\":\"Scarcity-weighted water use (liters per kilogram)\"\n",
    "                               }, inplace = True)"
   ]
  },
  {
   "cell_type": "code",
   "execution_count": null,
   "metadata": {},
   "outputs": [],
   "source": []
  }
 ],
 "metadata": {
  "kernelspec": {
   "display_name": "proy4",
   "language": "python",
   "name": "python3"
  },
  "language_info": {
   "codemirror_mode": {
    "name": "ipython",
    "version": 3
   },
   "file_extension": ".py",
   "mimetype": "text/x-python",
   "name": "python",
   "nbconvert_exporter": "python",
   "pygments_lexer": "ipython3",
   "version": "3.10.9"
  },
  "orig_nbformat": 4,
  "vscode": {
   "interpreter": {
    "hash": "b3dfe1283fda9364cc2362416e4bfe66337331c733e8ef7132f45b573e2561ec"
   }
  }
 },
 "nbformat": 4,
 "nbformat_minor": 2
}
